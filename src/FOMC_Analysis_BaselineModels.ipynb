{
  "nbformat": 4,
  "nbformat_minor": 0,
  "metadata": {
    "colab": {
      "name": "FOMC_Analysis_BaselineModels.ipynb",
      "provenance": [],
      "collapsed_sections": []
    },
    "kernelspec": {
      "name": "python3",
      "display_name": "Python 3"
    },
    "accelerator": "GPU",
    "widgets": {
      "application/vnd.jupyter.widget-state+json": {
        "a10f990bd8474dbbbdfed63fd4b90bb1": {
          "model_module": "@jupyter-widgets/controls",
          "model_name": "HBoxModel",
          "state": {
            "_view_name": "HBoxView",
            "_dom_classes": [],
            "_model_name": "HBoxModel",
            "_view_module": "@jupyter-widgets/controls",
            "_model_module_version": "1.5.0",
            "_view_count": null,
            "_view_module_version": "1.5.0",
            "box_style": "",
            "layout": "IPY_MODEL_16ef2d394ff24c17927858ac312cd6cb",
            "_model_module": "@jupyter-widgets/controls",
            "children": [
              "IPY_MODEL_b29c3632a2dc4db7b1e05721cb4bbfb3",
              "IPY_MODEL_bc386bc5ee77484f90c75097b23b31e0"
            ]
          }
        },
        "16ef2d394ff24c17927858ac312cd6cb": {
          "model_module": "@jupyter-widgets/base",
          "model_name": "LayoutModel",
          "state": {
            "_view_name": "LayoutView",
            "grid_template_rows": null,
            "right": null,
            "justify_content": null,
            "_view_module": "@jupyter-widgets/base",
            "overflow": null,
            "_model_module_version": "1.2.0",
            "_view_count": null,
            "flex_flow": null,
            "width": null,
            "min_width": null,
            "border": null,
            "align_items": null,
            "bottom": null,
            "_model_module": "@jupyter-widgets/base",
            "top": null,
            "grid_column": null,
            "overflow_y": null,
            "overflow_x": null,
            "grid_auto_flow": null,
            "grid_area": null,
            "grid_template_columns": null,
            "flex": null,
            "_model_name": "LayoutModel",
            "justify_items": null,
            "grid_row": null,
            "max_height": null,
            "align_content": null,
            "visibility": null,
            "align_self": null,
            "height": null,
            "min_height": null,
            "padding": null,
            "grid_auto_rows": null,
            "grid_gap": null,
            "max_width": null,
            "order": null,
            "_view_module_version": "1.2.0",
            "grid_template_areas": null,
            "object_position": null,
            "object_fit": null,
            "grid_auto_columns": null,
            "margin": null,
            "display": null,
            "left": null
          }
        },
        "b29c3632a2dc4db7b1e05721cb4bbfb3": {
          "model_module": "@jupyter-widgets/controls",
          "model_name": "FloatProgressModel",
          "state": {
            "_view_name": "ProgressView",
            "style": "IPY_MODEL_2212f41e0b454fdcbfd4a61f0642a984",
            "_dom_classes": [],
            "description": "100%",
            "_model_name": "FloatProgressModel",
            "bar_style": "success",
            "max": 192,
            "_view_module": "@jupyter-widgets/controls",
            "_model_module_version": "1.5.0",
            "value": 192,
            "_view_count": null,
            "_view_module_version": "1.5.0",
            "orientation": "horizontal",
            "min": 0,
            "description_tooltip": null,
            "_model_module": "@jupyter-widgets/controls",
            "layout": "IPY_MODEL_97910ef682e64068bf66352ce2450759"
          }
        },
        "bc386bc5ee77484f90c75097b23b31e0": {
          "model_module": "@jupyter-widgets/controls",
          "model_name": "HTMLModel",
          "state": {
            "_view_name": "HTMLView",
            "style": "IPY_MODEL_b60fbec962224cf18460460c910b813c",
            "_dom_classes": [],
            "description": "",
            "_model_name": "HTMLModel",
            "placeholder": "​",
            "_view_module": "@jupyter-widgets/controls",
            "_model_module_version": "1.5.0",
            "value": " 192/192 [00:09&lt;00:00, 21.09it/s]",
            "_view_count": null,
            "_view_module_version": "1.5.0",
            "description_tooltip": null,
            "_model_module": "@jupyter-widgets/controls",
            "layout": "IPY_MODEL_81728fa888b04d4aa3f2d4dbe35379dc"
          }
        },
        "2212f41e0b454fdcbfd4a61f0642a984": {
          "model_module": "@jupyter-widgets/controls",
          "model_name": "ProgressStyleModel",
          "state": {
            "_view_name": "StyleView",
            "_model_name": "ProgressStyleModel",
            "description_width": "initial",
            "_view_module": "@jupyter-widgets/base",
            "_model_module_version": "1.5.0",
            "_view_count": null,
            "_view_module_version": "1.2.0",
            "bar_color": null,
            "_model_module": "@jupyter-widgets/controls"
          }
        },
        "97910ef682e64068bf66352ce2450759": {
          "model_module": "@jupyter-widgets/base",
          "model_name": "LayoutModel",
          "state": {
            "_view_name": "LayoutView",
            "grid_template_rows": null,
            "right": null,
            "justify_content": null,
            "_view_module": "@jupyter-widgets/base",
            "overflow": null,
            "_model_module_version": "1.2.0",
            "_view_count": null,
            "flex_flow": null,
            "width": null,
            "min_width": null,
            "border": null,
            "align_items": null,
            "bottom": null,
            "_model_module": "@jupyter-widgets/base",
            "top": null,
            "grid_column": null,
            "overflow_y": null,
            "overflow_x": null,
            "grid_auto_flow": null,
            "grid_area": null,
            "grid_template_columns": null,
            "flex": null,
            "_model_name": "LayoutModel",
            "justify_items": null,
            "grid_row": null,
            "max_height": null,
            "align_content": null,
            "visibility": null,
            "align_self": null,
            "height": null,
            "min_height": null,
            "padding": null,
            "grid_auto_rows": null,
            "grid_gap": null,
            "max_width": null,
            "order": null,
            "_view_module_version": "1.2.0",
            "grid_template_areas": null,
            "object_position": null,
            "object_fit": null,
            "grid_auto_columns": null,
            "margin": null,
            "display": null,
            "left": null
          }
        },
        "b60fbec962224cf18460460c910b813c": {
          "model_module": "@jupyter-widgets/controls",
          "model_name": "DescriptionStyleModel",
          "state": {
            "_view_name": "StyleView",
            "_model_name": "DescriptionStyleModel",
            "description_width": "",
            "_view_module": "@jupyter-widgets/base",
            "_model_module_version": "1.5.0",
            "_view_count": null,
            "_view_module_version": "1.2.0",
            "_model_module": "@jupyter-widgets/controls"
          }
        },
        "81728fa888b04d4aa3f2d4dbe35379dc": {
          "model_module": "@jupyter-widgets/base",
          "model_name": "LayoutModel",
          "state": {
            "_view_name": "LayoutView",
            "grid_template_rows": null,
            "right": null,
            "justify_content": null,
            "_view_module": "@jupyter-widgets/base",
            "overflow": null,
            "_model_module_version": "1.2.0",
            "_view_count": null,
            "flex_flow": null,
            "width": null,
            "min_width": null,
            "border": null,
            "align_items": null,
            "bottom": null,
            "_model_module": "@jupyter-widgets/base",
            "top": null,
            "grid_column": null,
            "overflow_y": null,
            "overflow_x": null,
            "grid_auto_flow": null,
            "grid_area": null,
            "grid_template_columns": null,
            "flex": null,
            "_model_name": "LayoutModel",
            "justify_items": null,
            "grid_row": null,
            "max_height": null,
            "align_content": null,
            "visibility": null,
            "align_self": null,
            "height": null,
            "min_height": null,
            "padding": null,
            "grid_auto_rows": null,
            "grid_gap": null,
            "max_width": null,
            "order": null,
            "_view_module_version": "1.2.0",
            "grid_template_areas": null,
            "object_position": null,
            "object_fit": null,
            "grid_auto_columns": null,
            "margin": null,
            "display": null,
            "left": null
          }
        }
      }
    }
  },
  "cells": [
    {
      "cell_type": "markdown",
      "metadata": {
        "id": "lHecaO_7JG6L",
        "colab_type": "text"
      },
      "source": [
        "## Preparation"
      ]
    },
    {
      "cell_type": "code",
      "metadata": {
        "id": "yu6fmsYrywdW",
        "colab_type": "code",
        "colab": {}
      },
      "source": [
        "# # TPU Setting\n",
        "# import os\n",
        "# assert os.environ['COLAB_TPU_ADDR'], 'Make sure to select TPU from Edit > Notebook setting > Hardware accelerator'\n",
        "\n",
        "# VERSION = \"20200220\"\n",
        "# !curl https://raw.githubusercontent.com/pytorch/xla/master/contrib/scripts/env-setup.py -o pytorch-xla-env-setup.py\n",
        "# !python pytorch-xla-env-setup.py --version $VERSION\n"
      ],
      "execution_count": 0,
      "outputs": []
    },
    {
      "cell_type": "code",
      "metadata": {
        "id": "F0k6MkEuzib0",
        "colab_type": "code",
        "outputId": "be2c3271-d604-4970-bef8-2d4455568345",
        "colab": {
          "base_uri": "https://localhost:8080/",
          "height": 360
        }
      },
      "source": [
        "!pip install numpy==1.16.4\n",
        "!pip install pandas==0.25.0\n",
        "!pip install torch==1.4.0\n",
        "!pip install tqdm==4.43.0\n",
        "!pip install scikit-plot"
      ],
      "execution_count": 1,
      "outputs": [
        {
          "output_type": "stream",
          "text": [
            "Requirement already satisfied: numpy==1.16.4 in /usr/local/lib/python3.6/dist-packages (1.16.4)\n",
            "Requirement already satisfied: pandas==0.25.0 in /usr/local/lib/python3.6/dist-packages (0.25.0)\n",
            "Requirement already satisfied: numpy>=1.13.3 in /usr/local/lib/python3.6/dist-packages (from pandas==0.25.0) (1.16.4)\n",
            "Requirement already satisfied: pytz>=2017.2 in /usr/local/lib/python3.6/dist-packages (from pandas==0.25.0) (2018.9)\n",
            "Requirement already satisfied: python-dateutil>=2.6.1 in /usr/local/lib/python3.6/dist-packages (from pandas==0.25.0) (2.8.1)\n",
            "Requirement already satisfied: six>=1.5 in /usr/local/lib/python3.6/dist-packages (from python-dateutil>=2.6.1->pandas==0.25.0) (1.12.0)\n",
            "Requirement already satisfied: torch==1.4.0 in /usr/local/lib/python3.6/dist-packages (1.4.0)\n",
            "Requirement already satisfied: tqdm==4.43.0 in /usr/local/lib/python3.6/dist-packages (4.43.0)\n",
            "Requirement already satisfied: scikit-plot in /usr/local/lib/python3.6/dist-packages (0.3.7)\n",
            "Requirement already satisfied: joblib>=0.10 in /usr/local/lib/python3.6/dist-packages (from scikit-plot) (0.14.1)\n",
            "Requirement already satisfied: scipy>=0.9 in /usr/local/lib/python3.6/dist-packages (from scikit-plot) (1.4.1)\n",
            "Requirement already satisfied: scikit-learn>=0.18 in /usr/local/lib/python3.6/dist-packages (from scikit-plot) (0.22.2.post1)\n",
            "Requirement already satisfied: matplotlib>=1.4.0 in /usr/local/lib/python3.6/dist-packages (from scikit-plot) (3.2.1)\n",
            "Requirement already satisfied: numpy>=1.13.3 in /usr/local/lib/python3.6/dist-packages (from scipy>=0.9->scikit-plot) (1.16.4)\n",
            "Requirement already satisfied: kiwisolver>=1.0.1 in /usr/local/lib/python3.6/dist-packages (from matplotlib>=1.4.0->scikit-plot) (1.2.0)\n",
            "Requirement already satisfied: python-dateutil>=2.1 in /usr/local/lib/python3.6/dist-packages (from matplotlib>=1.4.0->scikit-plot) (2.8.1)\n",
            "Requirement already satisfied: cycler>=0.10 in /usr/local/lib/python3.6/dist-packages (from matplotlib>=1.4.0->scikit-plot) (0.10.0)\n",
            "Requirement already satisfied: pyparsing!=2.0.4,!=2.1.2,!=2.1.6,>=2.0.1 in /usr/local/lib/python3.6/dist-packages (from matplotlib>=1.4.0->scikit-plot) (2.4.6)\n",
            "Requirement already satisfied: six>=1.5 in /usr/local/lib/python3.6/dist-packages (from python-dateutil>=2.1->matplotlib>=1.4.0->scikit-plot) (1.12.0)\n"
          ],
          "name": "stdout"
        }
      ]
    },
    {
      "cell_type": "code",
      "metadata": {
        "id": "pYiY1suXzjKg",
        "colab_type": "code",
        "colab": {}
      },
      "source": [
        "import numpy as np\n",
        "import pandas as pd\n",
        "import matplotlib.pyplot as plt\n",
        "import seaborn as sns; sns.set()\n",
        "plt.style.use('ggplot')\n",
        "\n",
        "from collections import defaultdict\n",
        "from collections import Counter\n",
        "\n",
        "import datetime as dt\n",
        "import re\n",
        "import pickle\n",
        "from tqdm.notebook import tqdm\n",
        "import os\n",
        "import sys\n",
        "import time\n",
        "import logging\n",
        "import random"
      ],
      "execution_count": 0,
      "outputs": []
    },
    {
      "cell_type": "code",
      "metadata": {
        "id": "AYdbuFFJondK",
        "colab_type": "code",
        "colab": {}
      },
      "source": [
        "# Import Scikit-learn moduels\n",
        "from sklearn.feature_extraction.text import CountVectorizer\n",
        "from sklearn.model_selection import StratifiedKFold\n",
        "from sklearn.metrics import accuracy_score, f1_score, plot_confusion_matrix\n",
        "import scikitplot as skplt"
      ],
      "execution_count": 0,
      "outputs": []
    },
    {
      "cell_type": "code",
      "metadata": {
        "id": "qtIWiXfCPoet",
        "colab_type": "code",
        "outputId": "47379312-faa2-4a66-acaf-01affe055fed",
        "colab": {
          "base_uri": "https://localhost:8080/",
          "height": 119
        }
      },
      "source": [
        "# Import nltk modules and download dataset\n",
        "import nltk\n",
        "from nltk.corpus import stopwords\n",
        "from nltk.util import ngrams\n",
        "from nltk.tokenize import word_tokenize\n",
        "\n",
        "nltk.download('stopwords')\n",
        "nltk.download('punkt')\n",
        "nltk.download('wordnet')\n",
        "\n",
        "stop = set(stopwords.words('english'))"
      ],
      "execution_count": 4,
      "outputs": [
        {
          "output_type": "stream",
          "text": [
            "[nltk_data] Downloading package stopwords to /root/nltk_data...\n",
            "[nltk_data]   Package stopwords is already up-to-date!\n",
            "[nltk_data] Downloading package punkt to /root/nltk_data...\n",
            "[nltk_data]   Package punkt is already up-to-date!\n",
            "[nltk_data] Downloading package wordnet to /root/nltk_data...\n",
            "[nltk_data]   Package wordnet is already up-to-date!\n"
          ],
          "name": "stdout"
        }
      ]
    },
    {
      "cell_type": "code",
      "metadata": {
        "id": "DRezWLAuoKTv",
        "colab_type": "code",
        "colab": {}
      },
      "source": [
        "# Import Pytorch modules\n",
        "import torch\n",
        "from torch import nn, optim\n",
        "import torch.nn.functional as F\n",
        "from torch.utils.data import (DataLoader, RandomSampler, SequentialSampler, TensorDataset)"
      ],
      "execution_count": 0,
      "outputs": []
    },
    {
      "cell_type": "code",
      "metadata": {
        "id": "9v6gt8lI3DeM",
        "colab_type": "code",
        "colab": {}
      },
      "source": [
        "# Set logger\n",
        "logger = logging.getLogger('mylogger')\n",
        "logger.setLevel(logging.DEBUG)\n",
        "timestamp = time.strftime(\"%Y.%m.%d_%H.%M.%S\", time.localtime())\n",
        "fh = logging.FileHandler('log_model.txt')\n",
        "fh.setLevel(logging.DEBUG)\n",
        "ch = logging.StreamHandler()\n",
        "ch.setLevel(logging.DEBUG)\n",
        "formatter = logging.Formatter('[%(asctime)s][%(levelname)s] ## %(message)s')\n",
        "fh.setFormatter(formatter)\n",
        "ch.setFormatter(formatter)\n",
        "logger.addHandler(fh)\n",
        "logger.addHandler(ch)"
      ],
      "execution_count": 0,
      "outputs": []
    },
    {
      "cell_type": "code",
      "metadata": {
        "id": "iaqPH0Sr3KHm",
        "colab_type": "code",
        "colab": {}
      },
      "source": [
        "# Set Random Seed\n",
        "random.seed(42)\n",
        "np.random.seed(42)\n",
        "torch.manual_seed(42)\n",
        "torch.cuda.manual_seed(42)"
      ],
      "execution_count": 0,
      "outputs": []
    },
    {
      "cell_type": "code",
      "metadata": {
        "id": "l20a6ID1Thbe",
        "colab_type": "code",
        "outputId": "e5bd9d94-e437-4e9d-d9aa-119825a9bbc0",
        "colab": {
          "base_uri": "https://localhost:8080/",
          "height": 34
        }
      },
      "source": [
        "# Check Device\n",
        "torch.cuda.get_device_name(0)"
      ],
      "execution_count": 8,
      "outputs": [
        {
          "output_type": "execute_result",
          "data": {
            "text/plain": [
              "'Tesla P4'"
            ]
          },
          "metadata": {
            "tags": []
          },
          "execution_count": 8
        }
      ]
    },
    {
      "cell_type": "code",
      "metadata": {
        "id": "MVa1753Dz0oA",
        "colab_type": "code",
        "outputId": "201e91c9-9031-4a55-ce44-49129894a9d2",
        "colab": {
          "base_uri": "https://localhost:8080/",
          "height": 34
        }
      },
      "source": [
        "# Colab version\n",
        "from google.colab import drive\n",
        "\n",
        "drive.mount('/content/drive')"
      ],
      "execution_count": 9,
      "outputs": [
        {
          "output_type": "stream",
          "text": [
            "Drive already mounted at /content/drive; to attempt to forcibly remount, call drive.mount(\"/content/drive\", force_remount=True).\n"
          ],
          "name": "stdout"
        }
      ]
    },
    {
      "cell_type": "code",
      "metadata": {
        "id": "bmmhSA9Yz8xM",
        "colab_type": "code",
        "outputId": "9771064f-60ed-42b0-9d04-4bbf32a20ff7",
        "colab": {
          "base_uri": "https://localhost:8080/",
          "height": 306
        }
      },
      "source": [
        "# Load data\n",
        "file = open('drive/My Drive/Colab Data/train_speaker_df.pickle', 'rb')\n",
        "df = pickle.load(file)\n",
        "\n",
        "file.close()\n",
        "\n",
        "print(df.shape)\n",
        "df.head()"
      ],
      "execution_count": 10,
      "outputs": [
        {
          "output_type": "stream",
          "text": [
            "(675, 10)\n"
          ],
          "name": "stdout"
        },
        {
          "output_type": "execute_result",
          "data": {
            "text/html": [
              "<div>\n",
              "<style scoped>\n",
              "    .dataframe tbody tr th:only-of-type {\n",
              "        vertical-align: middle;\n",
              "    }\n",
              "\n",
              "    .dataframe tbody tr th {\n",
              "        vertical-align: top;\n",
              "    }\n",
              "\n",
              "    .dataframe thead th {\n",
              "        text-align: right;\n",
              "    }\n",
              "</style>\n",
              "<table border=\"1\" class=\"dataframe\">\n",
              "  <thead>\n",
              "    <tr style=\"text-align: right;\">\n",
              "      <th></th>\n",
              "      <th>date</th>\n",
              "      <th>rate</th>\n",
              "      <th>speaker</th>\n",
              "      <th>target</th>\n",
              "      <th>text</th>\n",
              "      <th>type</th>\n",
              "      <th>word_count</th>\n",
              "      <th>target_lower</th>\n",
              "      <th>target_hold</th>\n",
              "      <th>target_raise</th>\n",
              "    </tr>\n",
              "  </thead>\n",
              "  <tbody>\n",
              "    <tr>\n",
              "      <th>0</th>\n",
              "      <td>1994-02-04</td>\n",
              "      <td>3.25</td>\n",
              "      <td>Alan Greenspan</td>\n",
              "      <td>2</td>\n",
              "      <td>Chairman Alan Greenspan announced today that ...</td>\n",
              "      <td>statement</td>\n",
              "      <td>99</td>\n",
              "      <td>0</td>\n",
              "      <td>0</td>\n",
              "      <td>1</td>\n",
              "    </tr>\n",
              "    <tr>\n",
              "      <th>1</th>\n",
              "      <td>1994-03-22</td>\n",
              "      <td>3.5</td>\n",
              "      <td>Alan Greenspan</td>\n",
              "      <td>2</td>\n",
              "      <td>Chairman Alan Greenspan announced today that ...</td>\n",
              "      <td>statement</td>\n",
              "      <td>40</td>\n",
              "      <td>0</td>\n",
              "      <td>0</td>\n",
              "      <td>1</td>\n",
              "    </tr>\n",
              "    <tr>\n",
              "      <th>2</th>\n",
              "      <td>1994-04-18</td>\n",
              "      <td>3.75</td>\n",
              "      <td>Alan Greenspan</td>\n",
              "      <td>2</td>\n",
              "      <td>Chairman Alan Greenspan announced today that ...</td>\n",
              "      <td>statement</td>\n",
              "      <td>37</td>\n",
              "      <td>0</td>\n",
              "      <td>0</td>\n",
              "      <td>1</td>\n",
              "    </tr>\n",
              "    <tr>\n",
              "      <th>3</th>\n",
              "      <td>1994-05-17</td>\n",
              "      <td>4.25</td>\n",
              "      <td>Alan Greenspan</td>\n",
              "      <td>2</td>\n",
              "      <td>In taking the discount action, the Board appr...</td>\n",
              "      <td>statement</td>\n",
              "      <td>57</td>\n",
              "      <td>0</td>\n",
              "      <td>0</td>\n",
              "      <td>1</td>\n",
              "    </tr>\n",
              "    <tr>\n",
              "      <th>4</th>\n",
              "      <td>1994-08-16</td>\n",
              "      <td>4.75</td>\n",
              "      <td>Alan Greenspan</td>\n",
              "      <td>2</td>\n",
              "      <td>In taking the discount rate action, the Board...</td>\n",
              "      <td>statement</td>\n",
              "      <td>51</td>\n",
              "      <td>0</td>\n",
              "      <td>0</td>\n",
              "      <td>1</td>\n",
              "    </tr>\n",
              "  </tbody>\n",
              "</table>\n",
              "</div>"
            ],
            "text/plain": [
              "        date  rate         speaker  ... target_lower target_hold target_raise\n",
              "0 1994-02-04  3.25  Alan Greenspan  ...            0           0            1\n",
              "1 1994-03-22   3.5  Alan Greenspan  ...            0           0            1\n",
              "2 1994-04-18  3.75  Alan Greenspan  ...            0           0            1\n",
              "3 1994-05-17  4.25  Alan Greenspan  ...            0           0            1\n",
              "4 1994-08-16  4.75  Alan Greenspan  ...            0           0            1\n",
              "\n",
              "[5 rows x 10 columns]"
            ]
          },
          "metadata": {
            "tags": []
          },
          "execution_count": 10
        }
      ]
    },
    {
      "cell_type": "markdown",
      "metadata": {
        "id": "qmGVNB_EJZjg",
        "colab_type": "text"
      },
      "source": [
        "## Explore Data"
      ]
    },
    {
      "cell_type": "code",
      "metadata": {
        "id": "3zCnf2a5J2z4",
        "colab_type": "code",
        "outputId": "a4f36ce0-f393-4aa3-c65e-b1113aec3d9f",
        "colab": {
          "base_uri": "https://localhost:8080/",
          "height": 421
        }
      },
      "source": [
        "# The number of data per Target Labels\n",
        "x = df.target.value_counts()\n",
        "print(x)\n",
        "print(x/sum(x))\n",
        "sns.barplot(x.index, x)\n",
        "plt.gca().set_ylabel('number of samples')"
      ],
      "execution_count": 11,
      "outputs": [
        {
          "output_type": "stream",
          "text": [
            "1    390\n",
            "2    147\n",
            "0    138\n",
            "Name: target, dtype: int64\n",
            "1    0.577778\n",
            "2    0.217778\n",
            "0    0.204444\n",
            "Name: target, dtype: float64\n"
          ],
          "name": "stdout"
        },
        {
          "output_type": "execute_result",
          "data": {
            "text/plain": [
              "Text(0, 0.5, 'number of samples')"
            ]
          },
          "metadata": {
            "tags": []
          },
          "execution_count": 11
        },
        {
          "output_type": "display_data",
          "data": {
            "image/png": "[encoded data removed]",
            "text/plain": [
              "<Figure size 432x288 with 1 Axes>"
            ]
          },
          "metadata": {
            "tags": []
          }
        }
      ]
    },
    {
      "cell_type": "code",
      "metadata": {
        "id": "voJPmZIrJgbB",
        "colab_type": "code",
        "outputId": "55b42b6b-6337-4af1-a28c-b844e3070566",
        "colab": {
          "base_uri": "https://localhost:8080/",
          "height": 339
        }
      },
      "source": [
        "plt.figure(figsize=(8,5))\n",
        "ax = sns.countplot(x='target', data=df)"
      ],
      "execution_count": 12,
      "outputs": [
        {
          "output_type": "display_data",
          "data": {
            "image/png": "[encoded data removed]",
            "text/plain": [
              "<Figure size 576x360 with 1 Axes>"
            ]
          },
          "metadata": {
            "tags": []
          }
        }
      ]
    },
    {
      "cell_type": "code",
      "metadata": {
        "id": "2VbwpfWmKFqC",
        "colab_type": "code",
        "colab": {}
      },
      "source": [
        "# Corpus\n",
        "def create_corpus(target):\n",
        "    corpus = []\n",
        "    \n",
        "    for x in df[df['target']==target]['text'].str.split():\n",
        "        for i in x:\n",
        "            corpus.append(i)\n",
        "    return corpus\n",
        "\n",
        "# Returns Top X frequent words\n",
        "def get_frequent_words(corpus, top_n=10):\n",
        "    dic = defaultdict(int)\n",
        "    for word in corpus:\n",
        "        if word in stop:\n",
        "            dic[word] += 1\n",
        "\n",
        "    top = sorted(dic.items(), key=lambda x: x[1], reverse=True)[:top_n]\n",
        "\n",
        "    return zip(*top)"
      ],
      "execution_count": 0,
      "outputs": []
    },
    {
      "cell_type": "code",
      "metadata": {
        "id": "-7Ewqo8-KQQ2",
        "colab_type": "code",
        "outputId": "91300e3a-bbde-4431-fc6c-07a42c21d2e2",
        "colab": {
          "base_uri": "https://localhost:8080/",
          "height": 465
        }
      },
      "source": [
        "# Most frequent words\n",
        "corpus_lower = create_corpus(0)\n",
        "corpus_hold = create_corpus(1)\n",
        "corpus_raise = create_corpus(2)\n",
        "\n",
        "fig, (ax1, ax2, ax3) = plt.subplots(1, 3, figsize=(15,7))\n",
        "x, y = get_frequent_words(corpus_lower)\n",
        "ax1.bar(x, y)\n",
        "ax1.set_title('Lower')\n",
        "x, y = get_frequent_words(corpus_hold)\n",
        "ax2.bar(x, y)\n",
        "ax2.set_title('Hold')\n",
        "x, y = get_frequent_words(corpus_raise)\n",
        "ax3.bar(x, y)\n",
        "ax3.set_title('Raise')"
      ],
      "execution_count": 14,
      "outputs": [
        {
          "output_type": "execute_result",
          "data": {
            "text/plain": [
              "Text(0.5, 1.0, 'Raise')"
            ]
          },
          "metadata": {
            "tags": []
          },
          "execution_count": 14
        },
        {
          "output_type": "display_data",
          "data": {
            "image/png": "[encoded data removed]",
            "text/plain": [
              "<Figure size 1080x504 with 3 Axes>"
            ]
          },
          "metadata": {
            "tags": []
          }
        }
      ]
    },
    {
      "cell_type": "code",
      "metadata": {
        "id": "r6FPeC8DKWm6",
        "colab_type": "code",
        "outputId": "7f20c259-7697-476e-d0cd-d0c8c3989ee3",
        "colab": {
          "base_uri": "https://localhost:8080/",
          "height": 339
        }
      },
      "source": [
        "# Check most frequent words which are not in stopwords\n",
        "counter = Counter(corpus_lower)\n",
        "most = counter.most_common()\n",
        "x, y = [], []\n",
        "for word, count in most[:40]:\n",
        "    if word not in stop:\n",
        "        x.append(word)\n",
        "        y.append(count)\n",
        "\n",
        "plt.figure(figsize=(10,5))\n",
        "sns.barplot(x=y, y=x)"
      ],
      "execution_count": 15,
      "outputs": [
        {
          "output_type": "execute_result",
          "data": {
            "text/plain": [
              "<matplotlib.axes._subplots.AxesSubplot at 0x7fed27e4d278>"
            ]
          },
          "metadata": {
            "tags": []
          },
          "execution_count": 15
        },
        {
          "output_type": "display_data",
          "data": {
            "image/png": "[encoded data removed]",
            "text/plain": [
              "<Figure size 720x360 with 1 Axes>"
            ]
          },
          "metadata": {
            "tags": []
          }
        }
      ]
    },
    {
      "cell_type": "code",
      "metadata": {
        "id": "o3MOs7yZKdFz",
        "colab_type": "code",
        "outputId": "d25a68b4-9c6b-43a2-f3a4-81ea9218bfee",
        "colab": {
          "base_uri": "https://localhost:8080/",
          "height": 900
        }
      },
      "source": [
        "fig, (ax1, ax2, ax3, ax4) = plt.subplots(4, 1, figsize=(15,15))\n",
        "# fig, (ax1, ax2, ax3) = plt.subplots(3, 1, figsize=(15,15))\n",
        "contents_len = df[df['type'] == 'statement']['word_count']\n",
        "ax1.hist(contents_len, color='red', bins=100)\n",
        "ax1.set_title('Statement')\n",
        "contents_len = df[df['type'] == 'minutes']['word_count']\n",
        "ax2.hist(contents_len, color='green', bins=100)\n",
        "ax2.set_title('Minutes')\n",
        "contents_len = df[df['type'] =='script']['word_count']\n",
        "ax3.hist(contents_len, color='blue', bins=100)\n",
        "ax3.set_title('Script')\n",
        "contents_len = df[df['type'] =='speech']['word_count']\n",
        "ax4.hist(contents_len, color='brown', bins=100)\n",
        "ax4.set_title('Speech')\n"
      ],
      "execution_count": 16,
      "outputs": [
        {
          "output_type": "execute_result",
          "data": {
            "text/plain": [
              "Text(0.5, 1.0, 'Speech')"
            ]
          },
          "metadata": {
            "tags": []
          },
          "execution_count": 16
        },
        {
          "output_type": "display_data",
          "data": {
            "image/png": "[encoded data removed]",
            "text/plain": [
              "<Figure size 1080x1080 with 4 Axes>"
            ]
          },
          "metadata": {
            "tags": []
          }
        }
      ]
    },
    {
      "cell_type": "code",
      "metadata": {
        "id": "bkTIBJEhsbTQ",
        "colab_type": "code",
        "outputId": "c0fdf7f2-748e-47e2-af65-20ad3185414a",
        "colab": {
          "base_uri": "https://localhost:8080/",
          "height": 34
        }
      },
      "source": [
        "len(df[df['word_count'] > 300])"
      ],
      "execution_count": 17,
      "outputs": [
        {
          "output_type": "execute_result",
          "data": {
            "text/plain": [
              "475"
            ]
          },
          "metadata": {
            "tags": []
          },
          "execution_count": 17
        }
      ]
    },
    {
      "cell_type": "markdown",
      "metadata": {
        "id": "0kJow0E7S4Sg",
        "colab_type": "text"
      },
      "source": [
        "## Define Train DataFrame"
      ]
    },
    {
      "cell_type": "code",
      "metadata": {
        "id": "J9U7V5cp0KAl",
        "colab_type": "code",
        "outputId": "91275fb3-6e29-45b9-d6bf-c281882aeb54",
        "colab": {
          "base_uri": "https://localhost:8080/",
          "height": 1000
        }
      },
      "source": [
        "#train_df = df # All data\n",
        "train_df = df.loc[df['type'].isin(['statement'])]\n",
        "#train_df = df.loc[df['type'].isin(['statement', 'minutes', 'script'])]\n",
        "#train_df = df.loc[df['speaker']=='Ben Bernanke']\n",
        "\n",
        "print(train_df.shape)\n",
        "train_df.reset_index(inplace=True)\n",
        "train_df['target'] = train_df['target'].apply(lambda x: int(x))\n",
        "train_df"
      ],
      "execution_count": 46,
      "outputs": [
        {
          "output_type": "stream",
          "text": [
            "(192, 10)\n"
          ],
          "name": "stdout"
        },
        {
          "output_type": "stream",
          "text": [
            "/usr/local/lib/python3.6/dist-packages/ipykernel_launcher.py:7: SettingWithCopyWarning: \n",
            "A value is trying to be set on a copy of a slice from a DataFrame.\n",
            "Try using .loc[row_indexer,col_indexer] = value instead\n",
            "\n",
            "See the caveats in the documentation: http://pandas.pydata.org/pandas-docs/stable/user_guide/indexing.html#returning-a-view-versus-a-copy\n",
            "  import sys\n"
          ],
          "name": "stderr"
        },
        {
          "output_type": "execute_result",
          "data": {
            "text/html": [
              "<div>\n",
              "<style scoped>\n",
              "    .dataframe tbody tr th:only-of-type {\n",
              "        vertical-align: middle;\n",
              "    }\n",
              "\n",
              "    .dataframe tbody tr th {\n",
              "        vertical-align: top;\n",
              "    }\n",
              "\n",
              "    .dataframe thead th {\n",
              "        text-align: right;\n",
              "    }\n",
              "</style>\n",
              "<table border=\"1\" class=\"dataframe\">\n",
              "  <thead>\n",
              "    <tr style=\"text-align: right;\">\n",
              "      <th></th>\n",
              "      <th>index</th>\n",
              "      <th>date</th>\n",
              "      <th>rate</th>\n",
              "      <th>speaker</th>\n",
              "      <th>target</th>\n",
              "      <th>text</th>\n",
              "      <th>type</th>\n",
              "      <th>word_count</th>\n",
              "      <th>target_lower</th>\n",
              "      <th>target_hold</th>\n",
              "      <th>target_raise</th>\n",
              "    </tr>\n",
              "  </thead>\n",
              "  <tbody>\n",
              "    <tr>\n",
              "      <th>0</th>\n",
              "      <td>0</td>\n",
              "      <td>1994-02-04</td>\n",
              "      <td>3.25</td>\n",
              "      <td>Alan Greenspan</td>\n",
              "      <td>2</td>\n",
              "      <td>Chairman Alan Greenspan announced today that ...</td>\n",
              "      <td>statement</td>\n",
              "      <td>99</td>\n",
              "      <td>0</td>\n",
              "      <td>0</td>\n",
              "      <td>1</td>\n",
              "    </tr>\n",
              "    <tr>\n",
              "      <th>1</th>\n",
              "      <td>1</td>\n",
              "      <td>1994-03-22</td>\n",
              "      <td>3.5</td>\n",
              "      <td>Alan Greenspan</td>\n",
              "      <td>2</td>\n",
              "      <td>Chairman Alan Greenspan announced today that ...</td>\n",
              "      <td>statement</td>\n",
              "      <td>40</td>\n",
              "      <td>0</td>\n",
              "      <td>0</td>\n",
              "      <td>1</td>\n",
              "    </tr>\n",
              "    <tr>\n",
              "      <th>2</th>\n",
              "      <td>2</td>\n",
              "      <td>1994-04-18</td>\n",
              "      <td>3.75</td>\n",
              "      <td>Alan Greenspan</td>\n",
              "      <td>2</td>\n",
              "      <td>Chairman Alan Greenspan announced today that ...</td>\n",
              "      <td>statement</td>\n",
              "      <td>37</td>\n",
              "      <td>0</td>\n",
              "      <td>0</td>\n",
              "      <td>1</td>\n",
              "    </tr>\n",
              "    <tr>\n",
              "      <th>3</th>\n",
              "      <td>3</td>\n",
              "      <td>1994-05-17</td>\n",
              "      <td>4.25</td>\n",
              "      <td>Alan Greenspan</td>\n",
              "      <td>2</td>\n",
              "      <td>In taking the discount action, the Board appr...</td>\n",
              "      <td>statement</td>\n",
              "      <td>57</td>\n",
              "      <td>0</td>\n",
              "      <td>0</td>\n",
              "      <td>1</td>\n",
              "    </tr>\n",
              "    <tr>\n",
              "      <th>4</th>\n",
              "      <td>4</td>\n",
              "      <td>1994-08-16</td>\n",
              "      <td>4.75</td>\n",
              "      <td>Alan Greenspan</td>\n",
              "      <td>2</td>\n",
              "      <td>In taking the discount rate action, the Board...</td>\n",
              "      <td>statement</td>\n",
              "      <td>51</td>\n",
              "      <td>0</td>\n",
              "      <td>0</td>\n",
              "      <td>1</td>\n",
              "    </tr>\n",
              "    <tr>\n",
              "      <th>5</th>\n",
              "      <td>5</td>\n",
              "      <td>1994-11-15</td>\n",
              "      <td>5.5</td>\n",
              "      <td>Alan Greenspan</td>\n",
              "      <td>2</td>\n",
              "      <td>In a related move, the Federal Open Market Co...</td>\n",
              "      <td>statement</td>\n",
              "      <td>121</td>\n",
              "      <td>0</td>\n",
              "      <td>0</td>\n",
              "      <td>1</td>\n",
              "    </tr>\n",
              "    <tr>\n",
              "      <th>6</th>\n",
              "      <td>6</td>\n",
              "      <td>1995-02-01</td>\n",
              "      <td>6</td>\n",
              "      <td>Alan Greenspan</td>\n",
              "      <td>2</td>\n",
              "      <td>In taking the discount action, the Board appr...</td>\n",
              "      <td>statement</td>\n",
              "      <td>54</td>\n",
              "      <td>0</td>\n",
              "      <td>0</td>\n",
              "      <td>1</td>\n",
              "    </tr>\n",
              "    <tr>\n",
              "      <th>7</th>\n",
              "      <td>7</td>\n",
              "      <td>1995-07-06</td>\n",
              "      <td>5.75</td>\n",
              "      <td>Alan Greenspan</td>\n",
              "      <td>0</td>\n",
              "      <td>Chairman Alan Greenspan announced today that ...</td>\n",
              "      <td>statement</td>\n",
              "      <td>67</td>\n",
              "      <td>1</td>\n",
              "      <td>0</td>\n",
              "      <td>0</td>\n",
              "    </tr>\n",
              "    <tr>\n",
              "      <th>8</th>\n",
              "      <td>8</td>\n",
              "      <td>1995-12-19</td>\n",
              "      <td>5.5</td>\n",
              "      <td>Alan Greenspan</td>\n",
              "      <td>0</td>\n",
              "      <td>Chairman Alan Greenspan announced today that ...</td>\n",
              "      <td>statement</td>\n",
              "      <td>81</td>\n",
              "      <td>1</td>\n",
              "      <td>0</td>\n",
              "      <td>0</td>\n",
              "    </tr>\n",
              "    <tr>\n",
              "      <th>9</th>\n",
              "      <td>9</td>\n",
              "      <td>1996-01-31</td>\n",
              "      <td>5.25</td>\n",
              "      <td>Alan Greenspan</td>\n",
              "      <td>0</td>\n",
              "      <td>For immediate releaseThe Federal Reserve toda...</td>\n",
              "      <td>statement</td>\n",
              "      <td>391</td>\n",
              "      <td>1</td>\n",
              "      <td>0</td>\n",
              "      <td>0</td>\n",
              "    </tr>\n",
              "    <tr>\n",
              "      <th>10</th>\n",
              "      <td>10</td>\n",
              "      <td>1997-03-25</td>\n",
              "      <td>5.5</td>\n",
              "      <td>Alan Greenspan</td>\n",
              "      <td>2</td>\n",
              "      <td>For immediate release\\tThe Federal Open Marke...</td>\n",
              "      <td>statement</td>\n",
              "      <td>590</td>\n",
              "      <td>0</td>\n",
              "      <td>0</td>\n",
              "      <td>1</td>\n",
              "    </tr>\n",
              "    <tr>\n",
              "      <th>11</th>\n",
              "      <td>11</td>\n",
              "      <td>1998-09-29</td>\n",
              "      <td>5.25</td>\n",
              "      <td>Alan Greenspan</td>\n",
              "      <td>0</td>\n",
              "      <td>For immediate releaseThe Federal Open Market ...</td>\n",
              "      <td>statement</td>\n",
              "      <td>373</td>\n",
              "      <td>1</td>\n",
              "      <td>0</td>\n",
              "      <td>0</td>\n",
              "    </tr>\n",
              "    <tr>\n",
              "      <th>12</th>\n",
              "      <td>12</td>\n",
              "      <td>1998-10-15</td>\n",
              "      <td>5</td>\n",
              "      <td>Alan Greenspan</td>\n",
              "      <td>0</td>\n",
              "      <td>For immediate releaseThe Federal Reserve toda...</td>\n",
              "      <td>statement</td>\n",
              "      <td>611</td>\n",
              "      <td>1</td>\n",
              "      <td>0</td>\n",
              "      <td>0</td>\n",
              "    </tr>\n",
              "    <tr>\n",
              "      <th>13</th>\n",
              "      <td>13</td>\n",
              "      <td>1998-11-17</td>\n",
              "      <td>4.75</td>\n",
              "      <td>Alan Greenspan</td>\n",
              "      <td>0</td>\n",
              "      <td>For immediate releaseThe Federal Reserve toda...</td>\n",
              "      <td>statement</td>\n",
              "      <td>515</td>\n",
              "      <td>1</td>\n",
              "      <td>0</td>\n",
              "      <td>0</td>\n",
              "    </tr>\n",
              "    <tr>\n",
              "      <th>14</th>\n",
              "      <td>14</td>\n",
              "      <td>1999-05-18</td>\n",
              "      <td>4.75</td>\n",
              "      <td>Alan Greenspan</td>\n",
              "      <td>1</td>\n",
              "      <td>For immediate releaseThe Federal Reserve rele...</td>\n",
              "      <td>statement</td>\n",
              "      <td>586</td>\n",
              "      <td>0</td>\n",
              "      <td>1</td>\n",
              "      <td>0</td>\n",
              "    </tr>\n",
              "    <tr>\n",
              "      <th>15</th>\n",
              "      <td>15</td>\n",
              "      <td>1999-06-30</td>\n",
              "      <td>5</td>\n",
              "      <td>Alan Greenspan</td>\n",
              "      <td>2</td>\n",
              "      <td>For immediate release\\tThe Federal Open Marke...</td>\n",
              "      <td>statement</td>\n",
              "      <td>618</td>\n",
              "      <td>0</td>\n",
              "      <td>0</td>\n",
              "      <td>1</td>\n",
              "    </tr>\n",
              "    <tr>\n",
              "      <th>16</th>\n",
              "      <td>16</td>\n",
              "      <td>1999-08-24</td>\n",
              "      <td>5.25</td>\n",
              "      <td>Alan Greenspan</td>\n",
              "      <td>2</td>\n",
              "      <td>For immediate releaseThe Federal Open Market ...</td>\n",
              "      <td>statement</td>\n",
              "      <td>987</td>\n",
              "      <td>0</td>\n",
              "      <td>0</td>\n",
              "      <td>1</td>\n",
              "    </tr>\n",
              "    <tr>\n",
              "      <th>17</th>\n",
              "      <td>17</td>\n",
              "      <td>1999-10-05</td>\n",
              "      <td>5.25</td>\n",
              "      <td>Alan Greenspan</td>\n",
              "      <td>1</td>\n",
              "      <td>For immediate releaseThe Federal Open Market ...</td>\n",
              "      <td>statement</td>\n",
              "      <td>1016</td>\n",
              "      <td>0</td>\n",
              "      <td>1</td>\n",
              "      <td>0</td>\n",
              "    </tr>\n",
              "    <tr>\n",
              "      <th>18</th>\n",
              "      <td>18</td>\n",
              "      <td>1999-11-16</td>\n",
              "      <td>5.5</td>\n",
              "      <td>Alan Greenspan</td>\n",
              "      <td>2</td>\n",
              "      <td>For immediate release\\tThe Federal Open Marke...</td>\n",
              "      <td>statement</td>\n",
              "      <td>1332</td>\n",
              "      <td>0</td>\n",
              "      <td>0</td>\n",
              "      <td>1</td>\n",
              "    </tr>\n",
              "    <tr>\n",
              "      <th>19</th>\n",
              "      <td>19</td>\n",
              "      <td>1999-12-21</td>\n",
              "      <td>5.5</td>\n",
              "      <td>Alan Greenspan</td>\n",
              "      <td>1</td>\n",
              "      <td>For immediate releaseThe Federal Open Market ...</td>\n",
              "      <td>statement</td>\n",
              "      <td>806</td>\n",
              "      <td>0</td>\n",
              "      <td>1</td>\n",
              "      <td>0</td>\n",
              "    </tr>\n",
              "    <tr>\n",
              "      <th>20</th>\n",
              "      <td>20</td>\n",
              "      <td>2000-02-02</td>\n",
              "      <td>5.75</td>\n",
              "      <td>Alan Greenspan</td>\n",
              "      <td>2</td>\n",
              "      <td>For immediate releaseThe Federal Open Market ...</td>\n",
              "      <td>statement</td>\n",
              "      <td>1057</td>\n",
              "      <td>0</td>\n",
              "      <td>0</td>\n",
              "      <td>1</td>\n",
              "    </tr>\n",
              "    <tr>\n",
              "      <th>21</th>\n",
              "      <td>21</td>\n",
              "      <td>2000-03-21</td>\n",
              "      <td>6</td>\n",
              "      <td>Alan Greenspan</td>\n",
              "      <td>2</td>\n",
              "      <td>For immediate releaseThe Federal Open Market ...</td>\n",
              "      <td>statement</td>\n",
              "      <td>1039</td>\n",
              "      <td>0</td>\n",
              "      <td>0</td>\n",
              "      <td>1</td>\n",
              "    </tr>\n",
              "    <tr>\n",
              "      <th>22</th>\n",
              "      <td>22</td>\n",
              "      <td>2000-05-16</td>\n",
              "      <td>6.5</td>\n",
              "      <td>Alan Greenspan</td>\n",
              "      <td>2</td>\n",
              "      <td>For immediate releaseThe Federal Open Market ...</td>\n",
              "      <td>statement</td>\n",
              "      <td>1089</td>\n",
              "      <td>0</td>\n",
              "      <td>0</td>\n",
              "      <td>1</td>\n",
              "    </tr>\n",
              "    <tr>\n",
              "      <th>23</th>\n",
              "      <td>23</td>\n",
              "      <td>2000-06-28</td>\n",
              "      <td>6.5</td>\n",
              "      <td>Alan Greenspan</td>\n",
              "      <td>1</td>\n",
              "      <td>For immediate releaseThe Federal Open Market ...</td>\n",
              "      <td>statement</td>\n",
              "      <td>937</td>\n",
              "      <td>0</td>\n",
              "      <td>1</td>\n",
              "      <td>0</td>\n",
              "    </tr>\n",
              "    <tr>\n",
              "      <th>24</th>\n",
              "      <td>24</td>\n",
              "      <td>2000-08-22</td>\n",
              "      <td>6.5</td>\n",
              "      <td>Alan Greenspan</td>\n",
              "      <td>1</td>\n",
              "      <td>For immediate releaseThe Federal Open Market ...</td>\n",
              "      <td>statement</td>\n",
              "      <td>865</td>\n",
              "      <td>0</td>\n",
              "      <td>1</td>\n",
              "      <td>0</td>\n",
              "    </tr>\n",
              "    <tr>\n",
              "      <th>25</th>\n",
              "      <td>25</td>\n",
              "      <td>2000-10-03</td>\n",
              "      <td>6.5</td>\n",
              "      <td>Alan Greenspan</td>\n",
              "      <td>1</td>\n",
              "      <td>For immediate releaseThe Federal Open Market ...</td>\n",
              "      <td>statement</td>\n",
              "      <td>952</td>\n",
              "      <td>0</td>\n",
              "      <td>1</td>\n",
              "      <td>0</td>\n",
              "    </tr>\n",
              "    <tr>\n",
              "      <th>26</th>\n",
              "      <td>26</td>\n",
              "      <td>2000-11-15</td>\n",
              "      <td>6.5</td>\n",
              "      <td>Alan Greenspan</td>\n",
              "      <td>1</td>\n",
              "      <td>For immediate release\\tThe Federal Open Marke...</td>\n",
              "      <td>statement</td>\n",
              "      <td>884</td>\n",
              "      <td>0</td>\n",
              "      <td>1</td>\n",
              "      <td>0</td>\n",
              "    </tr>\n",
              "    <tr>\n",
              "      <th>27</th>\n",
              "      <td>27</td>\n",
              "      <td>2000-12-19</td>\n",
              "      <td>6.5</td>\n",
              "      <td>Alan Greenspan</td>\n",
              "      <td>1</td>\n",
              "      <td>For immediate releaseThe Federal Open Market ...</td>\n",
              "      <td>statement</td>\n",
              "      <td>736</td>\n",
              "      <td>0</td>\n",
              "      <td>1</td>\n",
              "      <td>0</td>\n",
              "    </tr>\n",
              "    <tr>\n",
              "      <th>28</th>\n",
              "      <td>28</td>\n",
              "      <td>2001-01-03</td>\n",
              "      <td>6</td>\n",
              "      <td>Alan Greenspan</td>\n",
              "      <td>0</td>\n",
              "      <td>For immediate release\\tThe Federal Open Marke...</td>\n",
              "      <td>statement</td>\n",
              "      <td>1314</td>\n",
              "      <td>1</td>\n",
              "      <td>0</td>\n",
              "      <td>0</td>\n",
              "    </tr>\n",
              "    <tr>\n",
              "      <th>29</th>\n",
              "      <td>29</td>\n",
              "      <td>2001-01-31</td>\n",
              "      <td>5.5</td>\n",
              "      <td>Alan Greenspan</td>\n",
              "      <td>0</td>\n",
              "      <td>For immediate releaseThe Federal Open Market ...</td>\n",
              "      <td>statement</td>\n",
              "      <td>1426</td>\n",
              "      <td>1</td>\n",
              "      <td>0</td>\n",
              "      <td>0</td>\n",
              "    </tr>\n",
              "    <tr>\n",
              "      <th>...</th>\n",
              "      <td>...</td>\n",
              "      <td>...</td>\n",
              "      <td>...</td>\n",
              "      <td>...</td>\n",
              "      <td>...</td>\n",
              "      <td>...</td>\n",
              "      <td>...</td>\n",
              "      <td>...</td>\n",
              "      <td>...</td>\n",
              "      <td>...</td>\n",
              "      <td>...</td>\n",
              "    </tr>\n",
              "    <tr>\n",
              "      <th>162</th>\n",
              "      <td>162</td>\n",
              "      <td>2016-07-27</td>\n",
              "      <td>0.5</td>\n",
              "      <td>Janet Yellen</td>\n",
              "      <td>1</td>\n",
              "      <td>Information received since the Federal Open M...</td>\n",
              "      <td>statement</td>\n",
              "      <td>525</td>\n",
              "      <td>0</td>\n",
              "      <td>1</td>\n",
              "      <td>0</td>\n",
              "    </tr>\n",
              "    <tr>\n",
              "      <th>163</th>\n",
              "      <td>163</td>\n",
              "      <td>2016-09-21</td>\n",
              "      <td>0.5</td>\n",
              "      <td>Janet Yellen</td>\n",
              "      <td>1</td>\n",
              "      <td>Information received since the Federal Open M...</td>\n",
              "      <td>statement</td>\n",
              "      <td>603</td>\n",
              "      <td>0</td>\n",
              "      <td>1</td>\n",
              "      <td>0</td>\n",
              "    </tr>\n",
              "    <tr>\n",
              "      <th>164</th>\n",
              "      <td>164</td>\n",
              "      <td>2016-11-02</td>\n",
              "      <td>0.5</td>\n",
              "      <td>Janet Yellen</td>\n",
              "      <td>1</td>\n",
              "      <td>Information received since the Federal Open M...</td>\n",
              "      <td>statement</td>\n",
              "      <td>597</td>\n",
              "      <td>0</td>\n",
              "      <td>1</td>\n",
              "      <td>0</td>\n",
              "    </tr>\n",
              "    <tr>\n",
              "      <th>165</th>\n",
              "      <td>165</td>\n",
              "      <td>2016-12-14</td>\n",
              "      <td>0.75</td>\n",
              "      <td>Janet Yellen</td>\n",
              "      <td>2</td>\n",
              "      <td>Information received since the Federal Open M...</td>\n",
              "      <td>statement</td>\n",
              "      <td>451</td>\n",
              "      <td>0</td>\n",
              "      <td>0</td>\n",
              "      <td>1</td>\n",
              "    </tr>\n",
              "    <tr>\n",
              "      <th>166</th>\n",
              "      <td>166</td>\n",
              "      <td>2017-02-01</td>\n",
              "      <td>0.75</td>\n",
              "      <td>Janet Yellen</td>\n",
              "      <td>1</td>\n",
              "      <td>Information received since the Federal Open M...</td>\n",
              "      <td>statement</td>\n",
              "      <td>413</td>\n",
              "      <td>0</td>\n",
              "      <td>1</td>\n",
              "      <td>0</td>\n",
              "    </tr>\n",
              "    <tr>\n",
              "      <th>167</th>\n",
              "      <td>167</td>\n",
              "      <td>2017-03-15</td>\n",
              "      <td>1</td>\n",
              "      <td>Janet Yellen</td>\n",
              "      <td>2</td>\n",
              "      <td>Information received since the Federal Open M...</td>\n",
              "      <td>statement</td>\n",
              "      <td>472</td>\n",
              "      <td>0</td>\n",
              "      <td>0</td>\n",
              "      <td>1</td>\n",
              "    </tr>\n",
              "    <tr>\n",
              "      <th>168</th>\n",
              "      <td>168</td>\n",
              "      <td>2017-05-03</td>\n",
              "      <td>1</td>\n",
              "      <td>Janet Yellen</td>\n",
              "      <td>1</td>\n",
              "      <td>Information received since the Federal Open M...</td>\n",
              "      <td>statement</td>\n",
              "      <td>500</td>\n",
              "      <td>0</td>\n",
              "      <td>1</td>\n",
              "      <td>0</td>\n",
              "    </tr>\n",
              "    <tr>\n",
              "      <th>169</th>\n",
              "      <td>169</td>\n",
              "      <td>2017-06-14</td>\n",
              "      <td>1.25</td>\n",
              "      <td>Janet Yellen</td>\n",
              "      <td>2</td>\n",
              "      <td>Information received since the Federal Open M...</td>\n",
              "      <td>statement</td>\n",
              "      <td>433</td>\n",
              "      <td>0</td>\n",
              "      <td>0</td>\n",
              "      <td>1</td>\n",
              "    </tr>\n",
              "    <tr>\n",
              "      <th>170</th>\n",
              "      <td>170</td>\n",
              "      <td>2017-07-26</td>\n",
              "      <td>1.25</td>\n",
              "      <td>Janet Yellen</td>\n",
              "      <td>1</td>\n",
              "      <td>Information received since the Federal Open M...</td>\n",
              "      <td>statement</td>\n",
              "      <td>419</td>\n",
              "      <td>0</td>\n",
              "      <td>1</td>\n",
              "      <td>0</td>\n",
              "    </tr>\n",
              "    <tr>\n",
              "      <th>171</th>\n",
              "      <td>171</td>\n",
              "      <td>2017-09-20</td>\n",
              "      <td>1.25</td>\n",
              "      <td>Janet Yellen</td>\n",
              "      <td>1</td>\n",
              "      <td>Information received since the Federal Open M...</td>\n",
              "      <td>statement</td>\n",
              "      <td>414</td>\n",
              "      <td>0</td>\n",
              "      <td>1</td>\n",
              "      <td>0</td>\n",
              "    </tr>\n",
              "    <tr>\n",
              "      <th>172</th>\n",
              "      <td>172</td>\n",
              "      <td>2017-11-01</td>\n",
              "      <td>1.25</td>\n",
              "      <td>Janet Yellen</td>\n",
              "      <td>1</td>\n",
              "      <td>Information received since the Federal Open M...</td>\n",
              "      <td>statement</td>\n",
              "      <td>422</td>\n",
              "      <td>0</td>\n",
              "      <td>1</td>\n",
              "      <td>0</td>\n",
              "    </tr>\n",
              "    <tr>\n",
              "      <th>173</th>\n",
              "      <td>173</td>\n",
              "      <td>2017-12-13</td>\n",
              "      <td>1.5</td>\n",
              "      <td>Janet Yellen</td>\n",
              "      <td>2</td>\n",
              "      <td>Information received since the Federal Open M...</td>\n",
              "      <td>statement</td>\n",
              "      <td>530</td>\n",
              "      <td>0</td>\n",
              "      <td>0</td>\n",
              "      <td>1</td>\n",
              "    </tr>\n",
              "    <tr>\n",
              "      <th>174</th>\n",
              "      <td>174</td>\n",
              "      <td>2018-01-31</td>\n",
              "      <td>1.5</td>\n",
              "      <td>Jerome Powell</td>\n",
              "      <td>1</td>\n",
              "      <td>Information received since the Federal Open M...</td>\n",
              "      <td>statement</td>\n",
              "      <td>333</td>\n",
              "      <td>0</td>\n",
              "      <td>1</td>\n",
              "      <td>0</td>\n",
              "    </tr>\n",
              "    <tr>\n",
              "      <th>175</th>\n",
              "      <td>175</td>\n",
              "      <td>2018-03-21</td>\n",
              "      <td>1.75</td>\n",
              "      <td>Jerome Powell</td>\n",
              "      <td>2</td>\n",
              "      <td>Information received since the Federal Open M...</td>\n",
              "      <td>statement</td>\n",
              "      <td>363</td>\n",
              "      <td>0</td>\n",
              "      <td>0</td>\n",
              "      <td>1</td>\n",
              "    </tr>\n",
              "    <tr>\n",
              "      <th>176</th>\n",
              "      <td>176</td>\n",
              "      <td>2018-05-02</td>\n",
              "      <td>1.75</td>\n",
              "      <td>Jerome Powell</td>\n",
              "      <td>1</td>\n",
              "      <td>Information received since the Federal Open M...</td>\n",
              "      <td>statement</td>\n",
              "      <td>336</td>\n",
              "      <td>0</td>\n",
              "      <td>1</td>\n",
              "      <td>0</td>\n",
              "    </tr>\n",
              "    <tr>\n",
              "      <th>177</th>\n",
              "      <td>177</td>\n",
              "      <td>2018-06-13</td>\n",
              "      <td>2</td>\n",
              "      <td>Jerome Powell</td>\n",
              "      <td>2</td>\n",
              "      <td>Information received since the Federal Open M...</td>\n",
              "      <td>statement</td>\n",
              "      <td>233</td>\n",
              "      <td>0</td>\n",
              "      <td>0</td>\n",
              "      <td>1</td>\n",
              "    </tr>\n",
              "    <tr>\n",
              "      <th>178</th>\n",
              "      <td>178</td>\n",
              "      <td>2018-08-01</td>\n",
              "      <td>2</td>\n",
              "      <td>Jerome Powell</td>\n",
              "      <td>1</td>\n",
              "      <td>Information received since the Federal Open M...</td>\n",
              "      <td>statement</td>\n",
              "      <td>221</td>\n",
              "      <td>0</td>\n",
              "      <td>1</td>\n",
              "      <td>0</td>\n",
              "    </tr>\n",
              "    <tr>\n",
              "      <th>179</th>\n",
              "      <td>179</td>\n",
              "      <td>2018-09-26</td>\n",
              "      <td>2.25</td>\n",
              "      <td>Jerome Powell</td>\n",
              "      <td>2</td>\n",
              "      <td>Information received since the Federal Open M...</td>\n",
              "      <td>statement</td>\n",
              "      <td>221</td>\n",
              "      <td>0</td>\n",
              "      <td>0</td>\n",
              "      <td>1</td>\n",
              "    </tr>\n",
              "    <tr>\n",
              "      <th>180</th>\n",
              "      <td>180</td>\n",
              "      <td>2018-11-08</td>\n",
              "      <td>2.25</td>\n",
              "      <td>Jerome Powell</td>\n",
              "      <td>1</td>\n",
              "      <td>Information received since the Federal Open M...</td>\n",
              "      <td>statement</td>\n",
              "      <td>234</td>\n",
              "      <td>0</td>\n",
              "      <td>1</td>\n",
              "      <td>0</td>\n",
              "    </tr>\n",
              "    <tr>\n",
              "      <th>181</th>\n",
              "      <td>181</td>\n",
              "      <td>2018-12-19</td>\n",
              "      <td>2.5</td>\n",
              "      <td>Jerome Powell</td>\n",
              "      <td>2</td>\n",
              "      <td>Information received since the Federal Open M...</td>\n",
              "      <td>statement</td>\n",
              "      <td>258</td>\n",
              "      <td>0</td>\n",
              "      <td>0</td>\n",
              "      <td>1</td>\n",
              "    </tr>\n",
              "    <tr>\n",
              "      <th>182</th>\n",
              "      <td>182</td>\n",
              "      <td>2019-01-30</td>\n",
              "      <td>2.5</td>\n",
              "      <td>Jerome Powell</td>\n",
              "      <td>1</td>\n",
              "      <td>Information received since the Federal Open M...</td>\n",
              "      <td>statement</td>\n",
              "      <td>285</td>\n",
              "      <td>0</td>\n",
              "      <td>1</td>\n",
              "      <td>0</td>\n",
              "    </tr>\n",
              "    <tr>\n",
              "      <th>183</th>\n",
              "      <td>183</td>\n",
              "      <td>2019-03-20</td>\n",
              "      <td>2.5</td>\n",
              "      <td>Jerome Powell</td>\n",
              "      <td>1</td>\n",
              "      <td>Information received since the Federal Open M...</td>\n",
              "      <td>statement</td>\n",
              "      <td>301</td>\n",
              "      <td>0</td>\n",
              "      <td>1</td>\n",
              "      <td>0</td>\n",
              "    </tr>\n",
              "    <tr>\n",
              "      <th>184</th>\n",
              "      <td>184</td>\n",
              "      <td>2019-05-01</td>\n",
              "      <td>2.5</td>\n",
              "      <td>Jerome Powell</td>\n",
              "      <td>1</td>\n",
              "      <td>Information received since the Federal Open M...</td>\n",
              "      <td>statement</td>\n",
              "      <td>277</td>\n",
              "      <td>0</td>\n",
              "      <td>1</td>\n",
              "      <td>0</td>\n",
              "    </tr>\n",
              "    <tr>\n",
              "      <th>185</th>\n",
              "      <td>185</td>\n",
              "      <td>2019-06-19</td>\n",
              "      <td>2.5</td>\n",
              "      <td>Jerome Powell</td>\n",
              "      <td>1</td>\n",
              "      <td>Information received since the Federal Open M...</td>\n",
              "      <td>statement</td>\n",
              "      <td>352</td>\n",
              "      <td>0</td>\n",
              "      <td>1</td>\n",
              "      <td>0</td>\n",
              "    </tr>\n",
              "    <tr>\n",
              "      <th>186</th>\n",
              "      <td>186</td>\n",
              "      <td>2019-07-31</td>\n",
              "      <td>2.25</td>\n",
              "      <td>Jerome Powell</td>\n",
              "      <td>0</td>\n",
              "      <td>Information received since the Federal Open M...</td>\n",
              "      <td>statement</td>\n",
              "      <td>373</td>\n",
              "      <td>1</td>\n",
              "      <td>0</td>\n",
              "      <td>0</td>\n",
              "    </tr>\n",
              "    <tr>\n",
              "      <th>187</th>\n",
              "      <td>187</td>\n",
              "      <td>2019-09-18</td>\n",
              "      <td>2</td>\n",
              "      <td>Jerome Powell</td>\n",
              "      <td>0</td>\n",
              "      <td>Information received since the Federal Open M...</td>\n",
              "      <td>statement</td>\n",
              "      <td>381</td>\n",
              "      <td>1</td>\n",
              "      <td>0</td>\n",
              "      <td>0</td>\n",
              "    </tr>\n",
              "    <tr>\n",
              "      <th>188</th>\n",
              "      <td>188</td>\n",
              "      <td>2019-10-11</td>\n",
              "      <td>2</td>\n",
              "      <td>Jerome Powell</td>\n",
              "      <td>1</td>\n",
              "      <td>Consistent with its January 2019 Statement Re...</td>\n",
              "      <td>statement</td>\n",
              "      <td>485</td>\n",
              "      <td>0</td>\n",
              "      <td>1</td>\n",
              "      <td>0</td>\n",
              "    </tr>\n",
              "    <tr>\n",
              "      <th>189</th>\n",
              "      <td>189</td>\n",
              "      <td>2019-10-30</td>\n",
              "      <td>1.75</td>\n",
              "      <td>Jerome Powell</td>\n",
              "      <td>0</td>\n",
              "      <td>Information received since the Federal Open M...</td>\n",
              "      <td>statement</td>\n",
              "      <td>344</td>\n",
              "      <td>1</td>\n",
              "      <td>0</td>\n",
              "      <td>0</td>\n",
              "    </tr>\n",
              "    <tr>\n",
              "      <th>190</th>\n",
              "      <td>190</td>\n",
              "      <td>2019-12-11</td>\n",
              "      <td>1.75</td>\n",
              "      <td>Jerome Powell</td>\n",
              "      <td>1</td>\n",
              "      <td>Information received since the Federal Open M...</td>\n",
              "      <td>statement</td>\n",
              "      <td>270</td>\n",
              "      <td>0</td>\n",
              "      <td>1</td>\n",
              "      <td>0</td>\n",
              "    </tr>\n",
              "    <tr>\n",
              "      <th>191</th>\n",
              "      <td>191</td>\n",
              "      <td>2020-01-29</td>\n",
              "      <td>1.75</td>\n",
              "      <td>Jerome Powell</td>\n",
              "      <td>1</td>\n",
              "      <td>Information received since the Federal Open M...</td>\n",
              "      <td>statement</td>\n",
              "      <td>271</td>\n",
              "      <td>0</td>\n",
              "      <td>1</td>\n",
              "      <td>0</td>\n",
              "    </tr>\n",
              "  </tbody>\n",
              "</table>\n",
              "<p>192 rows × 11 columns</p>\n",
              "</div>"
            ],
            "text/plain": [
              "     index       date  rate  ... target_lower  target_hold target_raise\n",
              "0        0 1994-02-04  3.25  ...            0            0            1\n",
              "1        1 1994-03-22   3.5  ...            0            0            1\n",
              "2        2 1994-04-18  3.75  ...            0            0            1\n",
              "3        3 1994-05-17  4.25  ...            0            0            1\n",
              "4        4 1994-08-16  4.75  ...            0            0            1\n",
              "..     ...        ...   ...  ...          ...          ...          ...\n",
              "187    187 2019-09-18     2  ...            1            0            0\n",
              "188    188 2019-10-11     2  ...            0            1            0\n",
              "189    189 2019-10-30  1.75  ...            1            0            0\n",
              "190    190 2019-12-11  1.75  ...            0            1            0\n",
              "191    191 2020-01-29  1.75  ...            0            1            0\n",
              "\n",
              "[192 rows x 11 columns]"
            ]
          },
          "metadata": {
            "tags": []
          },
          "execution_count": 46
        }
      ]
    },
    {
      "cell_type": "code",
      "metadata": {
        "id": "GTOWbZlfdc2w",
        "colab_type": "code",
        "outputId": "11b70c9e-b82f-42b4-da8b-cf45cf244683",
        "colab": {
          "base_uri": "https://localhost:8080/",
          "height": 411
        }
      },
      "source": [
        "sns.distplot(train_df['word_count'])"
      ],
      "execution_count": 47,
      "outputs": [
        {
          "output_type": "execute_result",
          "data": {
            "text/plain": [
              "<matplotlib.axes._subplots.AxesSubplot at 0x7fed276685c0>"
            ]
          },
          "metadata": {
            "tags": []
          },
          "execution_count": 47
        },
        {
          "output_type": "display_data",
          "data": {
            "image/png": "[encoded data removed]",
            "text/plain": [
              "<Figure size 1080x432 with 1 Axes>"
            ]
          },
          "metadata": {
            "tags": []
          }
        }
      ]
    },
    {
      "cell_type": "code",
      "metadata": {
        "id": "6A655oIQo7Tf",
        "colab_type": "code",
        "colab": {}
      },
      "source": [
        "# Define metrics\n",
        "def metric(y_true, y_pred):\n",
        "    acc = accuracy_score(y_true, y_pred)\n",
        "    f1 = f1_score(y_true, y_pred, average='macro')\n",
        "    return acc, f1\n",
        "\n",
        "plt.rcParams[\"figure.figsize\"] = (15,6)"
      ],
      "execution_count": 0,
      "outputs": []
    },
    {
      "cell_type": "markdown",
      "metadata": {
        "id": "zA5kw4aoS_Kb",
        "colab_type": "text"
      },
      "source": [
        "## A. Tfidf + logistic regression"
      ]
    },
    {
      "cell_type": "code",
      "metadata": {
        "id": "S_B3STSlXcuM",
        "colab_type": "code",
        "outputId": "9209dc9b-95a7-4918-c3f6-a6fecb46bc89",
        "colab": {
          "base_uri": "https://localhost:8080/",
          "height": 831
        }
      },
      "source": [
        "from sklearn import model_selection\n",
        "from sklearn.feature_extraction.text import TfidfVectorizer\n",
        "from sklearn.linear_model import LogisticRegression\n",
        "from sklearn.pipeline import Pipeline\n",
        "\n",
        "def build_tfidf_logreg(df, validation=True):\n",
        "    x_train = df['text']\n",
        "    y_train = df['target']\n",
        "    clf = Pipeline([\n",
        "                    ('tfidf', TfidfVectorizer(analyzer='word')),\n",
        "                    ('clf', LogisticRegression())\n",
        "    ])\n",
        "\n",
        "    if validation:\n",
        "        x_train, x_valid, y_train, y_valid = model_selection.train_test_split(x_train.values, y_train.values, test_size=0.2, random_state=42)\n",
        "        clf.fit(x_train, y_train)\n",
        "        predicted_train = clf.predict(x_train)\n",
        "        predicted_valid = clf.predict(x_valid)\n",
        "\n",
        "        acc, f1 = metric(y_train, predicted_train)\n",
        "        logger.info('Training - acc: %.8f, f1: %.8f' % (acc, f1))\n",
        "        acc, f1 = metric(y_valid, predicted_valid)\n",
        "        logger.info('Validationn - acc: %.8f, f1: %.8f' % (acc, f1))\n",
        "\n",
        "        # print(\"Training Accuracy: \", np.mean(predicted_train == y_train))\n",
        "        # print(\"Validation Accuracy: \", np.mean(predicted_valid == y_valid))\n",
        "    else:\n",
        "        clf.fit(x_train, y_train)\n",
        "        predicted_train = clf.predict(x_train)\n",
        "        acc, f1 = metric(y_train, predicted_train)\n",
        "        logger.info('Training - acc: %.8f, f1: %.8f' % (acc, f1))\n",
        "\n",
        "    class_names = ['Lower', 'Hold', 'Raise']\n",
        "    y_valid_class = [class_names[idx] for idx in y_valid]\n",
        "    predicted_valid_class = [class_names[idx] for idx in predicted_valid]\n",
        "    titles_options = [(\"Confusion matrix, without normalization\", None), (\"Normalized confusion matrix\", 'true')]\n",
        "    for title, normalize in titles_options:\n",
        "        disp = skplt.metrics.plot_confusion_matrix(y_valid_class, predicted_valid_class, normalize=normalize, title=title)\n",
        "    plt.show()\n",
        "\n",
        "    return clf\n",
        "\n",
        "model = build_tfidf_logreg(train_df)"
      ],
      "execution_count": 48,
      "outputs": [
        {
          "output_type": "stream",
          "text": [
            "[2020-04-08 17:15:09,849][INFO] ## Training - acc: 0.84313725, f1: 0.80337691\n",
            "[2020-04-08 17:15:09,853][INFO] ## Validationn - acc: 0.79487179, f1: 0.75396825\n"
          ],
          "name": "stderr"
        },
        {
          "output_type": "display_data",
          "data": {
            "image/png": "[encoded data removed]",
            "text/plain": [
              "<Figure size 1080x432 with 2 Axes>"
            ]
          },
          "metadata": {
            "tags": []
          }
        },
        {
          "output_type": "display_data",
          "data": {
            "image/png": "[encoded data removed]",
            "text/plain": [
              "<Figure size 1080x432 with 2 Axes>"
            ]
          },
          "metadata": {
            "tags": []
          }
        }
      ]
    },
    {
      "cell_type": "markdown",
      "metadata": {
        "id": "BD2p2Tq2TQsr",
        "colab_type": "text"
      },
      "source": [
        "## B) RNN/LSTM"
      ]
    },
    {
      "cell_type": "markdown",
      "metadata": {
        "id": "1CdsD7OPM3WU",
        "colab_type": "text"
      },
      "source": [
        "Extract words which are only aphabet and not in stop word, covert to lower case."
      ]
    },
    {
      "cell_type": "code",
      "metadata": {
        "id": "iX3KHz5urH5j",
        "colab_type": "code",
        "colab": {}
      },
      "source": [
        "def tokenize_df(df):\n",
        "    tokenized = []\n",
        "    wnl = nltk.stem.WordNetLemmatizer()\n",
        "    for text in tqdm(df['text']):\n",
        "        words = [word.lower() for word in word_tokenize(text) if ((word.isalpha()==1) & (word not in stop))]\n",
        "        tokens = [wnl.lemmatize(wnl.lemmatize(word, 'n'), 'v') for word in words]\n",
        "        tokenized.append(tokens)\n",
        "    return tokenized"
      ],
      "execution_count": 0,
      "outputs": []
    },
    {
      "cell_type": "code",
      "metadata": {
        "id": "lGzERKvNrQCd",
        "colab_type": "code",
        "outputId": "76ef27dc-5e0f-4e8c-f384-f3b1daf21645",
        "colab": {
          "base_uri": "https://localhost:8080/",
          "height": 66,
          "referenced_widgets": [
            "a10f990bd8474dbbbdfed63fd4b90bb1",
            "16ef2d394ff24c17927858ac312cd6cb",
            "b29c3632a2dc4db7b1e05721cb4bbfb3",
            "bc386bc5ee77484f90c75097b23b31e0",
            "2212f41e0b454fdcbfd4a61f0642a984",
            "97910ef682e64068bf66352ce2450759",
            "b60fbec962224cf18460460c910b813c",
            "81728fa888b04d4aa3f2d4dbe35379dc"
          ]
        }
      },
      "source": [
        "tokenized = tokenize_df(train_df)"
      ],
      "execution_count": 50,
      "outputs": [
        {
          "output_type": "display_data",
          "data": {
            "application/vnd.jupyter.widget-view+json": {
              "model_id": "a10f990bd8474dbbbdfed63fd4b90bb1",
              "version_minor": 0,
              "version_major": 2
            },
            "text/plain": [
              "HBox(children=(FloatProgress(value=0.0, max=192.0), HTML(value='')))"
            ]
          },
          "metadata": {
            "tags": []
          }
        },
        {
          "output_type": "stream",
          "text": [
            "\n"
          ],
          "name": "stdout"
        }
      ]
    },
    {
      "cell_type": "code",
      "metadata": {
        "id": "XOOME2-Fj3T6",
        "colab_type": "code",
        "outputId": "94d75dcc-9ca0-4e71-9c22-3d359fa375fe",
        "colab": {
          "base_uri": "https://localhost:8080/",
          "height": 1000
        }
      },
      "source": [
        "tokenized[0]"
      ],
      "execution_count": 51,
      "outputs": [
        {
          "output_type": "execute_result",
          "data": {
            "text/plain": [
              "['chairman',\n",
              " 'alan',\n",
              " 'greenspan',\n",
              " 'announce',\n",
              " 'today',\n",
              " 'federal',\n",
              " 'open',\n",
              " 'market',\n",
              " 'committee',\n",
              " 'decide',\n",
              " 'increase',\n",
              " 'slightly',\n",
              " 'degree',\n",
              " 'pressure',\n",
              " 'reserve',\n",
              " 'position',\n",
              " 'the',\n",
              " 'action',\n",
              " 'expect',\n",
              " 'associate',\n",
              " 'small',\n",
              " 'increase',\n",
              " 'money',\n",
              " 'market',\n",
              " 'interest',\n",
              " 'rate',\n",
              " 'the',\n",
              " 'decision',\n",
              " 'take',\n",
              " 'move',\n",
              " 'toward',\n",
              " 'le',\n",
              " 'accommodative',\n",
              " 'stance',\n",
              " 'monetary',\n",
              " 'policy',\n",
              " 'order',\n",
              " 'sustain',\n",
              " 'enhance',\n",
              " 'economic',\n",
              " 'expansion',\n",
              " 'chairman',\n",
              " 'greenspan',\n",
              " 'decide',\n",
              " 'announce',\n",
              " 'action',\n",
              " 'immediately',\n",
              " 'avoid',\n",
              " 'misunderstand',\n",
              " 'committee',\n",
              " 'purpose',\n",
              " 'give',\n",
              " 'fact',\n",
              " 'first',\n",
              " 'firm',\n",
              " 'reserve',\n",
              " 'market',\n",
              " 'condition',\n",
              " 'committee',\n",
              " 'since',\n",
              " 'early']"
            ]
          },
          "metadata": {
            "tags": []
          },
          "execution_count": 51
        }
      ]
    },
    {
      "cell_type": "code",
      "metadata": {
        "id": "5EGKvqcWQCsZ",
        "colab_type": "code",
        "outputId": "d39385a9-f7d1-4a0b-af06-84532ea5d8ec",
        "colab": {
          "base_uri": "https://localhost:8080/",
          "height": 105
        }
      },
      "source": [
        "from collections import Counter\n",
        "\n",
        "print('len(tokenized): ', len(tokenized))\n",
        "all_words = [word for text in tokenized for word in text]\n",
        "#all_words = [word for word in text for text in tokenized]\n",
        "#print(all_words[:20])\n",
        "print('len(all_words): ', len(all_words))\n",
        "counts = Counter(all_words)\n",
        "print('len(counts): ', len(counts))\n",
        "bow = sorted(counts, key=counts.get, reverse=True)\n",
        "print(bow[:20])"
      ],
      "execution_count": 52,
      "outputs": [
        {
          "output_type": "stream",
          "text": [
            "len(tokenized):  192\n",
            "len(all_words):  74762\n",
            "len(counts):  1295\n",
            "['committee', 'federal', 'inflation', 'rate', 'economic', 'policy', 'the', 'market', 'action', 'monetary', 'growth', 'price', 'continue', 'percent', 'remain', 'board', 'condition', 'fund', 'in', 'reserve']\n"
          ],
          "name": "stdout"
        }
      ]
    },
    {
      "cell_type": "markdown",
      "metadata": {
        "id": "EfQuT9abSF-C",
        "colab_type": "text"
      },
      "source": [
        "### Filter by frequency of words\n",
        "\n",
        "This time, switch it off as the frequency is already considered while creating the vocabrary"
      ]
    },
    {
      "cell_type": "code",
      "metadata": {
        "id": "5cnHKFeFSXIi",
        "colab_type": "code",
        "colab": {}
      },
      "source": [
        "# freq = {}\n",
        "# num_words = len(all_words)\n",
        "# print('len(all_words): ', len(all_words))\n",
        "\n",
        "# for key in counts:\n",
        "#     freq[key] = counts[key]/num_words\n",
        "\n",
        "# print('len(freq): ', len(freq))\n",
        "# print(freq['rate'])\n",
        "\n",
        "# low_cutoff = 0.000001\n",
        "# high_cutoff = 20\n",
        "\n",
        "# K_most_common, K_most_common_values = zip(*counts.most_common()[:high_cutoff])\n",
        "\n",
        "# filtered_words = [word for word in freqs if (freqs[word] > low_cutoff and word not in K_most_common)]\n",
        "# print(K_most_common)\n",
        "# print('len(filtered_words): ', len(filtered_words))"
      ],
      "execution_count": 0,
      "outputs": []
    },
    {
      "cell_type": "code",
      "metadata": {
        "id": "-_YLd74dWnEM",
        "colab_type": "code",
        "colab": {}
      },
      "source": [
        "\n",
        "# Indexing vocabrary, starting from 1.\n",
        "vocab = {word: ii for ii, word in enumerate(counts, 1)}\n",
        "id2vocab = {v: k for k, v in vocab.items()}"
      ],
      "execution_count": 0,
      "outputs": []
    },
    {
      "cell_type": "markdown",
      "metadata": {
        "id": "HjsniJTmSVFa",
        "colab_type": "text"
      },
      "source": [
        "### Balancing the classes"
      ]
    },
    {
      "cell_type": "code",
      "metadata": {
        "id": "8dZz38oPnrrM",
        "colab_type": "code",
        "outputId": "b485e159-67e5-49cb-bda2-690f871fdc6f",
        "colab": {
          "base_uri": "https://localhost:8080/",
          "height": 68
        }
      },
      "source": [
        "\n",
        "n_hold = sum(1 for each in train_df['target'] if each == 1)\n",
        "n_lower = sum(1 for each in train_df['target'] if each == 0)\n",
        "n_raise = sum(1 for each in train_df['target'] if each == 2)\n",
        "N_examples = len(train_df)\n",
        "\n",
        "print('Hold: ', n_hold/N_examples)\n",
        "print('Lower:', n_lower/N_examples)\n",
        "print('Raise:', n_raise/N_examples)"
      ],
      "execution_count": 55,
      "outputs": [
        {
          "output_type": "stream",
          "text": [
            "Hold:  0.5833333333333334\n",
            "Lower: 0.203125\n",
            "Raise: 0.21354166666666666\n"
          ],
          "name": "stdout"
        }
      ]
    },
    {
      "cell_type": "code",
      "metadata": {
        "id": "KOW_QMV1pBL6",
        "colab_type": "code",
        "outputId": "7e8e0afb-bae0-47f1-8d60-6c9f51ba1733",
        "colab": {
          "base_uri": "https://localhost:8080/",
          "height": 68
        }
      },
      "source": [
        "# Too many Hold. Better to randomly pick to even the distribution\n",
        "n_hold = sum(1 for each in train_df['target'] if each == 1)\n",
        "N_examples = len(train_df)\n",
        "balanced = {'texts': [], 'targets': []}\n",
        "\n",
        "# Keep probability\n",
        "keep_prob = (N_examples - n_hold)/2/n_hold\n",
        "#keep_prob = 1\n",
        "\n",
        "for idx, target in enumerate(train_df['target']):\n",
        "    text = tokenized[idx]\n",
        "    if len(text) == 0:\n",
        "        continue\n",
        "    elif target != 1 or random.random() < keep_prob:\n",
        "        balanced['texts'].append(text)\n",
        "        balanced['targets'].append(target)\n",
        "\n",
        "n_hold = sum(1 for each in balanced['targets'] if each == 1)\n",
        "n_lower = sum(1 for each in balanced['targets'] if each == 0)\n",
        "n_raise = sum(1 for each in balanced['targets'] if each == 2)\n",
        "N_examples = len(balanced['targets'])\n",
        "print('Hold: ', n_hold/N_examples)\n",
        "print('Lower:', n_lower/N_examples)\n",
        "print('Raise:', n_raise/N_examples)"
      ],
      "execution_count": 68,
      "outputs": [
        {
          "output_type": "stream",
          "text": [
            "Hold:  0.33884297520661155\n",
            "Lower: 0.32231404958677684\n",
            "Raise: 0.33884297520661155\n"
          ],
          "name": "stdout"
        }
      ]
    },
    {
      "cell_type": "code",
      "metadata": {
        "id": "Jkbd2Ohg-EWu",
        "colab_type": "code",
        "outputId": "5312f73c-0f04-4992-adde-10c2bd52d7aa",
        "colab": {
          "base_uri": "https://localhost:8080/",
          "height": 156
        }
      },
      "source": [
        "# words_found, words_not_found = 0, 0\n",
        "# token_ids = []\n",
        "# for j, text in tqdm(enumerate(balanced['texts'])):\n",
        "#     num_words = len(text) + 1\n",
        "#     embedding_matrix = np.zeros((num_words, 300))\n",
        "#     embedding_vector = []\n",
        "\n",
        "#     for i, word in enumerate(text):\n",
        "#         try:\n",
        "#             embedding_vector.append(glove_dict.get(word))\n",
        "#             words_found += 1\n",
        "#         except KeyError:\n",
        "#             embedding_vector.append(np.random.normal(scale=0.6, size=(300, )))\n",
        "#             words_not_found += 1\n",
        "#         print(embedding_vector)\n",
        "#         embedding_matrix[i] = embedding_vector\n",
        "#     token_ids.append(embedding_matrix)\n",
        "\n",
        "# print(len(token_ids))\n",
        "# print('Words Found: {}, Words Not Found: {}', words_found, words_not_found)\n",
        "# token_ids = [[glove_dict.get(word) for word in text] for text in balanced['texts']]\n",
        "\n",
        "token_ids = [[vocab[word] for word in text] for text in balanced['texts']]\n",
        "targets = balanced['targets']\n",
        "\n",
        "print('token_ids: ', len(token_ids))\n",
        "print('len(token_ids[0]): ', len(token_ids[0]))\n",
        "print('token_ids[0]: ', token_ids[0])\n",
        "print(\"------------------------\")\n",
        "print('targets: ', len(targets))\n",
        "print('targets[0]: ', targets[0])\n",
        "print('type(targets[0]): ', type(targets[0]))\n",
        "\n"
      ],
      "execution_count": 69,
      "outputs": [
        {
          "output_type": "stream",
          "text": [
            "token_ids:  121\n",
            "len(token_ids[0]):  61\n",
            "token_ids[0]:  [1, 2, 3, 4, 5, 6, 7, 8, 9, 10, 11, 12, 13, 14, 15, 16, 17, 18, 19, 20, 21, 11, 22, 8, 23, 24, 17, 25, 26, 27, 28, 29, 30, 31, 32, 33, 34, 35, 36, 37, 38, 1, 3, 10, 4, 18, 39, 40, 41, 9, 42, 43, 44, 45, 46, 15, 8, 47, 9, 48, 49]\n",
            "------------------------\n",
            "targets:  121\n",
            "targets[0]:  2\n",
            "type(targets[0]):  <class 'int'>\n"
          ],
          "name": "stdout"
        }
      ]
    },
    {
      "cell_type": "markdown",
      "metadata": {
        "id": "a8eL43Mku0Su",
        "colab_type": "text"
      },
      "source": [
        "### Model\n",
        "#### Embed -> RNN -> Dense -> Softmax"
      ]
    },
    {
      "cell_type": "code",
      "metadata": {
        "id": "KNOHGl9EvApY",
        "colab_type": "code",
        "colab": {}
      },
      "source": [
        "class TextClassifier(nn.Module):\n",
        "    def __init__(self, vocab_size, embed_size, lstm_size, output_size, lstm_layers=1, dropout=0.1):\n",
        "        \"\"\"\n",
        "        Initialize the model\n",
        "        \"\"\"\n",
        "        super().__init__()\n",
        "        self.vocab_size = vocab_size\n",
        "        self.embed_size = embed_size\n",
        "        self.lstm_size = lstm_size\n",
        "        self.output_size = output_size\n",
        "        self.lstm_layers = lstm_layers\n",
        "        self.dropout = dropout\n",
        "\n",
        "        self.embedding = nn.Embedding(vocab_size, embed_size)\n",
        "        self.lstm = nn.LSTM(embed_size, lstm_size, lstm_layers,\n",
        "                            dropout=dropout, batch_first=False)\n",
        "        self.dropout = nn.Dropout(0.2)\n",
        "        self.fc = nn.Linear(lstm_size, output_size)\n",
        "        self.softmax = nn.LogSoftmax(dim=1)\n",
        "\n",
        "    def init_hidden(self, batch_size):\n",
        "        \"\"\"\n",
        "        Initialize the hidden state\n",
        "        \"\"\"\n",
        "\n",
        "        weight = next(self.parameters()).data\n",
        "        # print('initial weight size: ', weight.shape)\n",
        "        # print('initial weight: ', weight)\n",
        "        # print('initial weight new: ', weight.new(self.lstm_layers, batch_size, self.lstm_size))\n",
        "\n",
        "        hidden = (weight.new(self.lstm_layers, batch_size, self.lstm_size).zero_(),\n",
        "                  weight.new(self.lstm_layers, batch_size, self.lstm_size).zero_())\n",
        "        \n",
        "        return hidden\n",
        "\n",
        "    def forward(self, nn_input, hidden_state):\n",
        "        \"\"\"\n",
        "        Perform a forward pass of the model on nn_input\n",
        "        \"\"\"\n",
        "        batch_size = nn_input.size(0)\n",
        "        nn_input = nn_input.long()\n",
        "        embeds = self.embedding(nn_input)\n",
        "        lstm_out, hidden_state = self.lstm(embeds, hidden_state)\n",
        "        # Stack up LSTM outputs\n",
        "        lstm_out = lstm_out[-1,:,:]\n",
        "        out = self.dropout(lstm_out)\n",
        "        out = self.fc(out)\n",
        "        logps = self.softmax(out)\n",
        "\n",
        "        return logps, hidden_state\n"
      ],
      "execution_count": 0,
      "outputs": []
    },
    {
      "cell_type": "markdown",
      "metadata": {
        "id": "GWHaNG1Y6l8k",
        "colab_type": "text"
      },
      "source": [
        "#### View Model"
      ]
    },
    {
      "cell_type": "code",
      "metadata": {
        "id": "jLWHZZ2V41Gt",
        "colab_type": "code",
        "outputId": "c6074b42-dd2a-44e0-c8a1-3029da023f21",
        "colab": {
          "base_uri": "https://localhost:8080/",
          "height": 697
        }
      },
      "source": [
        "# Embedding to 300 dimentions, 6 hidden dimentions, output 3 dimentions\n",
        "model = TextClassifier(len(vocab), 300, 6, 3, dropout=0.1, lstm_layers=2)\n",
        "print(model)\n",
        "\n",
        "# Initialize the embedding weight with uniform distribution \n",
        "model.embedding.weight.data.uniform_(-1, 1)\n",
        "input = torch.randint(0, 1000, (5,4), dtype=torch.int64)\n",
        "print('input: ', input)\n",
        "\n",
        "hidden = model.init_hidden(4)\n",
        "print('init hidden: ', hidden[0].shape, hidden[1].shape)\n",
        "print(hidden)\n",
        "\n",
        "logps, _ = model.forward(input, hidden)\n",
        "print('logps after one step forward: \\n', logps)\n",
        "print('torch.exp(logps): \\n', torch.exp(logps))"
      ],
      "execution_count": 71,
      "outputs": [
        {
          "output_type": "stream",
          "text": [
            "TextClassifier(\n",
            "  (embedding): Embedding(1295, 300)\n",
            "  (lstm): LSTM(300, 6, num_layers=2, dropout=0.1)\n",
            "  (dropout): Dropout(p=0.2, inplace=False)\n",
            "  (fc): Linear(in_features=6, out_features=3, bias=True)\n",
            "  (softmax): LogSoftmax()\n",
            ")\n",
            "input:  tensor([[453, 486, 778, 435],\n",
            "        [369, 160, 235, 347],\n",
            "        [259, 477,  53, 188],\n",
            "        [227, 280,  47, 341],\n",
            "        [ 48, 661, 469, 699]])\n",
            "init hidden:  torch.Size([2, 4, 6]) torch.Size([2, 4, 6])\n",
            "(tensor([[[0., 0., 0., 0., 0., 0.],\n",
            "         [0., 0., 0., 0., 0., 0.],\n",
            "         [0., 0., 0., 0., 0., 0.],\n",
            "         [0., 0., 0., 0., 0., 0.]],\n",
            "\n",
            "        [[0., 0., 0., 0., 0., 0.],\n",
            "         [0., 0., 0., 0., 0., 0.],\n",
            "         [0., 0., 0., 0., 0., 0.],\n",
            "         [0., 0., 0., 0., 0., 0.]]]), tensor([[[0., 0., 0., 0., 0., 0.],\n",
            "         [0., 0., 0., 0., 0., 0.],\n",
            "         [0., 0., 0., 0., 0., 0.],\n",
            "         [0., 0., 0., 0., 0., 0.]],\n",
            "\n",
            "        [[0., 0., 0., 0., 0., 0.],\n",
            "         [0., 0., 0., 0., 0., 0.],\n",
            "         [0., 0., 0., 0., 0., 0.],\n",
            "         [0., 0., 0., 0., 0., 0.]]]))\n",
            "logps after one step forward: \n",
            " tensor([[-1.1425, -1.3911, -0.8389],\n",
            "        [-1.2212, -1.3261, -0.8218],\n",
            "        [-1.1187, -1.4254, -0.8373],\n",
            "        [-1.0408, -1.4497, -0.8863]], grad_fn=<LogSoftmaxBackward>)\n",
            "torch.exp(logps): \n",
            " tensor([[0.3190, 0.2488, 0.4322],\n",
            "        [0.2949, 0.2655, 0.4396],\n",
            "        [0.3267, 0.2404, 0.4329],\n",
            "        [0.3532, 0.2346, 0.4122]], grad_fn=<ExpBackward>)\n"
          ],
          "name": "stdout"
        }
      ]
    },
    {
      "cell_type": "markdown",
      "metadata": {
        "id": "mLuN1Xnq9oqS",
        "colab_type": "text"
      },
      "source": [
        "### DataLoaders and Batching\n",
        "\n",
        "can use keras functions but let's do it from scratch"
      ]
    },
    {
      "cell_type": "code",
      "metadata": {
        "id": "gg_PPeeW9zWk",
        "colab_type": "code",
        "colab": {}
      },
      "source": [
        "# from keras.preprocessing.text import Tokenizer\n",
        "# from keras.preprocessing.sequence import pad_sequences\n",
        "\n",
        "# MAX_LEN = 100\n",
        "# tokenizer_obj = Tokenizer()\n",
        "# tokenizer_obj.fit_on_texts(balanced['texts'])\n",
        "# sequences = tokenizer_obj.texts_to_sequences(balanced['texts'])\n",
        "\n",
        "# text_pad = pad_sequences(sequences, maxlen=MAX_LEN, truncating='post', padding='post')\n",
        "# text_pad"
      ],
      "execution_count": 0,
      "outputs": []
    },
    {
      "cell_type": "code",
      "metadata": {
        "id": "KWudHfut9rmF",
        "colab_type": "code",
        "colab": {}
      },
      "source": [
        "def dataloader(messages, labels, sequence_length=100, batch_size=16, shuffle=False):\n",
        "    \"\"\" \n",
        "    Build a dataloader.\n",
        "    \"\"\"\n",
        "    if shuffle:\n",
        "        indices = list(range(len(messages)))\n",
        "        random.shuffle(indices)\n",
        "        messages = [messages[idx] for idx in indices]\n",
        "        labels = [labels[idx] for idx in indices]\n",
        "\n",
        "    total_sequences = len(messages)\n",
        "\n",
        "    for ii in range(0, total_sequences, batch_size):\n",
        "        batch_messages = messages[ii: ii+batch_size]\n",
        "        \n",
        "        # First initialize a tensor of all zeros\n",
        "        batch = torch.zeros((sequence_length, len(batch_messages)), dtype=torch.int64)\n",
        "        for batch_num, tokens in enumerate(batch_messages):\n",
        "            token_tensor = torch.tensor(tokens)\n",
        "            # print(len(tokens))\n",
        "            # print(len(tokens[0]))\n",
        "            # print(token_tensor.shape)\n",
        "            # Left pad!\n",
        "            start_idx = max(sequence_length - len(token_tensor), 0)\n",
        "            # print(token_tensor[:sequence_length].shape)\n",
        "            # print(start_idx, batch_num)\n",
        "            batch[start_idx:, batch_num] = token_tensor[:sequence_length]\n",
        "        label_tensor = torch.tensor(labels[ii: ii+len(batch_messages)])\n",
        "        \n",
        "        yield batch, label_tensor"
      ],
      "execution_count": 0,
      "outputs": []
    },
    {
      "cell_type": "markdown",
      "metadata": {
        "id": "V48EeO6K-GaF",
        "colab_type": "text"
      },
      "source": [
        "### Split Training and Validation"
      ]
    },
    {
      "cell_type": "code",
      "metadata": {
        "id": "kMuUDgTBWCLo",
        "colab_type": "code",
        "colab": {}
      },
      "source": [
        "# from sklearn import model_selection\n",
        "\n",
        "# x_train, x_valid, y_train, y_valid = model_selection.train_test_split(text_pad, df['target'].values, test_size=0.2, random_state=42)\n",
        "# print('Shape of train',x_train.shape)\n",
        "# print(\"Shape of Validation \",x_valid.shape)\n",
        "# word_index = tokenizer_obj.word_index\n",
        "# print('Number of unique words: ', len(word_index))"
      ],
      "execution_count": 0,
      "outputs": []
    },
    {
      "cell_type": "code",
      "metadata": {
        "id": "dX-LHMAL-BZe",
        "colab_type": "code",
        "outputId": "26a9983b-1896-482c-a34c-205068ce89b8",
        "colab": {
          "base_uri": "https://localhost:8080/",
          "height": 102
        }
      },
      "source": [
        "# Split data into training and validation datasets. Use an appropriate split size.\n",
        "\n",
        "split_frac = 0.8\n",
        "\n",
        "split_idx = int(len(token_ids)*split_frac)\n",
        "\n",
        "train_features = token_ids[:split_idx]\n",
        "valid_features = token_ids[split_idx:]\n",
        "train_labels = targets[:split_idx]\n",
        "valid_labels = targets[split_idx:]\n",
        "\n",
        "print(\"len(token_ids): \", len(token_ids))\n",
        "print(\"len(train_features): \", len(train_features))\n",
        "print(\"len(valid_features): \", len(valid_features))\n",
        "print(\"len(train_labels): \", len(train_labels))\n",
        "print(\"len(valid_labels): \", len(valid_labels))"
      ],
      "execution_count": 75,
      "outputs": [
        {
          "output_type": "stream",
          "text": [
            "len(token_ids):  121\n",
            "len(train_features):  96\n",
            "len(valid_features):  25\n",
            "len(train_labels):  96\n",
            "len(valid_labels):  25\n"
          ],
          "name": "stdout"
        }
      ]
    },
    {
      "cell_type": "markdown",
      "metadata": {
        "id": "JXsA2SMQDAWQ",
        "colab_type": "text"
      },
      "source": [
        "### Check the model and data"
      ]
    },
    {
      "cell_type": "code",
      "metadata": {
        "id": "2WuzFhZ2QSLh",
        "colab_type": "code",
        "outputId": "58c8651f-50ed-4f20-9cea-6f5a2db784a5",
        "colab": {
          "base_uri": "https://localhost:8080/",
          "height": 343
        }
      },
      "source": [
        "text_batch, labels = next(iter(dataloader(train_features, train_labels)))\n",
        "model = TextClassifier(len(vocab), 512, 128, 3, dropout=0.1)\n",
        "hidden = model.init_hidden(16)\n",
        "logps, hidden = model.forward(text_batch, hidden)\n",
        "print(logps)"
      ],
      "execution_count": 76,
      "outputs": [
        {
          "output_type": "stream",
          "text": [
            "tensor([[-1.0067, -1.0690, -1.2337],\n",
            "        [-1.1251, -1.1535, -1.0221],\n",
            "        [-1.0568, -1.0945, -1.1466],\n",
            "        [-1.0101, -1.0963, -1.1983],\n",
            "        [-1.0367, -1.0928, -1.1709],\n",
            "        [-1.0402, -1.0862, -1.1741],\n",
            "        [-1.0609, -1.0679, -1.1708],\n",
            "        [-0.8748, -1.2542, -1.2116],\n",
            "        [-0.8293, -1.4292, -1.1266],\n",
            "        [-1.0539, -1.0728, -1.1731],\n",
            "        [-1.1241, -1.1288, -1.0452],\n",
            "        [-1.0709, -0.9305, -1.3358],\n",
            "        [-1.0042, -0.9685, -1.3704],\n",
            "        [-1.0697, -0.8830, -1.4133],\n",
            "        [-1.0931, -1.0080, -1.2043],\n",
            "        [-1.1387, -0.9829, -1.1857]], grad_fn=<LogSoftmaxBackward>)\n"
          ],
          "name": "stdout"
        },
        {
          "output_type": "stream",
          "text": [
            "/usr/local/lib/python3.6/dist-packages/torch/nn/modules/rnn.py:50: UserWarning: dropout option adds dropout after all but last recurrent layer, so non-zero dropout expects num_layers greater than 1, but got dropout=0.1 and num_layers=1\n",
            "  \"num_layers={}\".format(dropout, num_layers))\n"
          ],
          "name": "stderr"
        }
      ]
    },
    {
      "cell_type": "code",
      "metadata": {
        "id": "2qIX3wsDdtAe",
        "colab_type": "code",
        "colab": {}
      },
      "source": [
        "# Define metrics\n",
        "def metric(y_true, y_pred):\n",
        "    acc = accuracy_score(y_true, y_pred)\n",
        "    f1 = f1_score(y_true, y_pred, average='macro')\n",
        "    return acc, f1"
      ],
      "execution_count": 0,
      "outputs": []
    },
    {
      "cell_type": "markdown",
      "metadata": {
        "id": "Ru_-CkKDt-Ya",
        "colab_type": "text"
      },
      "source": [
        "### Training\n"
      ]
    },
    {
      "cell_type": "code",
      "metadata": {
        "id": "2oPi-tKYeuSr",
        "colab_type": "code",
        "outputId": "c5ac67bc-3297-4bab-a0ee-2041b2202a97",
        "colab": {
          "base_uri": "https://localhost:8080/",
          "height": 136
        }
      },
      "source": [
        "device = torch.device('cuda' if torch.cuda.is_available() else 'cpu')\n",
        "#device = torch.device('cpu')\n",
        "model = TextClassifier(len(vocab)+1, 300, 64, 3, lstm_layers=2, dropout=0.2)\n",
        "model.embedding.weight.data.uniform_(-1, 1)\n",
        "model.to(device)"
      ],
      "execution_count": 78,
      "outputs": [
        {
          "output_type": "execute_result",
          "data": {
            "text/plain": [
              "TextClassifier(\n",
              "  (embedding): Embedding(1296, 300)\n",
              "  (lstm): LSTM(300, 64, num_layers=2, dropout=0.2)\n",
              "  (dropout): Dropout(p=0.2, inplace=False)\n",
              "  (fc): Linear(in_features=64, out_features=3, bias=True)\n",
              "  (softmax): LogSoftmax()\n",
              ")"
            ]
          },
          "metadata": {
            "tags": []
          },
          "execution_count": 78
        }
      ]
    },
    {
      "cell_type": "code",
      "metadata": {
        "id": "Nk22nTIpnvhO",
        "colab_type": "code",
        "outputId": "ee2b8715-db55-41b6-ad8e-b28e0d711baa",
        "colab": {
          "base_uri": "https://localhost:8080/",
          "height": 1000
        }
      },
      "source": [
        "epochs = 3\n",
        "batch_size = 8\n",
        "learning_rate = 1e-4\n",
        "sequence_length = 200\n",
        "clip=5\n",
        "\n",
        "print_every = 10\n",
        "criterion = nn.NLLLoss()\n",
        "optimizer = optim.Adam(model.parameters(), lr=learning_rate)\n",
        "model.train()\n",
        "\n",
        "for epoch in range(epochs):\n",
        "    print('Starting epoch {}'.format(epoch + 1))\n",
        "    hidden = model.init_hidden(batch_size)\n",
        "    steps = 0\n",
        "    y_valid_epoch = []\n",
        "    predicted_valid_epoch = []\n",
        "\n",
        "    for text_batch, labels in dataloader(\n",
        "            train_features, train_labels, batch_size=batch_size, sequence_length=sequence_length, shuffle=False):\n",
        "        steps += 1\n",
        "        # Skip the last batch of which size is not equal to batch_size\n",
        "        if text_batch.size(1) != batch_size:\n",
        "            break\n",
        "\n",
        "        # Creating new variables for the hidden state to avoid backprop entire training history\n",
        "        hidden = tuple([each.data for each in hidden])\n",
        "        \n",
        "        # Set Device\n",
        "        text_batch, labels = text_batch.to(device), labels.to(device)\n",
        "        for each in hidden:\n",
        "            each.to(device)\n",
        "        \n",
        "        # optimizer.zero_grad()\n",
        "        model.zero_grad()\n",
        "        \n",
        "        # Get output and hidden state from the model\n",
        "        output, hidden = model(text_batch, hidden)\n",
        "        \n",
        "        # Calculate the loss and perform backprop\n",
        "        loss = criterion(output, labels)\n",
        "        loss.backward()\n",
        "        \n",
        "        # Clip the gradient to prevent the exploading gradient problem in RNN/LSTM\n",
        "        nn.utils.clip_grad_norm_(model.parameters(), clip)\n",
        "        \n",
        "        # Optimize\n",
        "        optimizer.step()\n",
        "        \n",
        "        if steps % print_every == 0:\n",
        "            model.eval()\n",
        "            \n",
        "            valid_losses = []\n",
        "            accuracy = []\n",
        "            predicted_valid = []\n",
        "            y_valid = []\n",
        "            valid_hidden = model.init_hidden(batch_size)\n",
        "            \n",
        "            for text_batch, labels in dataloader(\n",
        "                    valid_features, valid_labels, batch_size=batch_size, sequence_length=sequence_length, shuffle=False):\n",
        "                \n",
        "                # Skip the last batch of which size is not equal to batch_size\n",
        "                if text_batch.size(1) != batch_size:\n",
        "                    break\n",
        "\n",
        "                # Initialize within the loop to use label shape because batch_size did not work\n",
        "                # valid_hidden = model.init_hidden(labels.shape[0])\n",
        " \n",
        "                # Creating new variables for the hidden state\n",
        "                valid_hidden = tuple([each.data for each in valid_hidden])\n",
        "                \n",
        "                # Set Device\n",
        "                text_batch, labels = text_batch.to(device), labels.to(device)\n",
        "                for each in valid_hidden:\n",
        "                    each.to(device)\n",
        "                \n",
        "                # Get output and hidden state from the model\n",
        "                valid_output, valid_hidden = model(text_batch, valid_hidden)\n",
        "                \n",
        "                # Calculate the loss\n",
        "                valid_loss = criterion(valid_output.squeeze(), labels)\n",
        "                valid_losses.append(valid_loss.item())\n",
        "                \n",
        "                # Accuracy\n",
        "                ps = torch.exp(valid_output)\n",
        "                top_p, top_class = ps.topk(1, dim=1)\n",
        "                equals = top_class == labels.view(*top_class.shape)\n",
        "                accuracy.append(torch.mean(equals.type(torch.FloatTensor)).item())\n",
        "\n",
        "                predicted_valid.extend(top_class.squeeze().cpu().numpy())\n",
        "                y_valid.extend(labels.view(*top_class.shape).squeeze().cpu().numpy())\n",
        "                \n",
        "            model.train()\n",
        "            acc, f1 = metric(y_valid, predicted_valid)\n",
        "            predicted_valid_epoch.extend(predicted_valid)\n",
        "            y_valid_epoch.extend(y_valid)\n",
        "\n",
        "            print(\"Epoch: {}/{}...\".format(epoch+1, epochs),\n",
        "                  \"Step: {}...\".format(steps),\n",
        "                  \"Loss: {:.6f}...\".format(loss.item()),\n",
        "                  \"Val Loss: {:.6f}\".format(np.mean(valid_losses)),\n",
        "                  \"Accuracy: {:.6f}\".format(acc),\n",
        "                  \"F1 Score: {:.6f}\".format(f1))\n",
        "\n",
        "    class_names = ['Lower', 'Hold', 'Raise']\n",
        "    y_valid_class = [class_names[int(idx)] for idx in y_valid]\n",
        "    predicted_valid_class = [class_names[int(idx)] for idx in predicted_valid]\n",
        "    titles_options = [(\"Confusion matrix, without normalization\", None), (\"Normalized confusion matrix\", 'true')]\n",
        "    for title, normalize in titles_options:\n",
        "        disp = skplt.metrics.plot_confusion_matrix(y_valid_class, predicted_valid_class, normalize=normalize, title=title)\n",
        "    acc, f1 = metric(y_valid_class, predicted_valid_class)\n",
        "    print(\"\\nEpoch: %d, Average Accuracy: %.8f, Average f1: %.8f\\n\" % (epoch+1, acc, f1))\n",
        "    plt.show()\n"
      ],
      "execution_count": 79,
      "outputs": [
        {
          "output_type": "stream",
          "text": [
            "Starting epoch 1\n",
            "Epoch: 1/3... Step: 10... Loss: 1.100600... Val Loss: 1.104920 Accuracy: 0.125000 F1 Score: 0.109162\n",
            "\n",
            "Epoch: 1, Average Accuracy: 0.12500000, Average f1: 0.10916179\n",
            "\n"
          ],
          "name": "stdout"
        },
        {
          "output_type": "display_data",
          "data": {
            "image/png": "[encoded data removed]",
            "text/plain": [
              "<Figure size 1080x432 with 2 Axes>"
            ]
          },
          "metadata": {
            "tags": []
          }
        },
        {
          "output_type": "display_data",
          "data": {
            "image/png": "[encoded data removed]",
            "text/plain": [
              "<Figure size 1080x432 with 2 Axes>"
            ]
          },
          "metadata": {
            "tags": []
          }
        },
        {
          "output_type": "stream",
          "text": [
            "Starting epoch 2\n",
            "Epoch: 2/3... Step: 10... Loss: 1.107550... Val Loss: 1.106099 Accuracy: 0.125000 F1 Score: 0.109162\n",
            "\n",
            "Epoch: 2, Average Accuracy: 0.12500000, Average f1: 0.10916179\n",
            "\n"
          ],
          "name": "stdout"
        },
        {
          "output_type": "display_data",
          "data": {
            "image/png": "[encoded data removed]",
            "text/plain": [
              "<Figure size 1080x432 with 2 Axes>"
            ]
          },
          "metadata": {
            "tags": []
          }
        },
        {
          "output_type": "display_data",
          "data": {
            "image/png": "[encoded data removed]",
            "text/plain": [
              "<Figure size 1080x432 with 2 Axes>"
            ]
          },
          "metadata": {
            "tags": []
          }
        },
        {
          "output_type": "stream",
          "text": [
            "Starting epoch 3\n",
            "Epoch: 3/3... Step: 10... Loss: 1.098041... Val Loss: 1.107197 Accuracy: 0.166667 F1 Score: 0.145098\n",
            "\n",
            "Epoch: 3, Average Accuracy: 0.16666667, Average f1: 0.14509804\n",
            "\n"
          ],
          "name": "stdout"
        },
        {
          "output_type": "display_data",
          "data": {
            "image/png": "[encoded data removed]",
            "text/plain": [
              "<Figure size 1080x432 with 2 Axes>"
            ]
          },
          "metadata": {
            "tags": []
          }
        },
        {
          "output_type": "display_data",
          "data": {
            "image/png": "[encoded data removed]",
            "text/plain": [
              "<Figure size 1080x432 with 2 Axes>"
            ]
          },
          "metadata": {
            "tags": []
          }
        }
      ]
    },
    {
      "cell_type": "code",
      "metadata": {
        "id": "gYU2aGWIUBPp",
        "colab_type": "code",
        "colab": {}
      },
      "source": [
        "\n"
      ],
      "execution_count": 0,
      "outputs": []
    },
    {
      "cell_type": "markdown",
      "metadata": {
        "id": "3mkckuwGISr7",
        "colab_type": "text"
      },
      "source": [
        "## C) GloVe Word Embedding + LSTM\n",
        "\n",
        "Download GloVe embeddings"
      ]
    },
    {
      "cell_type": "code",
      "metadata": {
        "id": "hCB6MX18IKqZ",
        "colab_type": "code",
        "colab": {}
      },
      "source": [
        "# !wget http://nlp.stanford.edu/data/glove.6B.zip\n",
        "# !unzip glove*.zip\n",
        "\n",
        "# embedding_dict = {}\n",
        "\n",
        "# with open(\"glove.6B.300d.txt\", 'r') as f:\n",
        "#     for line in f:\n",
        "#         values = line.split()\n",
        "#         word = values[0]\n",
        "#         vectors = np.asarray(values[1:], 'float32')\n",
        "#         embedding_dict[word] = vectors\n",
        "# f.close()\n",
        "\n",
        "# pickle.dump(embedding_dict, open('drive/My Drive/Colab Data/glove.6B.300d.pickle', 'wb'))\n",
        "\n",
        "# embedding_dict = {}\n",
        "\n",
        "# with open(\"glove.6B.100d.txt\", 'r') as f:\n",
        "#     for line in f:\n",
        "#         values = line.split()\n",
        "#         word = values[0]\n",
        "#         vectors = np.asarray(values[1:], 'float32')\n",
        "#         embedding_dict[word] = vectors\n",
        "# f.close()\n",
        "\n",
        "# pickle.dump(embedding_dict, open('drive/My Drive/Colab Data/glove.6B.100d.pickle', 'wb'))"
      ],
      "execution_count": 0,
      "outputs": []
    },
    {
      "cell_type": "code",
      "metadata": {
        "id": "gkAUw44qNJXP",
        "colab_type": "code",
        "colab": {}
      },
      "source": [
        "# glove_dict = pickle.load(open('drive/My Drive/Colab Data/glove.6B.300d.pickle', 'rb'))\n",
        "# print(len(glove_dict))\n",
        "# glove_dict['the']"
      ],
      "execution_count": 0,
      "outputs": []
    },
    {
      "cell_type": "code",
      "metadata": {
        "id": "CFLdN4WMP4i2",
        "colab_type": "code",
        "colab": {}
      },
      "source": [
        "\n",
        "\n",
        "\n",
        "\n",
        "\n",
        "# from keras.models import Sequential\n",
        "# from keras.layers import Embedding, LSTM, Dense, SpatialDropout1D\n",
        "# from keras.initializers import Constant\n",
        "# from sklearn.model_selection import train_test_split\n",
        "# from keras.optimizers import Adam\n",
        "\n",
        "# model = Sequential()\n",
        "\n",
        "# embedding = Embedding(num_words, 300, embeddings_initializer=Constant(embedding_matrix), input_length=MAX_LEN, trainable=False)\n",
        "# model.add(embedding)\n",
        "# model.add(SpatialDropout1D(0.2))\n",
        "# model.add(LSTM(128, dropout=0.2, recurrent_dropout=0.2, return_sequences=True))\n",
        "# model.add(LSTM(64, dropout=0.2, recurrent_dropout=0.2))\n",
        "# model.add(Dense(1, activation='sigmoid'))\n",
        "\n",
        "# optimizer = Adam(lr=1e-5)\n",
        "\n",
        "# model.compile(loss='binary_crossentropy', optimizer=optimizer, metrics=['accuracy'])\n",
        "\n",
        "# model.summary()"
      ],
      "execution_count": 0,
      "outputs": []
    },
    {
      "cell_type": "code",
      "metadata": {
        "id": "arLDmMIXXWeW",
        "colab_type": "code",
        "colab": {}
      },
      "source": [
        "# history = model.fit(x_train, y_train, batch_size=4, epochs=10, validation_data=(x_valid, y_valid), verbose=2)"
      ],
      "execution_count": 0,
      "outputs": []
    },
    {
      "cell_type": "code",
      "metadata": {
        "id": "BqqEKOUReFuR",
        "colab_type": "code",
        "colab": {}
      },
      "source": [
        ""
      ],
      "execution_count": 0,
      "outputs": []
    },
    {
      "cell_type": "code",
      "metadata": {
        "id": "Id_rhmsNC_6o",
        "colab_type": "code",
        "colab": {}
      },
      "source": [
        "# # Save results to Drive\n",
        "# file = open('drive/My Drive/Colab Data/statement_trained_df.pickle', 'wb')\n",
        "# pickle.dump(train_df, file)\n",
        "# file.close()\n",
        "\n",
        "# train_df.to_csv('drive/My Drive/Colab Data/statement_trained_df.csv', index=False)"
      ],
      "execution_count": 0,
      "outputs": []
    },
    {
      "cell_type": "code",
      "metadata": {
        "id": "x1IDpp-RUIJY",
        "colab_type": "code",
        "colab": {}
      },
      "source": [
        ""
      ],
      "execution_count": 0,
      "outputs": []
    }
  ]
}