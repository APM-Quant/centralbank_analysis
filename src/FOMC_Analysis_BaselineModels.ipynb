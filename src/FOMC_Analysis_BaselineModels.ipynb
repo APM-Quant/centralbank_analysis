{
 "cells": [
  {
   "cell_type": "markdown",
   "metadata": {
    "colab_type": "text",
    "id": "lHecaO_7JG6L"
   },
   "source": [
    "## Preparation"
   ]
  },
  {
   "cell_type": "code",
   "execution_count": 0,
   "metadata": {
    "colab": {},
    "colab_type": "code",
    "id": "yu6fmsYrywdW"
   },
   "outputs": [],
   "source": [
    "# # TPU Setting\n",
    "# import os\n",
    "# assert os.environ['COLAB_TPU_ADDR'], 'Make sure to select TPU from Edit > Notebook setting > Hardware accelerator'\n",
    "\n",
    "# VERSION = \"20200220\"\n",
    "# !curl https://raw.githubusercontent.com/pytorch/xla/master/contrib/scripts/env-setup.py -o pytorch-xla-env-setup.py\n",
    "# !python pytorch-xla-env-setup.py --version $VERSION\n"
   ]
  },
  {
   "cell_type": "markdown",
   "metadata": {
    "colab_type": "text",
    "id": "bYhPZMBl5bEy"
   },
   "source": [
    "After pip install, need to restart the kernel."
   ]
  },
  {
   "cell_type": "code",
   "execution_count": 1,
   "metadata": {
    "colab": {
     "base_uri": "https://localhost:8080/",
     "height": 360
    },
    "colab_type": "code",
    "id": "F0k6MkEuzib0",
    "outputId": "d51b121a-cf34-45e2-8c2e-830d956d2583"
   },
   "outputs": [
    {
     "name": "stdout",
     "output_type": "stream",
     "text": [
      "Requirement already satisfied: numpy==1.16.4 in /usr/local/lib/python3.6/dist-packages (1.16.4)\n",
      "Requirement already satisfied: pandas==0.25.0 in /usr/local/lib/python3.6/dist-packages (0.25.0)\n",
      "Requirement already satisfied: pytz>=2017.2 in /usr/local/lib/python3.6/dist-packages (from pandas==0.25.0) (2018.9)\n",
      "Requirement already satisfied: python-dateutil>=2.6.1 in /usr/local/lib/python3.6/dist-packages (from pandas==0.25.0) (2.8.1)\n",
      "Requirement already satisfied: numpy>=1.13.3 in /usr/local/lib/python3.6/dist-packages (from pandas==0.25.0) (1.16.4)\n",
      "Requirement already satisfied: six>=1.5 in /usr/local/lib/python3.6/dist-packages (from python-dateutil>=2.6.1->pandas==0.25.0) (1.12.0)\n",
      "Requirement already satisfied: torch==1.4.0 in /usr/local/lib/python3.6/dist-packages (1.4.0)\n",
      "Requirement already satisfied: tqdm==4.43.0 in /usr/local/lib/python3.6/dist-packages (4.43.0)\n",
      "Requirement already satisfied: scikit-plot in /usr/local/lib/python3.6/dist-packages (0.3.7)\n",
      "Requirement already satisfied: scipy>=0.9 in /usr/local/lib/python3.6/dist-packages (from scikit-plot) (1.4.1)\n",
      "Requirement already satisfied: joblib>=0.10 in /usr/local/lib/python3.6/dist-packages (from scikit-plot) (0.14.1)\n",
      "Requirement already satisfied: scikit-learn>=0.18 in /usr/local/lib/python3.6/dist-packages (from scikit-plot) (0.22.2.post1)\n",
      "Requirement already satisfied: matplotlib>=1.4.0 in /usr/local/lib/python3.6/dist-packages (from scikit-plot) (3.2.1)\n",
      "Requirement already satisfied: numpy>=1.13.3 in /usr/local/lib/python3.6/dist-packages (from scipy>=0.9->scikit-plot) (1.16.4)\n",
      "Requirement already satisfied: cycler>=0.10 in /usr/local/lib/python3.6/dist-packages (from matplotlib>=1.4.0->scikit-plot) (0.10.0)\n",
      "Requirement already satisfied: kiwisolver>=1.0.1 in /usr/local/lib/python3.6/dist-packages (from matplotlib>=1.4.0->scikit-plot) (1.2.0)\n",
      "Requirement already satisfied: python-dateutil>=2.1 in /usr/local/lib/python3.6/dist-packages (from matplotlib>=1.4.0->scikit-plot) (2.8.1)\n",
      "Requirement already satisfied: pyparsing!=2.0.4,!=2.1.2,!=2.1.6,>=2.0.1 in /usr/local/lib/python3.6/dist-packages (from matplotlib>=1.4.0->scikit-plot) (2.4.6)\n",
      "Requirement already satisfied: six in /usr/local/lib/python3.6/dist-packages (from cycler>=0.10->matplotlib>=1.4.0->scikit-plot) (1.12.0)\n"
     ]
    }
   ],
   "source": [
    "!pip install numpy==1.16.4\n",
    "!pip install pandas==0.25.0\n",
    "!pip install torch==1.4.0\n",
    "!pip install tqdm==4.43.0\n",
    "!pip install scikit-plot"
   ]
  },
  {
   "cell_type": "code",
   "execution_count": 0,
   "metadata": {
    "colab": {},
    "colab_type": "code",
    "id": "pYiY1suXzjKg"
   },
   "outputs": [],
   "source": [
    "import numpy as np\n",
    "import pandas as pd\n",
    "import matplotlib.pyplot as plt\n",
    "import seaborn as sns; sns.set()\n",
    "plt.style.use('ggplot')\n",
    "\n",
    "from collections import defaultdict\n",
    "from collections import Counter\n",
    "\n",
    "import datetime as dt\n",
    "import re\n",
    "import pickle\n",
    "from tqdm.notebook import tqdm\n",
    "import os\n",
    "import sys\n",
    "import time\n",
    "import logging\n",
    "import random"
   ]
  },
  {
   "cell_type": "code",
   "execution_count": 0,
   "metadata": {
    "colab": {},
    "colab_type": "code",
    "id": "AYdbuFFJondK"
   },
   "outputs": [],
   "source": [
    "# Import Scikit-learn moduels\n",
    "from sklearn.feature_extraction.text import CountVectorizer\n",
    "from sklearn.model_selection import StratifiedKFold\n",
    "from sklearn.metrics import accuracy_score, f1_score, plot_confusion_matrix\n",
    "import scikitplot as skplt"
   ]
  },
  {
   "cell_type": "code",
   "execution_count": 4,
   "metadata": {
    "colab": {
     "base_uri": "https://localhost:8080/",
     "height": 119
    },
    "colab_type": "code",
    "id": "qtIWiXfCPoet",
    "outputId": "a7443dd5-dbc5-4411-a962-0e491d54bc19"
   },
   "outputs": [
    {
     "name": "stdout",
     "output_type": "stream",
     "text": [
      "[nltk_data] Downloading package stopwords to /root/nltk_data...\n",
      "[nltk_data]   Package stopwords is already up-to-date!\n",
      "[nltk_data] Downloading package punkt to /root/nltk_data...\n",
      "[nltk_data]   Package punkt is already up-to-date!\n",
      "[nltk_data] Downloading package wordnet to /root/nltk_data...\n",
      "[nltk_data]   Package wordnet is already up-to-date!\n"
     ]
    }
   ],
   "source": [
    "# Import nltk modules and download dataset\n",
    "import nltk\n",
    "from nltk.corpus import stopwords\n",
    "from nltk.util import ngrams\n",
    "from nltk.tokenize import word_tokenize\n",
    "\n",
    "nltk.download('stopwords')\n",
    "nltk.download('punkt')\n",
    "nltk.download('wordnet')\n",
    "\n",
    "stop = set(stopwords.words('english'))"
   ]
  },
  {
   "cell_type": "code",
   "execution_count": 0,
   "metadata": {
    "colab": {},
    "colab_type": "code",
    "id": "DRezWLAuoKTv"
   },
   "outputs": [],
   "source": [
    "# Import Pytorch modules\n",
    "import torch\n",
    "from torch import nn, optim\n",
    "import torch.nn.functional as F\n",
    "from torch.utils.data import (DataLoader, RandomSampler, SequentialSampler, TensorDataset)\n",
    "from torch.autograd import Variable"
   ]
  },
  {
   "cell_type": "code",
   "execution_count": 0,
   "metadata": {
    "colab": {},
    "colab_type": "code",
    "id": "9v6gt8lI3DeM"
   },
   "outputs": [],
   "source": [
    "# Set logger\n",
    "logger = logging.getLogger('mylogger')\n",
    "logger.setLevel(logging.DEBUG)\n",
    "timestamp = time.strftime(\"%Y.%m.%d_%H.%M.%S\", time.localtime())\n",
    "fh = logging.FileHandler('log_model.txt')\n",
    "fh.setLevel(logging.DEBUG)\n",
    "ch = logging.StreamHandler()\n",
    "ch.setLevel(logging.DEBUG)\n",
    "formatter = logging.Formatter('[%(asctime)s][%(levelname)s] ## %(message)s')\n",
    "fh.setFormatter(formatter)\n",
    "ch.setFormatter(formatter)\n",
    "logger.addHandler(fh)\n",
    "logger.addHandler(ch)"
   ]
  },
  {
   "cell_type": "code",
   "execution_count": 0,
   "metadata": {
    "colab": {},
    "colab_type": "code",
    "id": "iaqPH0Sr3KHm"
   },
   "outputs": [],
   "source": [
    "# Set Random Seed\n",
    "random.seed(42)\n",
    "np.random.seed(42)\n",
    "torch.manual_seed(42)\n",
    "torch.cuda.manual_seed(42)"
   ]
  },
  {
   "cell_type": "code",
   "execution_count": 8,
   "metadata": {
    "colab": {
     "base_uri": "https://localhost:8080/",
     "height": 34
    },
    "colab_type": "code",
    "id": "l20a6ID1Thbe",
    "outputId": "8cdd6a9b-bfac-497f-e0c2-fb6323595e80"
   },
   "outputs": [
    {
     "data": {
      "text/plain": [
       "'Tesla P100-PCIE-16GB'"
      ]
     },
     "execution_count": 8,
     "metadata": {
      "tags": []
     },
     "output_type": "execute_result"
    }
   ],
   "source": [
    "# Check Device\n",
    "torch.cuda.get_device_name(0)"
   ]
  },
  {
   "cell_type": "code",
   "execution_count": 9,
   "metadata": {
    "colab": {
     "base_uri": "https://localhost:8080/",
     "height": 54
    },
    "colab_type": "code",
    "id": "MVa1753Dz0oA",
    "outputId": "938d793a-7ea8-4e90-a021-36b13d268320"
   },
   "outputs": [
    {
     "name": "stdout",
     "output_type": "stream",
     "text": [
      "Drive already mounted at /content/drive; to attempt to forcibly remount, call drive.mount(\"/content/drive\", force_remount=True).\n"
     ]
    }
   ],
   "source": [
    "# Colab version\n",
    "from google.colab import drive\n",
    "\n",
    "drive.mount('/content/drive')"
   ]
  },
  {
   "cell_type": "code",
   "execution_count": 10,
   "metadata": {
    "colab": {
     "base_uri": "https://localhost:8080/",
     "height": 459
    },
    "colab_type": "code",
    "id": "bmmhSA9Yz8xM",
    "outputId": "8435b794-3686-45bc-8ffd-4cedc0d79b47"
   },
   "outputs": [
    {
     "name": "stdout",
     "output_type": "stream",
     "text": [
      "(675, 10)\n"
     ]
    },
    {
     "data": {
      "text/html": [
       "<div>\n",
       "<style scoped>\n",
       "    .dataframe tbody tr th:only-of-type {\n",
       "        vertical-align: middle;\n",
       "    }\n",
       "\n",
       "    .dataframe tbody tr th {\n",
       "        vertical-align: top;\n",
       "    }\n",
       "\n",
       "    .dataframe thead th {\n",
       "        text-align: right;\n",
       "    }\n",
       "</style>\n",
       "<table border=\"1\" class=\"dataframe\">\n",
       "  <thead>\n",
       "    <tr style=\"text-align: right;\">\n",
       "      <th></th>\n",
       "      <th>date</th>\n",
       "      <th>rate</th>\n",
       "      <th>speaker</th>\n",
       "      <th>target</th>\n",
       "      <th>text</th>\n",
       "      <th>type</th>\n",
       "      <th>word_count</th>\n",
       "      <th>target_lower</th>\n",
       "      <th>target_hold</th>\n",
       "      <th>target_raise</th>\n",
       "    </tr>\n",
       "  </thead>\n",
       "  <tbody>\n",
       "    <tr>\n",
       "      <th>0</th>\n",
       "      <td>1994-02-04</td>\n",
       "      <td>3.25</td>\n",
       "      <td>Alan Greenspan</td>\n",
       "      <td>2</td>\n",
       "      <td>Chairman Alan Greenspan announced today that ...</td>\n",
       "      <td>statement</td>\n",
       "      <td>99</td>\n",
       "      <td>0</td>\n",
       "      <td>0</td>\n",
       "      <td>1</td>\n",
       "    </tr>\n",
       "    <tr>\n",
       "      <th>1</th>\n",
       "      <td>1994-03-22</td>\n",
       "      <td>3.5</td>\n",
       "      <td>Alan Greenspan</td>\n",
       "      <td>2</td>\n",
       "      <td>Chairman Alan Greenspan announced today that ...</td>\n",
       "      <td>statement</td>\n",
       "      <td>40</td>\n",
       "      <td>0</td>\n",
       "      <td>0</td>\n",
       "      <td>1</td>\n",
       "    </tr>\n",
       "    <tr>\n",
       "      <th>2</th>\n",
       "      <td>1994-04-18</td>\n",
       "      <td>3.75</td>\n",
       "      <td>Alan Greenspan</td>\n",
       "      <td>2</td>\n",
       "      <td>Chairman Alan Greenspan announced today that ...</td>\n",
       "      <td>statement</td>\n",
       "      <td>37</td>\n",
       "      <td>0</td>\n",
       "      <td>0</td>\n",
       "      <td>1</td>\n",
       "    </tr>\n",
       "    <tr>\n",
       "      <th>3</th>\n",
       "      <td>1994-05-17</td>\n",
       "      <td>4.25</td>\n",
       "      <td>Alan Greenspan</td>\n",
       "      <td>2</td>\n",
       "      <td>In taking the discount action, the Board appr...</td>\n",
       "      <td>statement</td>\n",
       "      <td>57</td>\n",
       "      <td>0</td>\n",
       "      <td>0</td>\n",
       "      <td>1</td>\n",
       "    </tr>\n",
       "    <tr>\n",
       "      <th>4</th>\n",
       "      <td>1994-08-16</td>\n",
       "      <td>4.75</td>\n",
       "      <td>Alan Greenspan</td>\n",
       "      <td>2</td>\n",
       "      <td>In taking the discount rate action, the Board...</td>\n",
       "      <td>statement</td>\n",
       "      <td>51</td>\n",
       "      <td>0</td>\n",
       "      <td>0</td>\n",
       "      <td>1</td>\n",
       "    </tr>\n",
       "  </tbody>\n",
       "</table>\n",
       "</div>"
      ],
      "text/plain": [
       "        date  rate         speaker  ... target_lower target_hold target_raise\n",
       "0 1994-02-04  3.25  Alan Greenspan  ...            0           0            1\n",
       "1 1994-03-22   3.5  Alan Greenspan  ...            0           0            1\n",
       "2 1994-04-18  3.75  Alan Greenspan  ...            0           0            1\n",
       "3 1994-05-17  4.25  Alan Greenspan  ...            0           0            1\n",
       "4 1994-08-16  4.75  Alan Greenspan  ...            0           0            1\n",
       "\n",
       "[5 rows x 10 columns]"
      ]
     },
     "execution_count": 10,
     "metadata": {
      "tags": []
     },
     "output_type": "execute_result"
    }
   ],
   "source": [
    "# Load data\n",
    "file = open('drive/My Drive/Colab Data/train_speaker_df.pickle', 'rb')\n",
    "df = pickle.load(file)\n",
    "\n",
    "file.close()\n",
    "\n",
    "print(df.shape)\n",
    "df.head()"
   ]
  },
  {
   "cell_type": "markdown",
   "metadata": {
    "colab_type": "text",
    "id": "qmGVNB_EJZjg"
   },
   "source": [
    "## Explore Data"
   ]
  },
  {
   "cell_type": "code",
   "execution_count": 11,
   "metadata": {
    "colab": {
     "base_uri": "https://localhost:8080/",
     "height": 421
    },
    "colab_type": "code",
    "id": "3zCnf2a5J2z4",
    "outputId": "6e2f2e81-34c1-4bae-ef03-b72c944df00a"
   },
   "outputs": [
    {
     "name": "stdout",
     "output_type": "stream",
     "text": [
      "1    390\n",
      "2    147\n",
      "0    138\n",
      "Name: target, dtype: int64\n",
      "1    0.577778\n",
      "2    0.217778\n",
      "0    0.204444\n",
      "Name: target, dtype: float64\n"
     ]
    },
    {
     "data": {
      "text/plain": [
       "Text(0, 0.5, 'number of samples')"
      ]
     },
     "execution_count": 11,
     "metadata": {
      "tags": []
     },
     "output_type": "execute_result"
    },
    {
     "data": {
      "image/png": "[encoded data removed]",
      "text/plain": [
       "<Figure size 432x288 with 1 Axes>"
      ]
     },
     "metadata": {
      "tags": []
     },
     "output_type": "display_data"
    }
   ],
   "source": [
    "# The number of data per Target Labels\n",
    "x = df.target.value_counts()\n",
    "print(x)\n",
    "print(x/sum(x))\n",
    "sns.barplot(x.index, x)\n",
    "plt.gca().set_ylabel('number of samples')"
   ]
  },
  {
   "cell_type": "code",
   "execution_count": 12,
   "metadata": {
    "colab": {
     "base_uri": "https://localhost:8080/",
     "height": 339
    },
    "colab_type": "code",
    "id": "voJPmZIrJgbB",
    "outputId": "308197d1-6221-4ecf-8d4f-bec7c23af40a"
   },
   "outputs": [
    {
     "data": {
      "image/png": "[encoded data removed]",
      "text/plain": [
       "<Figure size 576x360 with 1 Axes>"
      ]
     },
     "metadata": {
      "tags": []
     },
     "output_type": "display_data"
    }
   ],
   "source": [
    "plt.figure(figsize=(8,5))\n",
    "ax = sns.countplot(x='target', data=df)"
   ]
  },
  {
   "cell_type": "markdown",
   "metadata": {
    "colab_type": "text",
    "id": "WgAWwPtkl0rb"
   },
   "source": [
    "The label is highly biased to 1(Hold). Need to consider how to mitigate the biased data."
   ]
  },
  {
   "cell_type": "code",
   "execution_count": 0,
   "metadata": {
    "colab": {},
    "colab_type": "code",
    "id": "2VbwpfWmKFqC"
   },
   "outputs": [],
   "source": [
    "# Corpus\n",
    "def create_corpus(target):\n",
    "    corpus = []\n",
    "    \n",
    "    for x in df[df['target']==target]['text'].str.split():\n",
    "        for i in x:\n",
    "            corpus.append(i)\n",
    "    return corpus\n",
    "\n",
    "# Returns Top X frequent words\n",
    "def get_frequent_words(corpus, top_n=10):\n",
    "    dic = defaultdict(int)\n",
    "    for word in corpus:\n",
    "        if word in stop:\n",
    "            dic[word] += 1\n",
    "\n",
    "    top = sorted(dic.items(), key=lambda x: x[1], reverse=True)[:top_n]\n",
    "\n",
    "    return zip(*top)"
   ]
  },
  {
   "cell_type": "code",
   "execution_count": 14,
   "metadata": {
    "colab": {
     "base_uri": "https://localhost:8080/",
     "height": 465
    },
    "colab_type": "code",
    "id": "-7Ewqo8-KQQ2",
    "outputId": "a4c4b8d2-df40-46ef-c3a6-d55814aa1171"
   },
   "outputs": [
    {
     "data": {
      "text/plain": [
       "Text(0.5, 1.0, 'Raise')"
      ]
     },
     "execution_count": 14,
     "metadata": {
      "tags": []
     },
     "output_type": "execute_result"
    },
    {
     "data": {
      "image/png": "[encoded data removed]",
      "text/plain": [
       "<Figure size 1080x504 with 3 Axes>"
      ]
     },
     "metadata": {
      "tags": []
     },
     "output_type": "display_data"
    }
   ],
   "source": [
    "# Most frequent words\n",
    "corpus_lower = create_corpus(0)\n",
    "corpus_hold = create_corpus(1)\n",
    "corpus_raise = create_corpus(2)\n",
    "\n",
    "fig, (ax1, ax2, ax3) = plt.subplots(1, 3, figsize=(15,7))\n",
    "x, y = get_frequent_words(corpus_lower)\n",
    "ax1.bar(x, y)\n",
    "ax1.set_title('Lower')\n",
    "x, y = get_frequent_words(corpus_hold)\n",
    "ax2.bar(x, y)\n",
    "ax2.set_title('Hold')\n",
    "x, y = get_frequent_words(corpus_raise)\n",
    "ax3.bar(x, y)\n",
    "ax3.set_title('Raise')"
   ]
  },
  {
   "cell_type": "code",
   "execution_count": 15,
   "metadata": {
    "colab": {
     "base_uri": "https://localhost:8080/",
     "height": 339
    },
    "colab_type": "code",
    "id": "r6FPeC8DKWm6",
    "outputId": "afda3b3b-8f01-420d-d8bc-3f272475d305"
   },
   "outputs": [
    {
     "data": {
      "text/plain": [
       "<matplotlib.axes._subplots.AxesSubplot at 0x7f328e43fcf8>"
      ]
     },
     "execution_count": 15,
     "metadata": {
      "tags": []
     },
     "output_type": "execute_result"
    },
    {
     "data": {
      "image/png": "[encoded data removed]",
      "text/plain": [
       "<Figure size 720x360 with 1 Axes>"
      ]
     },
     "metadata": {
      "tags": []
     },
     "output_type": "display_data"
    }
   ],
   "source": [
    "# Check most frequent words which are not in stopwords\n",
    "counter = Counter(corpus_lower)\n",
    "most = counter.most_common()\n",
    "x, y = [], []\n",
    "for word, count in most[:40]:\n",
    "    if word not in stop:\n",
    "        x.append(word)\n",
    "        y.append(count)\n",
    "\n",
    "plt.figure(figsize=(10,5))\n",
    "sns.barplot(x=y, y=x)"
   ]
  },
  {
   "cell_type": "code",
   "execution_count": 16,
   "metadata": {
    "colab": {
     "base_uri": "https://localhost:8080/",
     "height": 900
    },
    "colab_type": "code",
    "id": "o3MOs7yZKdFz",
    "outputId": "85831f8a-191e-489e-b902-b56febc03afa"
   },
   "outputs": [
    {
     "data": {
      "text/plain": [
       "Text(0.5, 1.0, 'Speech')"
      ]
     },
     "execution_count": 16,
     "metadata": {
      "tags": []
     },
     "output_type": "execute_result"
    },
    {
     "data": {
      "image/png": "[encoded data removed]",
      "text/plain": [
       "<Figure size 1080x1080 with 4 Axes>"
      ]
     },
     "metadata": {
      "tags": []
     },
     "output_type": "display_data"
    }
   ],
   "source": [
    "fig, (ax1, ax2, ax3, ax4) = plt.subplots(4, 1, figsize=(15,15))\n",
    "# fig, (ax1, ax2, ax3) = plt.subplots(3, 1, figsize=(15,15))\n",
    "contents_len = df[df['type'] == 'statement']['word_count']\n",
    "ax1.hist(contents_len, color='red', bins=100)\n",
    "ax1.set_title('Statement')\n",
    "contents_len = df[df['type'] == 'minutes']['word_count']\n",
    "ax2.hist(contents_len, color='green', bins=100)\n",
    "ax2.set_title('Minutes')\n",
    "contents_len = df[df['type'] =='script']['word_count']\n",
    "ax3.hist(contents_len, color='blue', bins=100)\n",
    "ax3.set_title('Script')\n",
    "contents_len = df[df['type'] =='speech']['word_count']\n",
    "ax4.hist(contents_len, color='brown', bins=100)\n",
    "ax4.set_title('Speech')\n"
   ]
  },
  {
   "cell_type": "code",
   "execution_count": 17,
   "metadata": {
    "colab": {
     "base_uri": "https://localhost:8080/",
     "height": 34
    },
    "colab_type": "code",
    "id": "bkTIBJEhsbTQ",
    "outputId": "869f9024-5878-403b-a749-98ef0f5c3902"
   },
   "outputs": [
    {
     "data": {
      "text/plain": [
       "475"
      ]
     },
     "execution_count": 17,
     "metadata": {
      "tags": []
     },
     "output_type": "execute_result"
    }
   ],
   "source": [
    "len(df[df['word_count'] > 300])"
   ]
  },
  {
   "cell_type": "markdown",
   "metadata": {
    "colab_type": "text",
    "id": "0kJow0E7S4Sg"
   },
   "source": [
    "## Define Train DataFrame"
   ]
  },
  {
   "cell_type": "code",
   "execution_count": 18,
   "metadata": {
    "colab": {
     "base_uri": "https://localhost:8080/",
     "height": 1000
    },
    "colab_type": "code",
    "id": "J9U7V5cp0KAl",
    "outputId": "87185f4c-6a41-40ee-afdb-93f08bb8bd65"
   },
   "outputs": [
    {
     "name": "stdout",
     "output_type": "stream",
     "text": [
      "(192, 10)\n"
     ]
    },
    {
     "name": "stderr",
     "output_type": "stream",
     "text": [
      "/usr/local/lib/python3.6/dist-packages/ipykernel_launcher.py:7: SettingWithCopyWarning: \n",
      "A value is trying to be set on a copy of a slice from a DataFrame.\n",
      "Try using .loc[row_indexer,col_indexer] = value instead\n",
      "\n",
      "See the caveats in the documentation: http://pandas.pydata.org/pandas-docs/stable/user_guide/indexing.html#returning-a-view-versus-a-copy\n",
      "  import sys\n"
     ]
    },
    {
     "data": {
      "text/html": [
       "<div>\n",
       "<style scoped>\n",
       "    .dataframe tbody tr th:only-of-type {\n",
       "        vertical-align: middle;\n",
       "    }\n",
       "\n",
       "    .dataframe tbody tr th {\n",
       "        vertical-align: top;\n",
       "    }\n",
       "\n",
       "    .dataframe thead th {\n",
       "        text-align: right;\n",
       "    }\n",
       "</style>\n",
       "<table border=\"1\" class=\"dataframe\">\n",
       "  <thead>\n",
       "    <tr style=\"text-align: right;\">\n",
       "      <th></th>\n",
       "      <th>index</th>\n",
       "      <th>date</th>\n",
       "      <th>rate</th>\n",
       "      <th>speaker</th>\n",
       "      <th>target</th>\n",
       "      <th>text</th>\n",
       "      <th>type</th>\n",
       "      <th>word_count</th>\n",
       "      <th>target_lower</th>\n",
       "      <th>target_hold</th>\n",
       "      <th>target_raise</th>\n",
       "    </tr>\n",
       "  </thead>\n",
       "  <tbody>\n",
       "    <tr>\n",
       "      <th>0</th>\n",
       "      <td>0</td>\n",
       "      <td>1994-02-04</td>\n",
       "      <td>3.25</td>\n",
       "      <td>Alan Greenspan</td>\n",
       "      <td>2</td>\n",
       "      <td>Chairman Alan Greenspan announced today that ...</td>\n",
       "      <td>statement</td>\n",
       "      <td>99</td>\n",
       "      <td>0</td>\n",
       "      <td>0</td>\n",
       "      <td>1</td>\n",
       "    </tr>\n",
       "    <tr>\n",
       "      <th>1</th>\n",
       "      <td>1</td>\n",
       "      <td>1994-03-22</td>\n",
       "      <td>3.5</td>\n",
       "      <td>Alan Greenspan</td>\n",
       "      <td>2</td>\n",
       "      <td>Chairman Alan Greenspan announced today that ...</td>\n",
       "      <td>statement</td>\n",
       "      <td>40</td>\n",
       "      <td>0</td>\n",
       "      <td>0</td>\n",
       "      <td>1</td>\n",
       "    </tr>\n",
       "    <tr>\n",
       "      <th>2</th>\n",
       "      <td>2</td>\n",
       "      <td>1994-04-18</td>\n",
       "      <td>3.75</td>\n",
       "      <td>Alan Greenspan</td>\n",
       "      <td>2</td>\n",
       "      <td>Chairman Alan Greenspan announced today that ...</td>\n",
       "      <td>statement</td>\n",
       "      <td>37</td>\n",
       "      <td>0</td>\n",
       "      <td>0</td>\n",
       "      <td>1</td>\n",
       "    </tr>\n",
       "    <tr>\n",
       "      <th>3</th>\n",
       "      <td>3</td>\n",
       "      <td>1994-05-17</td>\n",
       "      <td>4.25</td>\n",
       "      <td>Alan Greenspan</td>\n",
       "      <td>2</td>\n",
       "      <td>In taking the discount action, the Board appr...</td>\n",
       "      <td>statement</td>\n",
       "      <td>57</td>\n",
       "      <td>0</td>\n",
       "      <td>0</td>\n",
       "      <td>1</td>\n",
       "    </tr>\n",
       "    <tr>\n",
       "      <th>4</th>\n",
       "      <td>4</td>\n",
       "      <td>1994-08-16</td>\n",
       "      <td>4.75</td>\n",
       "      <td>Alan Greenspan</td>\n",
       "      <td>2</td>\n",
       "      <td>In taking the discount rate action, the Board...</td>\n",
       "      <td>statement</td>\n",
       "      <td>51</td>\n",
       "      <td>0</td>\n",
       "      <td>0</td>\n",
       "      <td>1</td>\n",
       "    </tr>\n",
       "    <tr>\n",
       "      <th>5</th>\n",
       "      <td>5</td>\n",
       "      <td>1994-11-15</td>\n",
       "      <td>5.5</td>\n",
       "      <td>Alan Greenspan</td>\n",
       "      <td>2</td>\n",
       "      <td>In a related move, the Federal Open Market Co...</td>\n",
       "      <td>statement</td>\n",
       "      <td>121</td>\n",
       "      <td>0</td>\n",
       "      <td>0</td>\n",
       "      <td>1</td>\n",
       "    </tr>\n",
       "    <tr>\n",
       "      <th>6</th>\n",
       "      <td>6</td>\n",
       "      <td>1995-02-01</td>\n",
       "      <td>6</td>\n",
       "      <td>Alan Greenspan</td>\n",
       "      <td>2</td>\n",
       "      <td>In taking the discount action, the Board appr...</td>\n",
       "      <td>statement</td>\n",
       "      <td>54</td>\n",
       "      <td>0</td>\n",
       "      <td>0</td>\n",
       "      <td>1</td>\n",
       "    </tr>\n",
       "    <tr>\n",
       "      <th>7</th>\n",
       "      <td>7</td>\n",
       "      <td>1995-07-06</td>\n",
       "      <td>5.75</td>\n",
       "      <td>Alan Greenspan</td>\n",
       "      <td>0</td>\n",
       "      <td>Chairman Alan Greenspan announced today that ...</td>\n",
       "      <td>statement</td>\n",
       "      <td>67</td>\n",
       "      <td>1</td>\n",
       "      <td>0</td>\n",
       "      <td>0</td>\n",
       "    </tr>\n",
       "    <tr>\n",
       "      <th>8</th>\n",
       "      <td>8</td>\n",
       "      <td>1995-12-19</td>\n",
       "      <td>5.5</td>\n",
       "      <td>Alan Greenspan</td>\n",
       "      <td>0</td>\n",
       "      <td>Chairman Alan Greenspan announced today that ...</td>\n",
       "      <td>statement</td>\n",
       "      <td>81</td>\n",
       "      <td>1</td>\n",
       "      <td>0</td>\n",
       "      <td>0</td>\n",
       "    </tr>\n",
       "    <tr>\n",
       "      <th>9</th>\n",
       "      <td>9</td>\n",
       "      <td>1996-01-31</td>\n",
       "      <td>5.25</td>\n",
       "      <td>Alan Greenspan</td>\n",
       "      <td>0</td>\n",
       "      <td>For immediate releaseThe Federal Reserve toda...</td>\n",
       "      <td>statement</td>\n",
       "      <td>391</td>\n",
       "      <td>1</td>\n",
       "      <td>0</td>\n",
       "      <td>0</td>\n",
       "    </tr>\n",
       "    <tr>\n",
       "      <th>10</th>\n",
       "      <td>10</td>\n",
       "      <td>1997-03-25</td>\n",
       "      <td>5.5</td>\n",
       "      <td>Alan Greenspan</td>\n",
       "      <td>2</td>\n",
       "      <td>For immediate release\\tThe Federal Open Marke...</td>\n",
       "      <td>statement</td>\n",
       "      <td>590</td>\n",
       "      <td>0</td>\n",
       "      <td>0</td>\n",
       "      <td>1</td>\n",
       "    </tr>\n",
       "    <tr>\n",
       "      <th>11</th>\n",
       "      <td>11</td>\n",
       "      <td>1998-09-29</td>\n",
       "      <td>5.25</td>\n",
       "      <td>Alan Greenspan</td>\n",
       "      <td>0</td>\n",
       "      <td>For immediate releaseThe Federal Open Market ...</td>\n",
       "      <td>statement</td>\n",
       "      <td>373</td>\n",
       "      <td>1</td>\n",
       "      <td>0</td>\n",
       "      <td>0</td>\n",
       "    </tr>\n",
       "    <tr>\n",
       "      <th>12</th>\n",
       "      <td>12</td>\n",
       "      <td>1998-10-15</td>\n",
       "      <td>5</td>\n",
       "      <td>Alan Greenspan</td>\n",
       "      <td>0</td>\n",
       "      <td>For immediate releaseThe Federal Reserve toda...</td>\n",
       "      <td>statement</td>\n",
       "      <td>611</td>\n",
       "      <td>1</td>\n",
       "      <td>0</td>\n",
       "      <td>0</td>\n",
       "    </tr>\n",
       "    <tr>\n",
       "      <th>13</th>\n",
       "      <td>13</td>\n",
       "      <td>1998-11-17</td>\n",
       "      <td>4.75</td>\n",
       "      <td>Alan Greenspan</td>\n",
       "      <td>0</td>\n",
       "      <td>For immediate releaseThe Federal Reserve toda...</td>\n",
       "      <td>statement</td>\n",
       "      <td>515</td>\n",
       "      <td>1</td>\n",
       "      <td>0</td>\n",
       "      <td>0</td>\n",
       "    </tr>\n",
       "    <tr>\n",
       "      <th>14</th>\n",
       "      <td>14</td>\n",
       "      <td>1999-05-18</td>\n",
       "      <td>4.75</td>\n",
       "      <td>Alan Greenspan</td>\n",
       "      <td>1</td>\n",
       "      <td>For immediate releaseThe Federal Reserve rele...</td>\n",
       "      <td>statement</td>\n",
       "      <td>586</td>\n",
       "      <td>0</td>\n",
       "      <td>1</td>\n",
       "      <td>0</td>\n",
       "    </tr>\n",
       "    <tr>\n",
       "      <th>15</th>\n",
       "      <td>15</td>\n",
       "      <td>1999-06-30</td>\n",
       "      <td>5</td>\n",
       "      <td>Alan Greenspan</td>\n",
       "      <td>2</td>\n",
       "      <td>For immediate release\\tThe Federal Open Marke...</td>\n",
       "      <td>statement</td>\n",
       "      <td>618</td>\n",
       "      <td>0</td>\n",
       "      <td>0</td>\n",
       "      <td>1</td>\n",
       "    </tr>\n",
       "    <tr>\n",
       "      <th>16</th>\n",
       "      <td>16</td>\n",
       "      <td>1999-08-24</td>\n",
       "      <td>5.25</td>\n",
       "      <td>Alan Greenspan</td>\n",
       "      <td>2</td>\n",
       "      <td>For immediate releaseThe Federal Open Market ...</td>\n",
       "      <td>statement</td>\n",
       "      <td>987</td>\n",
       "      <td>0</td>\n",
       "      <td>0</td>\n",
       "      <td>1</td>\n",
       "    </tr>\n",
       "    <tr>\n",
       "      <th>17</th>\n",
       "      <td>17</td>\n",
       "      <td>1999-10-05</td>\n",
       "      <td>5.25</td>\n",
       "      <td>Alan Greenspan</td>\n",
       "      <td>1</td>\n",
       "      <td>For immediate releaseThe Federal Open Market ...</td>\n",
       "      <td>statement</td>\n",
       "      <td>1016</td>\n",
       "      <td>0</td>\n",
       "      <td>1</td>\n",
       "      <td>0</td>\n",
       "    </tr>\n",
       "    <tr>\n",
       "      <th>18</th>\n",
       "      <td>18</td>\n",
       "      <td>1999-11-16</td>\n",
       "      <td>5.5</td>\n",
       "      <td>Alan Greenspan</td>\n",
       "      <td>2</td>\n",
       "      <td>For immediate release\\tThe Federal Open Marke...</td>\n",
       "      <td>statement</td>\n",
       "      <td>1332</td>\n",
       "      <td>0</td>\n",
       "      <td>0</td>\n",
       "      <td>1</td>\n",
       "    </tr>\n",
       "    <tr>\n",
       "      <th>19</th>\n",
       "      <td>19</td>\n",
       "      <td>1999-12-21</td>\n",
       "      <td>5.5</td>\n",
       "      <td>Alan Greenspan</td>\n",
       "      <td>1</td>\n",
       "      <td>For immediate releaseThe Federal Open Market ...</td>\n",
       "      <td>statement</td>\n",
       "      <td>806</td>\n",
       "      <td>0</td>\n",
       "      <td>1</td>\n",
       "      <td>0</td>\n",
       "    </tr>\n",
       "    <tr>\n",
       "      <th>20</th>\n",
       "      <td>20</td>\n",
       "      <td>2000-02-02</td>\n",
       "      <td>5.75</td>\n",
       "      <td>Alan Greenspan</td>\n",
       "      <td>2</td>\n",
       "      <td>For immediate releaseThe Federal Open Market ...</td>\n",
       "      <td>statement</td>\n",
       "      <td>1057</td>\n",
       "      <td>0</td>\n",
       "      <td>0</td>\n",
       "      <td>1</td>\n",
       "    </tr>\n",
       "    <tr>\n",
       "      <th>21</th>\n",
       "      <td>21</td>\n",
       "      <td>2000-03-21</td>\n",
       "      <td>6</td>\n",
       "      <td>Alan Greenspan</td>\n",
       "      <td>2</td>\n",
       "      <td>For immediate releaseThe Federal Open Market ...</td>\n",
       "      <td>statement</td>\n",
       "      <td>1039</td>\n",
       "      <td>0</td>\n",
       "      <td>0</td>\n",
       "      <td>1</td>\n",
       "    </tr>\n",
       "    <tr>\n",
       "      <th>22</th>\n",
       "      <td>22</td>\n",
       "      <td>2000-05-16</td>\n",
       "      <td>6.5</td>\n",
       "      <td>Alan Greenspan</td>\n",
       "      <td>2</td>\n",
       "      <td>For immediate releaseThe Federal Open Market ...</td>\n",
       "      <td>statement</td>\n",
       "      <td>1089</td>\n",
       "      <td>0</td>\n",
       "      <td>0</td>\n",
       "      <td>1</td>\n",
       "    </tr>\n",
       "    <tr>\n",
       "      <th>23</th>\n",
       "      <td>23</td>\n",
       "      <td>2000-06-28</td>\n",
       "      <td>6.5</td>\n",
       "      <td>Alan Greenspan</td>\n",
       "      <td>1</td>\n",
       "      <td>For immediate releaseThe Federal Open Market ...</td>\n",
       "      <td>statement</td>\n",
       "      <td>937</td>\n",
       "      <td>0</td>\n",
       "      <td>1</td>\n",
       "      <td>0</td>\n",
       "    </tr>\n",
       "    <tr>\n",
       "      <th>24</th>\n",
       "      <td>24</td>\n",
       "      <td>2000-08-22</td>\n",
       "      <td>6.5</td>\n",
       "      <td>Alan Greenspan</td>\n",
       "      <td>1</td>\n",
       "      <td>For immediate releaseThe Federal Open Market ...</td>\n",
       "      <td>statement</td>\n",
       "      <td>865</td>\n",
       "      <td>0</td>\n",
       "      <td>1</td>\n",
       "      <td>0</td>\n",
       "    </tr>\n",
       "    <tr>\n",
       "      <th>25</th>\n",
       "      <td>25</td>\n",
       "      <td>2000-10-03</td>\n",
       "      <td>6.5</td>\n",
       "      <td>Alan Greenspan</td>\n",
       "      <td>1</td>\n",
       "      <td>For immediate releaseThe Federal Open Market ...</td>\n",
       "      <td>statement</td>\n",
       "      <td>952</td>\n",
       "      <td>0</td>\n",
       "      <td>1</td>\n",
       "      <td>0</td>\n",
       "    </tr>\n",
       "    <tr>\n",
       "      <th>26</th>\n",
       "      <td>26</td>\n",
       "      <td>2000-11-15</td>\n",
       "      <td>6.5</td>\n",
       "      <td>Alan Greenspan</td>\n",
       "      <td>1</td>\n",
       "      <td>For immediate release\\tThe Federal Open Marke...</td>\n",
       "      <td>statement</td>\n",
       "      <td>884</td>\n",
       "      <td>0</td>\n",
       "      <td>1</td>\n",
       "      <td>0</td>\n",
       "    </tr>\n",
       "    <tr>\n",
       "      <th>27</th>\n",
       "      <td>27</td>\n",
       "      <td>2000-12-19</td>\n",
       "      <td>6.5</td>\n",
       "      <td>Alan Greenspan</td>\n",
       "      <td>1</td>\n",
       "      <td>For immediate releaseThe Federal Open Market ...</td>\n",
       "      <td>statement</td>\n",
       "      <td>736</td>\n",
       "      <td>0</td>\n",
       "      <td>1</td>\n",
       "      <td>0</td>\n",
       "    </tr>\n",
       "    <tr>\n",
       "      <th>28</th>\n",
       "      <td>28</td>\n",
       "      <td>2001-01-03</td>\n",
       "      <td>6</td>\n",
       "      <td>Alan Greenspan</td>\n",
       "      <td>0</td>\n",
       "      <td>For immediate release\\tThe Federal Open Marke...</td>\n",
       "      <td>statement</td>\n",
       "      <td>1314</td>\n",
       "      <td>1</td>\n",
       "      <td>0</td>\n",
       "      <td>0</td>\n",
       "    </tr>\n",
       "    <tr>\n",
       "      <th>29</th>\n",
       "      <td>29</td>\n",
       "      <td>2001-01-31</td>\n",
       "      <td>5.5</td>\n",
       "      <td>Alan Greenspan</td>\n",
       "      <td>0</td>\n",
       "      <td>For immediate releaseThe Federal Open Market ...</td>\n",
       "      <td>statement</td>\n",
       "      <td>1426</td>\n",
       "      <td>1</td>\n",
       "      <td>0</td>\n",
       "      <td>0</td>\n",
       "    </tr>\n",
       "    <tr>\n",
       "      <th>...</th>\n",
       "      <td>...</td>\n",
       "      <td>...</td>\n",
       "      <td>...</td>\n",
       "      <td>...</td>\n",
       "      <td>...</td>\n",
       "      <td>...</td>\n",
       "      <td>...</td>\n",
       "      <td>...</td>\n",
       "      <td>...</td>\n",
       "      <td>...</td>\n",
       "      <td>...</td>\n",
       "    </tr>\n",
       "    <tr>\n",
       "      <th>162</th>\n",
       "      <td>162</td>\n",
       "      <td>2016-07-27</td>\n",
       "      <td>0.5</td>\n",
       "      <td>Janet Yellen</td>\n",
       "      <td>1</td>\n",
       "      <td>Information received since the Federal Open M...</td>\n",
       "      <td>statement</td>\n",
       "      <td>525</td>\n",
       "      <td>0</td>\n",
       "      <td>1</td>\n",
       "      <td>0</td>\n",
       "    </tr>\n",
       "    <tr>\n",
       "      <th>163</th>\n",
       "      <td>163</td>\n",
       "      <td>2016-09-21</td>\n",
       "      <td>0.5</td>\n",
       "      <td>Janet Yellen</td>\n",
       "      <td>1</td>\n",
       "      <td>Information received since the Federal Open M...</td>\n",
       "      <td>statement</td>\n",
       "      <td>603</td>\n",
       "      <td>0</td>\n",
       "      <td>1</td>\n",
       "      <td>0</td>\n",
       "    </tr>\n",
       "    <tr>\n",
       "      <th>164</th>\n",
       "      <td>164</td>\n",
       "      <td>2016-11-02</td>\n",
       "      <td>0.5</td>\n",
       "      <td>Janet Yellen</td>\n",
       "      <td>1</td>\n",
       "      <td>Information received since the Federal Open M...</td>\n",
       "      <td>statement</td>\n",
       "      <td>597</td>\n",
       "      <td>0</td>\n",
       "      <td>1</td>\n",
       "      <td>0</td>\n",
       "    </tr>\n",
       "    <tr>\n",
       "      <th>165</th>\n",
       "      <td>165</td>\n",
       "      <td>2016-12-14</td>\n",
       "      <td>0.75</td>\n",
       "      <td>Janet Yellen</td>\n",
       "      <td>2</td>\n",
       "      <td>Information received since the Federal Open M...</td>\n",
       "      <td>statement</td>\n",
       "      <td>451</td>\n",
       "      <td>0</td>\n",
       "      <td>0</td>\n",
       "      <td>1</td>\n",
       "    </tr>\n",
       "    <tr>\n",
       "      <th>166</th>\n",
       "      <td>166</td>\n",
       "      <td>2017-02-01</td>\n",
       "      <td>0.75</td>\n",
       "      <td>Janet Yellen</td>\n",
       "      <td>1</td>\n",
       "      <td>Information received since the Federal Open M...</td>\n",
       "      <td>statement</td>\n",
       "      <td>413</td>\n",
       "      <td>0</td>\n",
       "      <td>1</td>\n",
       "      <td>0</td>\n",
       "    </tr>\n",
       "    <tr>\n",
       "      <th>167</th>\n",
       "      <td>167</td>\n",
       "      <td>2017-03-15</td>\n",
       "      <td>1</td>\n",
       "      <td>Janet Yellen</td>\n",
       "      <td>2</td>\n",
       "      <td>Information received since the Federal Open M...</td>\n",
       "      <td>statement</td>\n",
       "      <td>472</td>\n",
       "      <td>0</td>\n",
       "      <td>0</td>\n",
       "      <td>1</td>\n",
       "    </tr>\n",
       "    <tr>\n",
       "      <th>168</th>\n",
       "      <td>168</td>\n",
       "      <td>2017-05-03</td>\n",
       "      <td>1</td>\n",
       "      <td>Janet Yellen</td>\n",
       "      <td>1</td>\n",
       "      <td>Information received since the Federal Open M...</td>\n",
       "      <td>statement</td>\n",
       "      <td>500</td>\n",
       "      <td>0</td>\n",
       "      <td>1</td>\n",
       "      <td>0</td>\n",
       "    </tr>\n",
       "    <tr>\n",
       "      <th>169</th>\n",
       "      <td>169</td>\n",
       "      <td>2017-06-14</td>\n",
       "      <td>1.25</td>\n",
       "      <td>Janet Yellen</td>\n",
       "      <td>2</td>\n",
       "      <td>Information received since the Federal Open M...</td>\n",
       "      <td>statement</td>\n",
       "      <td>433</td>\n",
       "      <td>0</td>\n",
       "      <td>0</td>\n",
       "      <td>1</td>\n",
       "    </tr>\n",
       "    <tr>\n",
       "      <th>170</th>\n",
       "      <td>170</td>\n",
       "      <td>2017-07-26</td>\n",
       "      <td>1.25</td>\n",
       "      <td>Janet Yellen</td>\n",
       "      <td>1</td>\n",
       "      <td>Information received since the Federal Open M...</td>\n",
       "      <td>statement</td>\n",
       "      <td>419</td>\n",
       "      <td>0</td>\n",
       "      <td>1</td>\n",
       "      <td>0</td>\n",
       "    </tr>\n",
       "    <tr>\n",
       "      <th>171</th>\n",
       "      <td>171</td>\n",
       "      <td>2017-09-20</td>\n",
       "      <td>1.25</td>\n",
       "      <td>Janet Yellen</td>\n",
       "      <td>1</td>\n",
       "      <td>Information received since the Federal Open M...</td>\n",
       "      <td>statement</td>\n",
       "      <td>414</td>\n",
       "      <td>0</td>\n",
       "      <td>1</td>\n",
       "      <td>0</td>\n",
       "    </tr>\n",
       "    <tr>\n",
       "      <th>172</th>\n",
       "      <td>172</td>\n",
       "      <td>2017-11-01</td>\n",
       "      <td>1.25</td>\n",
       "      <td>Janet Yellen</td>\n",
       "      <td>1</td>\n",
       "      <td>Information received since the Federal Open M...</td>\n",
       "      <td>statement</td>\n",
       "      <td>422</td>\n",
       "      <td>0</td>\n",
       "      <td>1</td>\n",
       "      <td>0</td>\n",
       "    </tr>\n",
       "    <tr>\n",
       "      <th>173</th>\n",
       "      <td>173</td>\n",
       "      <td>2017-12-13</td>\n",
       "      <td>1.5</td>\n",
       "      <td>Janet Yellen</td>\n",
       "      <td>2</td>\n",
       "      <td>Information received since the Federal Open M...</td>\n",
       "      <td>statement</td>\n",
       "      <td>530</td>\n",
       "      <td>0</td>\n",
       "      <td>0</td>\n",
       "      <td>1</td>\n",
       "    </tr>\n",
       "    <tr>\n",
       "      <th>174</th>\n",
       "      <td>174</td>\n",
       "      <td>2018-01-31</td>\n",
       "      <td>1.5</td>\n",
       "      <td>Jerome Powell</td>\n",
       "      <td>1</td>\n",
       "      <td>Information received since the Federal Open M...</td>\n",
       "      <td>statement</td>\n",
       "      <td>333</td>\n",
       "      <td>0</td>\n",
       "      <td>1</td>\n",
       "      <td>0</td>\n",
       "    </tr>\n",
       "    <tr>\n",
       "      <th>175</th>\n",
       "      <td>175</td>\n",
       "      <td>2018-03-21</td>\n",
       "      <td>1.75</td>\n",
       "      <td>Jerome Powell</td>\n",
       "      <td>2</td>\n",
       "      <td>Information received since the Federal Open M...</td>\n",
       "      <td>statement</td>\n",
       "      <td>363</td>\n",
       "      <td>0</td>\n",
       "      <td>0</td>\n",
       "      <td>1</td>\n",
       "    </tr>\n",
       "    <tr>\n",
       "      <th>176</th>\n",
       "      <td>176</td>\n",
       "      <td>2018-05-02</td>\n",
       "      <td>1.75</td>\n",
       "      <td>Jerome Powell</td>\n",
       "      <td>1</td>\n",
       "      <td>Information received since the Federal Open M...</td>\n",
       "      <td>statement</td>\n",
       "      <td>336</td>\n",
       "      <td>0</td>\n",
       "      <td>1</td>\n",
       "      <td>0</td>\n",
       "    </tr>\n",
       "    <tr>\n",
       "      <th>177</th>\n",
       "      <td>177</td>\n",
       "      <td>2018-06-13</td>\n",
       "      <td>2</td>\n",
       "      <td>Jerome Powell</td>\n",
       "      <td>2</td>\n",
       "      <td>Information received since the Federal Open M...</td>\n",
       "      <td>statement</td>\n",
       "      <td>233</td>\n",
       "      <td>0</td>\n",
       "      <td>0</td>\n",
       "      <td>1</td>\n",
       "    </tr>\n",
       "    <tr>\n",
       "      <th>178</th>\n",
       "      <td>178</td>\n",
       "      <td>2018-08-01</td>\n",
       "      <td>2</td>\n",
       "      <td>Jerome Powell</td>\n",
       "      <td>1</td>\n",
       "      <td>Information received since the Federal Open M...</td>\n",
       "      <td>statement</td>\n",
       "      <td>221</td>\n",
       "      <td>0</td>\n",
       "      <td>1</td>\n",
       "      <td>0</td>\n",
       "    </tr>\n",
       "    <tr>\n",
       "      <th>179</th>\n",
       "      <td>179</td>\n",
       "      <td>2018-09-26</td>\n",
       "      <td>2.25</td>\n",
       "      <td>Jerome Powell</td>\n",
       "      <td>2</td>\n",
       "      <td>Information received since the Federal Open M...</td>\n",
       "      <td>statement</td>\n",
       "      <td>221</td>\n",
       "      <td>0</td>\n",
       "      <td>0</td>\n",
       "      <td>1</td>\n",
       "    </tr>\n",
       "    <tr>\n",
       "      <th>180</th>\n",
       "      <td>180</td>\n",
       "      <td>2018-11-08</td>\n",
       "      <td>2.25</td>\n",
       "      <td>Jerome Powell</td>\n",
       "      <td>1</td>\n",
       "      <td>Information received since the Federal Open M...</td>\n",
       "      <td>statement</td>\n",
       "      <td>234</td>\n",
       "      <td>0</td>\n",
       "      <td>1</td>\n",
       "      <td>0</td>\n",
       "    </tr>\n",
       "    <tr>\n",
       "      <th>181</th>\n",
       "      <td>181</td>\n",
       "      <td>2018-12-19</td>\n",
       "      <td>2.5</td>\n",
       "      <td>Jerome Powell</td>\n",
       "      <td>2</td>\n",
       "      <td>Information received since the Federal Open M...</td>\n",
       "      <td>statement</td>\n",
       "      <td>258</td>\n",
       "      <td>0</td>\n",
       "      <td>0</td>\n",
       "      <td>1</td>\n",
       "    </tr>\n",
       "    <tr>\n",
       "      <th>182</th>\n",
       "      <td>182</td>\n",
       "      <td>2019-01-30</td>\n",
       "      <td>2.5</td>\n",
       "      <td>Jerome Powell</td>\n",
       "      <td>1</td>\n",
       "      <td>Information received since the Federal Open M...</td>\n",
       "      <td>statement</td>\n",
       "      <td>285</td>\n",
       "      <td>0</td>\n",
       "      <td>1</td>\n",
       "      <td>0</td>\n",
       "    </tr>\n",
       "    <tr>\n",
       "      <th>183</th>\n",
       "      <td>183</td>\n",
       "      <td>2019-03-20</td>\n",
       "      <td>2.5</td>\n",
       "      <td>Jerome Powell</td>\n",
       "      <td>1</td>\n",
       "      <td>Information received since the Federal Open M...</td>\n",
       "      <td>statement</td>\n",
       "      <td>301</td>\n",
       "      <td>0</td>\n",
       "      <td>1</td>\n",
       "      <td>0</td>\n",
       "    </tr>\n",
       "    <tr>\n",
       "      <th>184</th>\n",
       "      <td>184</td>\n",
       "      <td>2019-05-01</td>\n",
       "      <td>2.5</td>\n",
       "      <td>Jerome Powell</td>\n",
       "      <td>1</td>\n",
       "      <td>Information received since the Federal Open M...</td>\n",
       "      <td>statement</td>\n",
       "      <td>277</td>\n",
       "      <td>0</td>\n",
       "      <td>1</td>\n",
       "      <td>0</td>\n",
       "    </tr>\n",
       "    <tr>\n",
       "      <th>185</th>\n",
       "      <td>185</td>\n",
       "      <td>2019-06-19</td>\n",
       "      <td>2.5</td>\n",
       "      <td>Jerome Powell</td>\n",
       "      <td>1</td>\n",
       "      <td>Information received since the Federal Open M...</td>\n",
       "      <td>statement</td>\n",
       "      <td>352</td>\n",
       "      <td>0</td>\n",
       "      <td>1</td>\n",
       "      <td>0</td>\n",
       "    </tr>\n",
       "    <tr>\n",
       "      <th>186</th>\n",
       "      <td>186</td>\n",
       "      <td>2019-07-31</td>\n",
       "      <td>2.25</td>\n",
       "      <td>Jerome Powell</td>\n",
       "      <td>0</td>\n",
       "      <td>Information received since the Federal Open M...</td>\n",
       "      <td>statement</td>\n",
       "      <td>373</td>\n",
       "      <td>1</td>\n",
       "      <td>0</td>\n",
       "      <td>0</td>\n",
       "    </tr>\n",
       "    <tr>\n",
       "      <th>187</th>\n",
       "      <td>187</td>\n",
       "      <td>2019-09-18</td>\n",
       "      <td>2</td>\n",
       "      <td>Jerome Powell</td>\n",
       "      <td>0</td>\n",
       "      <td>Information received since the Federal Open M...</td>\n",
       "      <td>statement</td>\n",
       "      <td>381</td>\n",
       "      <td>1</td>\n",
       "      <td>0</td>\n",
       "      <td>0</td>\n",
       "    </tr>\n",
       "    <tr>\n",
       "      <th>188</th>\n",
       "      <td>188</td>\n",
       "      <td>2019-10-11</td>\n",
       "      <td>2</td>\n",
       "      <td>Jerome Powell</td>\n",
       "      <td>1</td>\n",
       "      <td>Consistent with its January 2019 Statement Re...</td>\n",
       "      <td>statement</td>\n",
       "      <td>485</td>\n",
       "      <td>0</td>\n",
       "      <td>1</td>\n",
       "      <td>0</td>\n",
       "    </tr>\n",
       "    <tr>\n",
       "      <th>189</th>\n",
       "      <td>189</td>\n",
       "      <td>2019-10-30</td>\n",
       "      <td>1.75</td>\n",
       "      <td>Jerome Powell</td>\n",
       "      <td>0</td>\n",
       "      <td>Information received since the Federal Open M...</td>\n",
       "      <td>statement</td>\n",
       "      <td>344</td>\n",
       "      <td>1</td>\n",
       "      <td>0</td>\n",
       "      <td>0</td>\n",
       "    </tr>\n",
       "    <tr>\n",
       "      <th>190</th>\n",
       "      <td>190</td>\n",
       "      <td>2019-12-11</td>\n",
       "      <td>1.75</td>\n",
       "      <td>Jerome Powell</td>\n",
       "      <td>1</td>\n",
       "      <td>Information received since the Federal Open M...</td>\n",
       "      <td>statement</td>\n",
       "      <td>270</td>\n",
       "      <td>0</td>\n",
       "      <td>1</td>\n",
       "      <td>0</td>\n",
       "    </tr>\n",
       "    <tr>\n",
       "      <th>191</th>\n",
       "      <td>191</td>\n",
       "      <td>2020-01-29</td>\n",
       "      <td>1.75</td>\n",
       "      <td>Jerome Powell</td>\n",
       "      <td>1</td>\n",
       "      <td>Information received since the Federal Open M...</td>\n",
       "      <td>statement</td>\n",
       "      <td>271</td>\n",
       "      <td>0</td>\n",
       "      <td>1</td>\n",
       "      <td>0</td>\n",
       "    </tr>\n",
       "  </tbody>\n",
       "</table>\n",
       "<p>192 rows × 11 columns</p>\n",
       "</div>"
      ],
      "text/plain": [
       "     index       date  rate  ... target_lower  target_hold target_raise\n",
       "0        0 1994-02-04  3.25  ...            0            0            1\n",
       "1        1 1994-03-22   3.5  ...            0            0            1\n",
       "2        2 1994-04-18  3.75  ...            0            0            1\n",
       "3        3 1994-05-17  4.25  ...            0            0            1\n",
       "4        4 1994-08-16  4.75  ...            0            0            1\n",
       "..     ...        ...   ...  ...          ...          ...          ...\n",
       "187    187 2019-09-18     2  ...            1            0            0\n",
       "188    188 2019-10-11     2  ...            0            1            0\n",
       "189    189 2019-10-30  1.75  ...            1            0            0\n",
       "190    190 2019-12-11  1.75  ...            0            1            0\n",
       "191    191 2020-01-29  1.75  ...            0            1            0\n",
       "\n",
       "[192 rows x 11 columns]"
      ]
     },
     "execution_count": 18,
     "metadata": {
      "tags": []
     },
     "output_type": "execute_result"
    }
   ],
   "source": [
    "#train_df = df # All data\n",
    "train_df = df.loc[df['type'].isin(['statement'])]\n",
    "#train_df = df.loc[df['type'].isin(['statement', 'minutes', 'script'])]\n",
    "#train_df = df.loc[df['speaker']=='Ben Bernanke']\n",
    "\n",
    "print(train_df.shape)\n",
    "train_df.reset_index(inplace=True)\n",
    "train_df['target'] = train_df['target'].apply(lambda x: int(x))\n",
    "train_df"
   ]
  },
  {
   "cell_type": "code",
   "execution_count": 19,
   "metadata": {
    "colab": {
     "base_uri": "https://localhost:8080/",
     "height": 302
    },
    "colab_type": "code",
    "id": "GTOWbZlfdc2w",
    "outputId": "6163d2cf-7aa0-44c2-c3e4-ce92b2ca0dc0"
   },
   "outputs": [
    {
     "data": {
      "text/plain": [
       "<matplotlib.axes._subplots.AxesSubplot at 0x7f328ffe2320>"
      ]
     },
     "execution_count": 19,
     "metadata": {
      "tags": []
     },
     "output_type": "execute_result"
    },
    {
     "data": {
      "image/png": "[encoded data removed]",
      "text/plain": [
       "<Figure size 432x288 with 1 Axes>"
      ]
     },
     "metadata": {
      "tags": []
     },
     "output_type": "display_data"
    }
   ],
   "source": [
    "sns.distplot(train_df['word_count'])"
   ]
  },
  {
   "cell_type": "code",
   "execution_count": 0,
   "metadata": {
    "colab": {},
    "colab_type": "code",
    "id": "6A655oIQo7Tf"
   },
   "outputs": [],
   "source": [
    "# Define metrics\n",
    "def metric(y_true, y_pred):\n",
    "    acc = accuracy_score(y_true, y_pred)\n",
    "    f1 = f1_score(y_true, y_pred, average='macro')\n",
    "    return acc, f1\n",
    "\n",
    "plt.rcParams[\"figure.figsize\"] = (15,6)"
   ]
  },
  {
   "cell_type": "markdown",
   "metadata": {
    "colab_type": "text",
    "id": "zA5kw4aoS_Kb"
   },
   "source": [
    "## A. Tfidf + logistic regression"
   ]
  },
  {
   "cell_type": "code",
   "execution_count": 21,
   "metadata": {
    "colab": {
     "base_uri": "https://localhost:8080/",
     "height": 831
    },
    "colab_type": "code",
    "id": "S_B3STSlXcuM",
    "outputId": "54c2149c-616e-45c0-9ca1-f12c6cd4c8c0"
   },
   "outputs": [
    {
     "name": "stderr",
     "output_type": "stream",
     "text": [
      "[2020-04-09 16:05:13,562][INFO] ## Training - acc: 0.84313725, f1: 0.80337691\n",
      "[2020-04-09 16:05:13,565][INFO] ## Validationn - acc: 0.79487179, f1: 0.75396825\n"
     ]
    },
    {
     "data": {
      "image/png": "[encoded data removed]",
      "text/plain": [
       "<Figure size 1080x432 with 2 Axes>"
      ]
     },
     "metadata": {
      "tags": []
     },
     "output_type": "display_data"
    },
    {
     "data": {
      "image/png": "[encoded data removed]",
      "text/plain": [
       "<Figure size 1080x432 with 2 Axes>"
      ]
     },
     "metadata": {
      "tags": []
     },
     "output_type": "display_data"
    }
   ],
   "source": [
    "from sklearn import model_selection\n",
    "from sklearn.feature_extraction.text import TfidfVectorizer\n",
    "from sklearn.linear_model import LogisticRegression\n",
    "from sklearn.pipeline import Pipeline\n",
    "\n",
    "def build_tfidf_logreg(df, validation=True):\n",
    "    x_train = df['text']\n",
    "    y_train = df['target']\n",
    "    clf = Pipeline([\n",
    "                    ('tfidf', TfidfVectorizer(analyzer='word')),\n",
    "                    ('clf', LogisticRegression())\n",
    "    ])\n",
    "\n",
    "    if validation:\n",
    "        x_train, x_valid, y_train, y_valid = model_selection.train_test_split(x_train.values, y_train.values, test_size=0.2, random_state=42)\n",
    "        clf.fit(x_train, y_train)\n",
    "        predicted_train = clf.predict(x_train)\n",
    "        predicted_valid = clf.predict(x_valid)\n",
    "\n",
    "        acc, f1 = metric(y_train, predicted_train)\n",
    "        logger.info('Training - acc: %.8f, f1: %.8f' % (acc, f1))\n",
    "        acc, f1 = metric(y_valid, predicted_valid)\n",
    "        logger.info('Validationn - acc: %.8f, f1: %.8f' % (acc, f1))\n",
    "\n",
    "        # print(\"Training Accuracy: \", np.mean(predicted_train == y_train))\n",
    "        # print(\"Validation Accuracy: \", np.mean(predicted_valid == y_valid))\n",
    "    else:\n",
    "        clf.fit(x_train, y_train)\n",
    "        predicted_train = clf.predict(x_train)\n",
    "        acc, f1 = metric(y_train, predicted_train)\n",
    "        logger.info('Training - acc: %.8f, f1: %.8f' % (acc, f1))\n",
    "\n",
    "    class_names = ['Lower', 'Hold', 'Raise']\n",
    "    y_valid_class = [class_names[idx] for idx in y_valid]\n",
    "    predicted_valid_class = [class_names[idx] for idx in predicted_valid]\n",
    "    titles_options = [(\"Confusion matrix, without normalization\", None), (\"Normalized confusion matrix\", 'true')]\n",
    "    for title, normalize in titles_options:\n",
    "        disp = skplt.metrics.plot_confusion_matrix(y_valid_class, predicted_valid_class, normalize=normalize, title=title)\n",
    "    plt.show()\n",
    "\n",
    "    return clf\n",
    "\n",
    "model = build_tfidf_logreg(train_df)"
   ]
  },
  {
   "cell_type": "markdown",
   "metadata": {
    "colab_type": "text",
    "id": "BD2p2Tq2TQsr"
   },
   "source": [
    "## B) RNN/LSTM"
   ]
  },
  {
   "cell_type": "markdown",
   "metadata": {
    "colab_type": "text",
    "id": "1CdsD7OPM3WU"
   },
   "source": [
    "Extract words which are only aphabet and not in stop word, covert to lower case."
   ]
  },
  {
   "cell_type": "code",
   "execution_count": 0,
   "metadata": {
    "colab": {},
    "colab_type": "code",
    "id": "iX3KHz5urH5j"
   },
   "outputs": [],
   "source": [
    "def tokenize_df(df):\n",
    "    tokenized = []\n",
    "    wnl = nltk.stem.WordNetLemmatizer()\n",
    "    for text in tqdm(df['text']):\n",
    "        words = [word.lower() for word in word_tokenize(text) if ((word.isalpha()==1) & (word not in stop))]\n",
    "        tokens = [wnl.lemmatize(wnl.lemmatize(word, 'n'), 'v') for word in words]\n",
    "        tokenized.append(tokens)\n",
    "    return tokenized"
   ]
  },
  {
   "cell_type": "code",
   "execution_count": 23,
   "metadata": {
    "colab": {
     "base_uri": "https://localhost:8080/",
     "height": 66,
     "referenced_widgets": [
      "9c942dab3c154ee38c38449a1cef9116",
      "7dbb928b5f6c4621b46e1ca9a3b5b846",
      "72f9bca9b45f4c5a91039719cb4d2d90",
      "c6852d04b6d140a49b09a47402fbb273",
      "24653349f70041d1935b5a0652271680",
      "ec205d4e972847fc8a9eab489180b2fe",
      "cc839a3d2a5c41f09dd3c08dffeff5bf",
      "b13309c60ef8446488a8d27ceac40696"
     ]
    },
    "colab_type": "code",
    "id": "lGzERKvNrQCd",
    "outputId": "b5eb7bae-c5eb-41d1-d724-e37c8bb7adc3"
   },
   "outputs": [
    {
     "data": {
      "application/vnd.jupyter.widget-view+json": {
       "model_id": "9c942dab3c154ee38c38449a1cef9116",
       "version_major": 2,
       "version_minor": 0
      },
      "text/plain": [
       "HBox(children=(FloatProgress(value=0.0, max=192.0), HTML(value='')))"
      ]
     },
     "metadata": {
      "tags": []
     },
     "output_type": "display_data"
    },
    {
     "name": "stdout",
     "output_type": "stream",
     "text": [
      "\n"
     ]
    }
   ],
   "source": [
    "tokenized = tokenize_df(train_df)"
   ]
  },
  {
   "cell_type": "code",
   "execution_count": 24,
   "metadata": {
    "colab": {
     "base_uri": "https://localhost:8080/",
     "height": 1000
    },
    "colab_type": "code",
    "id": "XOOME2-Fj3T6",
    "outputId": "983cba82-68be-4ed7-d1a4-4f502c29320d"
   },
   "outputs": [
    {
     "data": {
      "text/plain": [
       "['chairman',\n",
       " 'alan',\n",
       " 'greenspan',\n",
       " 'announce',\n",
       " 'today',\n",
       " 'federal',\n",
       " 'open',\n",
       " 'market',\n",
       " 'committee',\n",
       " 'decide',\n",
       " 'increase',\n",
       " 'slightly',\n",
       " 'degree',\n",
       " 'pressure',\n",
       " 'reserve',\n",
       " 'position',\n",
       " 'the',\n",
       " 'action',\n",
       " 'expect',\n",
       " 'associate',\n",
       " 'small',\n",
       " 'increase',\n",
       " 'money',\n",
       " 'market',\n",
       " 'interest',\n",
       " 'rate',\n",
       " 'the',\n",
       " 'decision',\n",
       " 'take',\n",
       " 'move',\n",
       " 'toward',\n",
       " 'le',\n",
       " 'accommodative',\n",
       " 'stance',\n",
       " 'monetary',\n",
       " 'policy',\n",
       " 'order',\n",
       " 'sustain',\n",
       " 'enhance',\n",
       " 'economic',\n",
       " 'expansion',\n",
       " 'chairman',\n",
       " 'greenspan',\n",
       " 'decide',\n",
       " 'announce',\n",
       " 'action',\n",
       " 'immediately',\n",
       " 'avoid',\n",
       " 'misunderstand',\n",
       " 'committee',\n",
       " 'purpose',\n",
       " 'give',\n",
       " 'fact',\n",
       " 'first',\n",
       " 'firm',\n",
       " 'reserve',\n",
       " 'market',\n",
       " 'condition',\n",
       " 'committee',\n",
       " 'since',\n",
       " 'early']"
      ]
     },
     "execution_count": 24,
     "metadata": {
      "tags": []
     },
     "output_type": "execute_result"
    }
   ],
   "source": [
    "tokenized[0]"
   ]
  },
  {
   "cell_type": "code",
   "execution_count": 25,
   "metadata": {
    "colab": {
     "base_uri": "https://localhost:8080/",
     "height": 122
    },
    "colab_type": "code",
    "id": "5EGKvqcWQCsZ",
    "outputId": "870f9b05-fd47-4ccd-a4c4-aa209fb1cc7c"
   },
   "outputs": [
    {
     "name": "stdout",
     "output_type": "stream",
     "text": [
      "len(tokenized):  192\n",
      "len(all_words):  74762\n",
      "len(counts):  1295\n",
      "counts:  Counter({'committee': 2049, 'federal': 1437, 'inflation': 1312, 'rate': 1275, 'economic': 1201, 'policy': 1173, 'the': 1107, 'market': 1007, 'action': 898, 'monetary': 835, 'growth': 825, 'price': 793, 'continue': 696, 'percent': 667, 'remain': 625, 'board': 620, 'condition': 610, 'fund': 601, 'in': 583, 'reserve': 522, 'risk': 503, 'stability': 460, 'chairman': 454, 'target': 443, 'labor': 431, 'information': 420, 'take': 394, 'approve': 392, 'discount': 371, 'expect': 369, 'pace': 365, 'increase': 361, 'security': 359, 'bank': 357, 'open': 348, 'financial': 334, 'activity': 331, 'decide': 325, 'sustainable': 322, 'point': 313, 'vote': 309, 'basis': 305, 'today': 303, 'goal': 296, 'expectation': 294, 'toward': 293, 'level': 287, 'low': 284, 'pressure': 281, 'measure': 279, 'fomc': 276, 'recent': 271, 'maintain': 269, 'productivity': 265, 'available': 264, 'likely': 262, 'time': 261, 'belief': 260, 'support': 259, 'month': 254, 'currently': 252, 'employment': 250, 'stance': 248, 'meet': 244, 'future': 241, 'update': 239, 'range': 238, 'economy': 236, 'request': 230, 'underlie': 230, 'home': 227, 'news': 226, 'accommodative': 225, 'may': 224, 'vice': 221, 'director': 220, 'balance': 219, 'submit': 217, 'consistent': 216, 'energy': 213, 'agency': 213, 'new': 212, 'spend': 206, 'event': 206, 'rise': 204, 'mark': 202, 'keep': 199, 'business': 199, 'since': 197, 'greenspan': 196, 'alan': 195, 'moderate': 195, 'susan': 195, 'bies': 195, 'foreseeable': 194, 'maximum': 194, 'outlook': 193, 'purchase': 192, 'donald': 191, 'kohn': 191, 'roger': 190, 'ferguson': 190, 'olson': 190, 'ben': 188, 'bernanke': 188, 'demand': 187, 'gramlich': 182, 'objective': 181, 'york': 180, 'hold': 178, 'background': 176, 'quarter': 175, 'governor': 174, 'edward': 174, 'development': 172, 'relate': 170, 'william': 170, 'accommodation': 170, 'appear': 169, 'san': 167, 'last': 167, 'prospect': 167, 'however': 165, 'improve': 164, 'ongoing': 159, 'boston': 157, 'mandate': 157, 'anticipate': 155, 'appropriate': 155, 'decline': 147, 'philadelphia': 146, 'chicago': 146, 'foster': 146, 'year': 146, 'change': 146, 'run': 146, 'provide': 146, 'believe': 145, 'richmond': 143, 'cleveland': 143, 'louis': 142, 'indicator': 142, 'atlanta': 141, 'although': 141, 'nonetheless': 141, 'weight': 141, 'downside': 141, 'contain': 140, 'mainly': 140, 'generate': 138, 'kansa': 137, 'roughly': 136, 'for': 135, 'potential': 133, 'equal': 132, 'city': 131, 'expand': 131, 'well': 131, 'household': 130, 'term': 127, 'investment': 126, 'current': 125, 'immediate': 124, 'include': 124, 'couple': 124, 'francisco': 122, 'dallas': 121, 'adjustment': 120, 'need': 119, 'upside': 117, 'attainment': 117, 'reduction': 116, 'minneapolis': 115, 'weakness': 113, 'strengthen': 112, 'perceive': 112, 'unemployment': 112, 'next': 111, 'expansion': 110, 'this': 110, 'lower': 110, 'robert': 110, 'resource': 108, 'indicate': 108, 'timothy': 108, 'geithner': 108, 'monitor': 107, 'treasury': 107, 'releasethe': 106, 'suggest': 106, 'house': 106, 'circumstance': 105, 'with': 105, 'robust': 105, 'billion': 104, 'warrant': 102, 'judge': 102, 'period': 101, 'remove': 101, 'raise': 98, 'recovery': 97, 'incoming': 96, 'accessibility': 96, 'slow': 95, 'receive': 95, 'help': 93, 'accessibilitylast': 93, 'michael': 91, 'moskow': 91, 'improvement': 91, 'exist': 90, 'gary': 89, 'somewhat': 86, 'credit': 86, 'near': 85, 'unanimously': 85, 'even': 83, 'anthony': 83, 'santomero': 83, 'progress': 82, 'could': 81, 'firm': 80, 'become': 80, 'program': 80, 'core': 79, 'sustain': 78, 'utilization': 78, 'cost': 77, 'uncertainty': 77, 'though': 77, 'still': 77, 'also': 77, 'move': 76, 'light': 76, 'concern': 75, 'diminish': 75, 'heighten': 75, 'advance': 75, 'statutory': 75, 'seek': 75, 'debt': 74, 'sandra': 74, 'pianalto': 74, 'fix': 74, 'account': 73, 'begin': 73, 'read': 73, 'dual': 73, 'evidence': 72, 'data': 72, 'mcdonough': 72, 'hoenig': 72, 'fall': 71, 'gain': 71, 'to': 71, 'asset': 71, 'ease': 70, 'consumer': 70, 'output': 70, 'medium': 70, 'reflect': 69, 'elevate': 69, 'gradually': 69, 'size': 69, 'determine': 69, 'effect': 68, 'restrain': 68, 'considerable': 67, 'jack': 67, 'guynn': 67, 'thomas': 67, 'assessment': 67, 'high': 66, 'earlier': 66, 'gradual': 65, 'june': 64, 'supply': 64, 'roll': 64, 'prefer': 64, 'respond': 64, 'job': 63, 'ass': 63, 'solid': 63, 'come': 62, 'obligation': 62, 'principal': 62, 'payment': 62, 'inflationary': 60, 'stable': 60, 'interest': 59, 'make': 59, 'september': 59, 'longer': 59, 'mcteer': 59, 'fulfill': 59, 'subdue': 57, 'global': 57, 'auction': 57, 'strong': 57, 'reinvesting': 57, 'institution': 56, 'a': 56, 'forward': 56, 'long': 56, 'sector': 56, 'stern': 56, 'cathy': 56, 'minehan': 56, 'release': 55, 'together': 55, 'back': 55, 'relatively': 55, 'alfred': 55, 'broaddus': 55, 'closely': 54, 'promote': 54, 'view': 53, 'realize': 53, 'production': 53, 'exceptionally': 53, 'context': 52, 'additional': 52, 'intermeeting': 52, 'abate': 52, 'trend': 51, 'march': 51, 'jerry': 51, 'jordan': 51, 'pick': 51, 'per': 51, 'excess': 50, 'parry': 50, 'wide': 50, 'favorable': 49, 'unchanged': 49, 'inventory': 49, 'important': 49, 'overall': 49, 'relative': 49, 'depository': 48, 'go': 48, 'symmetric': 48, 'capital': 48, 'january': 48, 'announce': 47, 'charge': 47, 'borrow': 47, 'district': 47, 'little': 47, 'weak': 47, 'probability': 47, 'unwelcome': 47, 'imbalance': 46, 'extend': 46, 'add': 46, 'aggregate': 45, 'december': 45, 'end': 45, 'grow': 44, 'exceed': 44, 'see': 44, 'actual': 44, 'mature': 44, 'force': 43, 'august': 43, 'date': 43, 'evolve': 43, 'partly': 42, 'respect': 42, 'central': 42, 'international': 42, 'would': 41, 'against': 41, 'ensure': 41, 'sign': 41, 'undermine': 40, 'directive': 40, 'despite': 40, 'already': 40, 'seem': 40, 'stronger': 40, 'substantial': 39, 'soft': 39, 'confirm': 39, 'accumulate': 39, 'richard': 39, 'first': 38, 'eventsaccessibilitylast': 38, 'november': 38, 'on': 38, 'mute': 38, 'compensation': 38, 'associate': 37, 'power': 37, 'janet': 37, 'yellen': 37, 'charles': 37, 'dudley': 37, 'consequence': 36, 'fisher': 36, 'evident': 35, 'pool': 34, 'worker': 34, 'rapid': 34, 'weaken': 34, 'minute': 34, 'transitory': 34, 'lend': 34, 'daniel': 34, 'tarullo': 34, 'degree': 33, 'adopt': 33, 'significant': 33, 'unusually': 33, 'liquidity': 33, 'show': 33, 'highly': 33, 'generally': 32, 'wealth': 32, 'consumption': 32, 'geopolitical': 32, 'stabilize': 32, 'broader': 32, 'carefully': 32, 'unusual': 31, 'sufficient': 31, 'equipment': 31, 'response': 31, 'facility': 31, 'mortgage': 31, 'average': 31, 'follow': 30, 'tight': 30, 'part': 30, 'extent': 30, 'poole': 30, 'higher': 30, 'import': 30, 'jerome': 30, 'powell': 30, 'strength': 29, 'recognize': 29, 'possible': 29, 'contrast': 29, 'minor': 29, 'commodity': 29, 'reduce': 28, 'performance': 28, 'manner': 28, 'pose': 28, 'abroad': 28, 'rather': 28, 'sizable': 28, 'around': 27, 'uncertain': 27, 'recently': 27, 'climate': 27, 'jamie': 27, 'stewart': 27, 'slightly': 26, 'necessary': 26, 'modest': 26, 'restraint': 26, 'slack': 26, 'addition': 26, 'depress': 26, 'depend': 26, 'employ': 26, 'tool': 26, 'path': 26, 'food': 26, 'decision': 25, 'strain': 25, 'sale': 25, 'product': 25, 'october': 25, 'oil': 25, 'use': 25, 'regularly': 25, 'disruption': 25, 'composition': 25, 'slower': 24, 'week': 24, 'way': 24, 'evans': 24, 'eric': 24, 'rosengren': 24, 'fiscal': 24, 'least': 24, 'when': 24, 'approach': 24, 'decrease': 23, 'limit': 23, 'moreover': 23, 'elizabeth': 23, 'duke': 23, 'set': 22, 'quite': 22, 'owe': 22, 'soften': 22, 'equity': 22, 'kevin': 22, 'warsh': 22, 'project': 22, 'return': 22, 'downward': 22, 'moderately': 22, 'reaffirm': 22, 'these': 21, 'persist': 21, 'reasonably': 21, 'february': 21, 'confidence': 21, 'weigh': 21, 'final': 21, 'factor': 21, 'jam': 21, 'bullard': 21, 'dissipate': 21, 'chair': 21, 'prevail': 21, 'while': 20, 'possibility': 20, 'especially': 20, 'produce': 20, 'profit': 20, 'call': 20, 'largely': 20, 'hire': 20, 'predominant': 20, 'stay': 20, 'close': 20, 'maturity': 20, 'inform': 20, 'item': 20, 'markedly': 19, 'contribute': 19, 'pickup': 19, 'export': 19, 'anchor': 19, 'enhance': 18, 'function': 18, 'significantly': 18, 'importantly': 18, 'situation': 18, 'review': 18, 'large': 18, 'normal': 18, 'damp': 18, 'president': 18, 'modestly': 18, 'almost': 18, 'patient': 18, 'expedite': 18, 'national': 18, 'particular': 18, 'substantially': 18, 'tighten': 17, 'ahead': 17, 'impressive': 17, 'tentative': 17, 'accelerate': 17, 'course': 17, 'report': 17, 'technology': 17, 'bring': 17, 'work': 17, 'undesirably': 17, 'randall': 17, 'kroszner': 17, 'half': 17, 'prepare': 17, 'amount': 17, 'adjust': 17, 'efficacy': 17, 'esther': 17, 'george': 17, 'lael': 17, 'brainard': 17, 'normalization': 17, 'persistent': 16, 'percentage': 16, 'environment': 16, 'foreign': 16, 'must': 16, 'emergence': 16, 'address': 16, 'base': 16, 'closer': 16, 'consequently': 16, 'profitability': 16, 'bolster': 16, 'prove': 16, 'late': 16, 'temporary': 16, 'income': 16, 'loan': 16, 'sarah': 16, 'bloom': 16, 'raskin': 16, 'nearly': 16, 'develop': 15, 'step': 15, 'essential': 15, 'state': 15, 'alert': 15, 'accordingly': 15, 'evaluate': 15, 'shortfall': 15, 'poise': 15, 'swing': 15, 'announcement': 15, 'cumulative': 15, 'frederic': 15, 'mishkin': 15, 'jeffrey': 15, 'lacker': 15, 'swiss': 15, 'constrain': 15, 'software': 15, 'structure': 15, 'le': 14, 'unite': 14, 'statement': 14, 'regard': 14, 'cut': 14, 'area': 14, 'start': 14, 'choice': 14, 'premium': 14, 'plosser': 14, 'european': 14, 'arrangement': 14, 'sheet': 14, 'nonresidential': 14, 'past': 14, 'john': 14, 'williams': 14, 'materially': 13, 'domestic': 13, 'combination': 13, 'policyhome': 13, 'impetus': 13, 'mix': 13, 'nevertheless': 13, 'evolution': 13, 'consider': 13, 'payroll': 13, 'jeremy': 13, 'stein': 13, 'underutilization': 13, 'along': 12, 'at': 12, 'reallocation': 12, 'eventsaccessibility': 12, 'lag': 12, 'schedule': 12, 'strongly': 12, 'swap': 12, 'one': 12, 'stanley': 12, 'fischer': 12, 'money': 11, 'order': 11, 'early': 11, 'greater': 11, 'symmetrical': 11, 'will': 11, 'smooth': 11, 'transition': 11, 'preliminary': 11, 'segment': 11, 'stock': 11, 'exhibit': 11, 'emerge': 11, 'expenditure': 11, 'flatten': 11, 'intact': 11, 'erosion': 11, 'tragic': 11, 'element': 11, 'upward': 11, 'loss': 11, 'boost': 11, 'canada': 11, 'england': 11, 'dennis': 11, 'lockhart': 11, 'if': 11, 'net': 11, 'persistently': 11, 'outcome': 11, 'implication': 11, 'agree': 10, 'prolong': 10, 'such': 10, 'record': 10, 'far': 10, 'erode': 10, 'margin': 10, 'manufacture': 10, 'rapidly': 10, 'aspect': 10, 'lift': 10, 'analyst': 10, 'disappoint': 10, 'achieve': 10, 'briskly': 10, 'portion': 10, 'imply': 10, 'act': 10, 'intend': 10, 'ecb': 10, 'other': 10, 'japan': 10, 'turn': 10, 'private': 10, 'reluctant': 10, 'cause': 10, 'two': 10, 'eventually': 9, 'prospective': 9, 'might': 9, 'emphasize': 9, 'faster': 9, 'stress': 9, 'yet': 9, 'three': 9, 'est': 9, 'plan': 9, 'primary': 9, 'dealer': 9, 'mb': 9, 'line': 9, 'transaction': 9, 'previously': 9, 'contract': 9, 'trillion': 9, 'april': 9, 'employer': 9, 'preset': 9, 'contingent': 9, 'broadly': 9, 'july': 8, 'effective': 8, 'slight': 8, 'experience': 8, 'settle': 8, 'much': 8, 'require': 8, 'focus': 8, 'exert': 8, 'stand': 8, 'ready': 8, 'appreciably': 8, 'deterioration': 8, 'edge': 8, 'number': 8, 'resume': 8, 'hurricane': 8, 'operation': 8, 'collateral': 8, 'process': 8, 'snb': 8, 'dollar': 8, 'direct': 8, 'preserve': 8, 'commercial': 8, 'gasoline': 8, 'apart': 8, 'guidance': 8, 'inception': 8, 'loretta': 8, 'mester': 8, 'small': 7, 'alter': 7, 'turmoil': 7, 'unit': 7, 'bias': 7, 'member': 7, 'signify': 7, 'commitment': 7, 'check': 7, 'st': 7, 'accompany': 7, 'capacity': 7, 'twelve': 7, 'thebackground': 7, 'andsustainable': 7, 'dissenter': 7, 'conform': 7, 'practice': 7, 'write': 7, 'apparent': 7, 'particularly': 7, 'due': 7, 'winter': 7, 'temporarily': 7, 'rebuild': 7, 'combine': 7, 'contraction': 7, 'tslf': 7, 'sverige': 7, 'riksbank': 7, 'second': 7, 'express': 7, 'extension': 7, 'stimulus': 7, 'total': 7, 'pay': 7, 'attention': 7, 'narayana': 7, 'kocherlakota': 7, 'fluctuation': 7, 'confident': 7, 'result': 6, 'several': 6, 'backdrop': 6, 'therefore': 6, 'recover': 6, 'outpace': 6, 'draw': 6, 'century': 6, 'outstanding': 6, 'judgment': 6, 'ago': 6, 'behavior': 6, 'conducive': 6, 'gap': 6, 'drag': 6, 'sap': 6, 'sharply': 6, 'forceful': 6, 'bite': 6, 'productive': 6, 'dampen': 6, 'threaten': 6, 'unacceptably': 6, 'stall': 6, 'hence': 6, 'helpful': 6, 'spot': 6, 'cloud': 6, 'short': 6, 'decisionmaking': 6, 'usefully': 6, 'characterize': 6, 'refrain': 6, 'determination': 6, 'surveillance': 6, 'latter': 6, 'predominate': 6, 'similarly': 6, 'juncture': 6, 'tomaintain': 6, 'good': 6, 'augment': 6, 'system': 6, 'intensification': 6, 'case': 6, 'undertake': 6, 'repurchase': 6, 'kb': 6, 'pdf': 6, 'furthermore': 6, 'best': 6, 'lead': 6, 'better': 6, 'alignment': 6, 'complete': 6, 'proceed': 6, 'crude': 6, 'put': 6, 'affect': 6, 'occur': 6, 'position': 5, 'give': 5, 'prudent': 5, 'afford': 5, 'assurance': 5, 'rest': 5, 'reinforce': 5, 'conviction': 5, 'fullest': 5, 'no': 5, 'buildup': 5, 'full': 5, 'resolution': 5, 'conflict': 5, 'choose': 5, 'predilection': 5, 'dynamic': 5, 'certain': 5, 'remarkable': 5, 'exemplary': 5, 'pronounce': 5, 'disparity': 5, 'consideration': 5, 'essentially': 5, 'harbor': 5, 'earn': 5, 'absence': 5, 'indication': 5, 'seven': 5, 'exacerbate': 5, 'drain': 5, 'press': 5, 'retail': 5, 'backup': 5, 'induce': 5, 'probably': 5, 'pattern': 5, 'terrorist': 5, 'attack': 5, 'sure': 5, 'prevalent': 5, 'spring': 5, 'problem': 5, 'corporate': 5, 'governance': 5, 'tend': 5, 'attributable': 5, 'inhibit': 5, 'inconsistent': 5, 'reportedly': 5, 'hesitancy': 5, 'engender': 5, 'mostly': 5, 'conclusion': 5, 'hostility': 5, 'ebb': 5, 'tension': 5, 'expansive': 5, 'softness': 5, 'after': 5, 'regain': 5, 'traction': 5, 'notably': 5, 'dislocation': 5, 'always': 5, 'mitigate': 5, 'adverse': 5, 'consult': 5, 'actionsthe': 5, 'day': 5, 'overnight': 5, 'thus': 5, 'authorize': 5, 'reciprocal': 5, 'currency': 5, 'represent': 5, 'banksinformation': 5, 'website': 5, 'banksbank': 5, 'crisis': 5, 'obtain': 5, 'conduct': 5, 'implement': 5, 'resumption': 5, 'staff': 5, 'execute': 5, 'supportive': 5, 'randal': 5, 'quarles': 5, 'exclude': 5, 'implementation': 5, 'desk': 5, 'fully': 4, 'thereby': 4, 'enough': 4, 'progressively': 4, 'cushion': 4, 'domestically': 4, 'mean': 4, 'caution': 4, 'lender': 4, 'unsettle': 4, 'tilt': 4, 'but': 4, 'normally': 4, 'noninflationary': 4, 'leave': 4, 'volume': 4, 'restore': 4, 'occasion': 4, 'evidently': 4, 'feed': 4, 'apparently': 4, 'toll': 4, 'katrina': 4, 'widespread': 4, 'devastation': 4, 'gulf': 4, 'region': 4, 'refine': 4, 'infrastructure': 4, 'volatility': 4, 'unfortunate': 4, 'threat': 4, 'real': 4, 'special': 4, 'nation': 4, 'safe': 4, 'flexible': 4, 'technical': 4, 'design': 4, 'respectively': 4, 'series': 4, 'be': 4, 'facilityterms': 4, 'conditionsfrequently': 4, 'ask': 4, 'question': 4, 'ability': 4, 'weaker': 4, 'facilitate': 4, 'later': 4, 'whether': 4, 'sentiment': 4, 'paper': 4, 'type': 4, 'chain': 4, 'previous': 4, 'description': 4, 'oppose': 4, 'variation': 4, 'retrenchment': 4, 'michelle': 4, 'bowman': 4, 'clarida': 4, 'ample': 4, 'moderation': 3, 'inthe': 3, 'potentialinflationary': 3, 'trendsalready': 3, 'withcontained': 3, 'submittedby': 3, 'counter': 3, 'brisk': 3, 'over': 3, 'rebound': 3, 'fail': 3, 'correction': 3, 'trade': 3, 'arise': 3, 'coordinate': 3, 'under': 3, 'secure': 3, 'pledge': 3, 'residential': 3, 'finance': 3, 'weekly': 3, 'feature': 3, 'supplement': 3, 'friday': 3, 'cumulate': 3, 'some': 3, 'mae': 3, 'quantity': 3, 'buy': 3, 'sluggish': 3, 'offer': 3, 'create': 3, 'macroeconomic': 3, 'similar': 3, 'disappointingly': 3, 'summer': 3, 'slowly': 3, 'peak': 3, 'omit': 3, 'continuation': 3, 'without': 3, 'quickly': 3, 'likelihood': 3, 'sooner': 3, 'conversely': 3, 'prof': 3, 'normalize': 3, 'unlikely': 3, 'steady': 3, 'patrick': 3, 'harker': 3, 'kaplan': 3, 'neel': 3, 'kashkari': 3, 'initiate': 2, 'accommodate': 2, 'fourth': 2, 'firmer': 2, 'tighter': 2, 'deteriorate': 2, 'forestall': 2, 'otherwise': 2, 'third': 2, 'deepen': 2, 'timely': 2, 'we': 2, 'it': 2, 'joint': 2, 'consultation': 2, 'country': 2, 'industrial': 2, 'many': 2, 'fannie': 2, 'freddie': 2, 'mac': 2, 'spread': 2, 'gse': 2, 'availability': 2, 'competitive': 2, 'place': 2, 'operational': 2, 'detail': 2, 'stimulate': 2, 'benefit': 2, 'difficulty': 2, 'autumn': 2, 'severe': 2, 'expire': 2, 'mutual': 2, 'expiration': 2, 'modify': 2, 'flexibility': 2, 'soon': 2, 'constant': 2, 'destabilize': 2, 'insufficient': 2, 'sharp': 2, 'push': 2, 'considerably': 2, 'sell': 2, 'notwithstanding': 2, 'subsequently': 2, 'albeit': 2, 'key': 2, 'pause': 2, 'influence': 2, 'await': 2, 'weather': 2, 'object': 2, 'language': 2, 'dependent': 2, 'wait': 2, 'describe': 2, 'addendum': 2, 'principle': 2, 'aftermath': 2, 'storm': 2, 'contemplate': 2, 'efficient': 2, 'liability': 2, 'reverse': 2, 'reinvested': 2, 'immediately': 1, 'avoid': 1, 'misunderstand': 1, 'purpose': 1, 'fact': 1, 'eleven': 1, 'recede': 1, 'gdp': 1, 'stabilization': 1, 'convincingly': 1, 'demonstrate': 1, 'volatile': 1, 'window': 1, 'source': 1, 'intensify': 1, 'justify': 1, 'absent': 1, 'specific': 1, 'aggressive': 1, 'banksthroughout': 1, 'engage': 1, 'continuous': 1, 'cooperate': 1, 'unprecedented': 1, 'provision': 1, 'sweden': 1, 'extraordinary': 1, 'official': 1, 'tuesday': 1, 'enterprise': 1, 'g': 1, 'ginnie': 1, 'widen': 1, 'manager': 1, 'select': 1, 'via': 1, 'further': 1, 'participant': 1, 'establish': 1, 'steeply': 1, 'government': 1, 'effort': 1, 'extremely': 1, 'duration': 1, 'modification': 1, 'serve': 1, 'slump': 1, 'major': 1, 'partner': 1, 'recession': 1, 'six': 1, 'launch': 1, 'eligible': 1, 'downturn': 1, 'counterparties': 1, 'scale': 1, 'wind': 1, 'sufficiently': 1, 'flat': 1, 'completion': 1, 'reemergence': 1, 'europe': 1, 'reestablishment': 1, 'prevent': 1, 'center': 1, 'tender': 1, 'local': 1, 'allotment': 1, 'reinvest': 1, 'outweigh': 1, 'foot': 1, 'subside': 1, 'more': 1, 'motor': 1, 'vehicle': 1, 'reversal': 1, 'lately': 1, 'specifically': 1, 'redeem': 1, 'approximately': 1, 'decelerate': 1, 'disagree': 1, 'initially': 1, 'threshold': 1, 'characterization': 1, 'restrictive': 1, 'signal': 1, 'willingness': 1, 'defend': 1, 'observe': 1, 'premature': 1, 'clearly': 1, 'general': 1, 'conclude': 1, 'sluggishness': 1, 'slide': 1, 'commit': 1, 'majority': 1, 'envision': 1, 'undue': 1, 'credibility': 1, 'importance': 1, 'passage': 1, 'consistency': 1, 'initial': 1, 'assess': 1, 'lessen': 1, 'like': 1, 'reinvestment': 1, 'fundamental': 1, 'underpin': 1, 'drop': 1, 'harvey': 1, 'irma': 1, 'maria': 1, 'devastate': 1, 'community': 1, 'inflict': 1, 'hardship': 1, 'intention': 1, 'regime': 1, 'control': 1, 'exercise': 1, 'primarily': 1, 'administer': 1, 'active': 1, 'management': 1, 'notation': 1, 'purely': 1, 'bill': 1, 'agreement': 1, 'adversely': 1, 'weekend': 1, 'holiday': 1, 'convention': 1, 'value': 1, 'outright': 1, 'calendar': 1, 'match': 1, 'deviation': 1, 'reason': 1, 'acceptable': 1})\n",
      "bow[:20] ['committee', 'federal', 'inflation', 'rate', 'economic', 'policy', 'the', 'market', 'action', 'monetary', 'growth', 'price', 'continue', 'percent', 'remain', 'board', 'condition', 'fund', 'in', 'reserve']\n"
     ]
    }
   ],
   "source": [
    "from collections import Counter\n",
    "\n",
    "print('len(tokenized): ', len(tokenized))\n",
    "all_words = [word for text in tokenized for word in text]\n",
    "#all_words = [word for word in text for text in tokenized]\n",
    "#print(all_words[:20])\n",
    "print('len(all_words): ', len(all_words))\n",
    "counts = Counter(all_words)\n",
    "print('len(counts): ', len(counts))\n",
    "print('counts: ', counts)\n",
    "bow = sorted(counts, key=counts.get, reverse=True)\n",
    "print('bow[:20]', bow[:20])"
   ]
  },
  {
   "cell_type": "markdown",
   "metadata": {
    "colab_type": "text",
    "id": "EfQuT9abSF-C"
   },
   "source": [
    "### Filter by frequency of words\n",
    "\n",
    "This time, switch it off as the frequency is already considered while creating the vocabrary"
   ]
  },
  {
   "cell_type": "code",
   "execution_count": 0,
   "metadata": {
    "colab": {},
    "colab_type": "code",
    "id": "5cnHKFeFSXIi"
   },
   "outputs": [],
   "source": [
    "# freq = {}\n",
    "# num_words = len(all_words)\n",
    "# print('len(all_words): ', len(all_words))\n",
    "\n",
    "# for key in counts:\n",
    "#     freq[key] = counts[key]/num_words\n",
    "\n",
    "# print('len(freq): ', len(freq))\n",
    "# print(freq['rate'])\n",
    "\n",
    "# low_cutoff = 0.000001\n",
    "# high_cutoff = 20\n",
    "\n",
    "# K_most_common, K_most_common_values = zip(*counts.most_common()[:high_cutoff])\n",
    "\n",
    "# filtered_words = [word for word in freqs if (freqs[word] > low_cutoff and word not in K_most_common)]\n",
    "# print(K_most_common)\n",
    "# print('len(filtered_words): ', len(filtered_words))"
   ]
  },
  {
   "cell_type": "code",
   "execution_count": 27,
   "metadata": {
    "colab": {
     "base_uri": "https://localhost:8080/",
     "height": 54
    },
    "colab_type": "code",
    "id": "-_YLd74dWnEM",
    "outputId": "ac23610d-9585-490d-acb9-1f84b21cbb74"
   },
   "outputs": [
    {
     "name": "stdout",
     "output_type": "stream",
     "text": [
      "vocab:  {'chairman': 1, 'alan': 2, 'greenspan': 3, 'announce': 4, 'today': 5, 'federal': 6, 'open': 7, 'market': 8, 'committee': 9, 'decide': 10, 'increase': 11, 'slightly': 12, 'degree': 13, 'pressure': 14, 'reserve': 15, 'position': 16, 'the': 17, 'action': 18, 'expect': 19, 'associate': 20, 'small': 21, 'money': 22, 'interest': 23, 'rate': 24, 'decision': 25, 'take': 26, 'move': 27, 'toward': 28, 'le': 29, 'accommodative': 30, 'stance': 31, 'monetary': 32, 'policy': 33, 'order': 34, 'sustain': 35, 'enhance': 36, 'economic': 37, 'expansion': 38, 'immediately': 39, 'avoid': 40, 'misunderstand': 41, 'purpose': 42, 'give': 43, 'fact': 44, 'first': 45, 'firm': 46, 'condition': 47, 'since': 48, 'early': 49, 'this': 50, 'in': 51, 'discount': 52, 'board': 53, 'approve': 54, 'request': 55, 'submit': 56, 'director': 57, 'eleven': 58, 'bank': 59, 'boston': 60, 'new': 61, 'york': 62, 'philadelphia': 63, 'richmond': 64, 'atlanta': 65, 'chicago': 66, 'louis': 67, 'minneapolis': 68, 'kansa': 69, 'city': 70, 'dallas': 71, 'san': 72, 'francisco': 73, 'charge': 74, 'depository': 75, 'institution': 76, 'borrow': 77, 'district': 78, 'relate': 79, 'reflect': 80, 'fully': 81, 'these': 82, 'measure': 83, 'background': 84, 'evidence': 85, 'persistent': 86, 'strength': 87, 'activity': 88, 'high': 89, 'rise': 90, 'level': 91, 'resource': 92, 'utilization': 93, 'circumstance': 94, 'view': 95, 'necessary': 96, 'keep': 97, 'inflation': 98, 'contain': 99, 'thereby': 100, 'foster': 101, 'sustainable': 102, 'growth': 103, 'decrease': 104, 'a': 105, 'result': 106, 'tighten': 107, 'initiate': 108, 'inflationary': 109, 'recede': 110, 'enough': 111, 'accommodate': 112, 'modest': 113, 'adjustment': 114, 'basis': 115, 'point': 116, 'decline': 117, 'fund': 118, 'percent': 119, 'last': 120, 'ease': 121, 'july': 122, 'somewhat': 123, 'favorable': 124, 'anticipate': 125, 'along': 126, 'moderation': 127, 'expectation': 128, 'warrant': 129, 'for': 130, 'immediate': 131, 'releasethe': 132, 'follow': 133, 'governor': 134, 'reduction': 135, 'effective': 136, 'agree': 137, 'would': 138, 'inthe': 139, 'recent': 140, 'month': 141, 'reduce': 142, 'potentialinflationary': 143, 'go': 144, 'forward': 145, 'with': 146, 'price': 147, 'cost': 148, 'trendsalready': 149, 'subdue': 150, 'slight': 151, 'consistent': 152, 'withcontained': 153, 'submittedby': 154, 'cleveland': 155, 'release': 156, 'percentage': 157, 'around': 158, 'light': 159, 'persist': 160, 'demand': 161, 'progressively': 162, 'risk': 163, 'imbalance': 164, 'develop': 165, 'economy': 166, 'eventually': 167, 'undermine': 168, 'long': 169, 'prudent': 170, 'step': 171, 'afford': 172, 'greater': 173, 'assurance': 174, 'prolong': 175, 'current': 176, 'exist': 177, 'low': 178, 'environment': 179, 'rest': 180, 'year': 181, 'next': 182, 'experience': 183, 'several': 184, 'reinforce': 185, 'conviction': 186, 'essential': 187, 'realize': 188, 'fullest': 189, 'potential': 190, 'no': 191, 'change': 192, 'make': 193, 'remain': 194, 'cushion': 195, 'effect': 196, 'prospective': 197, 'unite': 198, 'state': 199, 'weakness': 200, 'foreign': 201, 'financial': 202, 'domestically': 203, 'global': 204, 'mean': 205, 'lower': 206, 'unchanged': 207, 'set': 208, 'fall': 209, 'grow': 210, 'caution': 211, 'lender': 212, 'unsettle': 213, 'generally': 214, 'likely': 215, 'restrain': 216, 'aggregate': 217, 'future': 218, 'against': 219, 'backdrop': 220, 'judge': 221, 'context': 222, 'although': 223, 'settle': 224, 'materially': 225, 'unusual': 226, 'strain': 227, 'september': 228, 'reasonably': 229, 'statement': 230, 'meet': 231, 'while': 232, 'fomc': 233, 'alter': 234, 'concern': 235, 'buildup': 236, 'could': 237, 'performance': 238, 'therefore': 239, 'adopt': 240, 'directive': 241, 'tilt': 242, 'possibility': 243, 'trend': 244, 'core': 245, 'quite': 246, 'but': 247, 'domestic': 248, 'recover': 249, 'prospect': 250, 'improve': 251, 'labor': 252, 'ongoing': 253, 'excess': 254, 'productivity': 255, 'gain': 256, 'recognize': 257, 'need': 258, 'alert': 259, 'development': 260, 'come': 261, 'might': 262, 'indicate': 263, 'may': 264, 'longer': 265, 'vote': 266, 'raise': 267, 'target': 268, 'counter': 269, 'significant': 270, 'much': 271, 'brisk': 272, 'pace': 273, 'accordingly': 274, 'full': 275, 'continue': 276, 'quarter': 277, 'strengthen': 278, 'owe': 279, 'uncertain': 280, 'resolution': 281, 'balance': 282, 'conflict': 283, 'force': 284, 'choose': 285, 'include': 286, 'predilection': 287, 'nonetheless': 288, 'dynamic': 289, 'must': 290, 'especially': 291, 'emergence': 292, 'function': 293, 'normally': 294, 'tight': 295, 'require': 296, 'address': 297, 'turmoil': 298, 'noninflationary': 299, 'together': 300, 'june': 301, 'markedly': 302, 'diminish': 303, 'consequence': 304, 'symmetrical': 305, 'regard': 306, 'outlook': 307, 'near': 308, 'term': 309, 'leave': 310, 'unit': 311, 'information': 312, 'suggest': 313, 'outpace': 314, 'supply': 315, 'pool': 316, 'available': 317, 'worker': 318, 'will': 319, 'job': 320, 'ahead': 321, 'significantly': 322, 'manner': 323, 'contribute': 324, 'impressive': 325, 'bias': 326, 'possible': 327, 'member': 328, 'emphasize': 329, 'signify': 330, 'commitment': 331, 'evaluate': 332, 'additional': 333, 'appear': 334, 'despite': 335, 'tentative': 336, 'slow': 337, 'certain': 338, 'sector': 339, 'accelerate': 340, 'draw': 341, 'check': 342, 'august': 343, 'course': 344, 'credit': 345, 'base': 346, 'however': 347, 'time': 348, 'exceed': 349, 'even': 350, 'account': 351, 'remarkable': 352, 'such': 353, 'exemplary': 354, 'uncertainty': 355, 'century': 356, 'date': 357, 'symmetric': 358, 'focus': 359, 'intermeeting': 360, 'period': 361, 'ensure': 362, 'smooth': 363, 'transition': 364, 'at': 365, 'ass': 366, 'pronounce': 367, 'record': 368, 'goal': 369, 'stability': 370, 'currently': 371, 'belief': 372, 'weight': 373, 'mainly': 374, 'generate': 375, 'heighten': 376, 'foreseeable': 377, 'rapid': 378, 'exert': 379, 'disparity': 380, 'outstanding': 381, 'already': 382, 'consideration': 383, 'essentially': 384, 'february': 385, 'maintain': 386, 'unusually': 387, 'energy': 388, 'though': 389, 'limit': 390, 'still': 391, 'harbor': 392, 'see': 393, 'soften': 394, 'business': 395, 'household': 396, 'expand': 397, 'produce': 398, 'sufficient': 399, 'judgment': 400, 'data': 401, 'moderate': 402, 'closer': 403, 'faster': 404, 'ago': 405, 'advance': 406, 'hold': 407, 'underlie': 408, 'sign': 409, 'preliminary': 410, 'also': 411, 'help': 412, 'moreover': 413, 'pose': 414, 'behavior': 415, 'far': 416, 'importantly': 417, 'conducive': 418, 'maximum': 419, 'well': 420, 'gap': 421, 'drag': 422, 'profit': 423, 'erode': 424, 'consumer': 425, 'confidence': 426, 'report': 427, 'substantial': 428, 'shortfall': 429, 'sale': 430, 'earn': 431, 'stress': 432, 'segment': 433, 'absence': 434, 'indication': 435, 'monitor': 436, 'closely': 437, 'evolve': 438, 'situation': 439, 'consequently': 440, 'seven': 441, 'stand': 442, 'ready': 443, 'weaken': 444, 'production': 445, 'sap': 446, 'purchase': 447, 'power': 448, 'little': 449, 'technology': 450, 'abate': 451, 'believe': 452, 'st': 453, 'exacerbate': 454, 'drain': 455, 'press': 456, 'margin': 457, 'partly': 458, 'retail': 459, 'spend': 460, 'capital': 461, 'equipment': 462, 'appreciably': 463, 'response': 464, 'manufacture': 465, 'cut': 466, 'back': 467, 'sharply': 468, 'stock': 469, 'inventory': 470, 'call': 471, 'forceful': 472, 'accompany': 473, 'exhibit': 474, 'support': 475, 'investment': 476, 'equity': 477, 'wealth': 478, 'consumption': 479, 'backup': 480, 'induce': 481, 'output': 482, 'bite': 483, 'productive': 484, 'capacity': 485, 'emerge': 486, 'recently': 487, 'soft': 488, 'rapidly': 489, 'twelve': 490, 'review': 491, 'become': 492, 'march': 493, 'seem': 494, 'house': 495, 'expenditure': 496, 'area': 497, 'flatten': 498, 'probably': 499, 'largely': 500, 'intact': 501, 'erosion': 502, 'profitability': 503, 'combination': 504, 'poise': 505, 'dampen': 506, 'restraint': 507, 'earlier': 508, 'slower': 509, 'abroad': 510, 'threaten': 511, 'unacceptably': 512, 'weak': 513, 'extend': 514, 'thebackground': 515, 'andsustainable': 516, 'considerable': 517, 'weigh': 518, 'product': 519, 'stall': 520, 'home': 521, 'news': 522, 'eventsaccessibilitylast': 523, 'update': 524, 'bring': 525, 'begin': 526, 'pattern': 527, 'evident': 528, 'bolster': 529, 'large': 530, 'volume': 531, 'liquidity': 532, 'normal': 533, 'restore': 534, 'actual': 535, 'occasion': 536, 'tragic': 537, 'event': 538, 'week': 539, 'employment': 540, 'damp': 541, 'terrorist': 542, 'attack': 543, 'october': 544, 'deterioration': 545, 'reallocation': 546, 'security': 547, 'eventsaccessibility': 548, 'november': 549, 'edge': 550, 'relatively': 551, 'to': 552, 'sure': 553, 'show': 554, 'december': 555, 'prevalent': 556, 'start': 557, 'recovery': 558, 'hence': 559, 'policyhome': 560, 'january': 561, 'mark': 562, 'swing': 563, 'final': 564, 'element': 565, 'respect': 566, 'announcement': 567, 'roll': 568, 'prefer': 569, 'choice': 570, 'dissenter': 571, 'minute': 572, 'lag': 573, 'conform': 574, 'practice': 575, 'write': 576, 'william': 577, 'mcdonough': 578, 'vice': 579, 'susan': 580, 'bies': 581, 'roger': 582, 'ferguson': 583, 'edward': 584, 'gramlich': 585, 'jerry': 586, 'jordan': 587, 'robert': 588, 'mcteer': 589, 'olson': 590, 'anthony': 591, 'santomero': 592, 'gary': 593, 'confirm': 594, 'receive': 595, 'upward': 596, 'impetus': 597, 'run': 598, 'stern': 599, 'accessibilitylast': 600, 'pick': 601, 'part': 602, 'robust': 603, 'spring': 604, 'problem': 605, 'corporate': 606, 'governance': 607, 'couple': 608, 'climate': 609, 'ben': 610, 'bernanke': 611, 'donald': 612, 'kohn': 613, 'extent': 614, 'pickup': 615, 'geopolitical': 616, 'president': 617, 'over': 618, 'provide': 619, 'important': 620, 'incoming': 621, 'tend': 622, 'attributable': 623, 'inhibit': 624, 'prove': 625, 'helpful': 626, 'work': 627, 'way': 628, 'spot': 629, 'number': 630, 'indicator': 631, 'inconsistent': 632, 'oil': 633, 'premium': 634, 'aspect': 635, 'reportedly': 636, 'hire': 637, 'lift': 638, 'analyst': 639, 'alfred': 640, 'broaddus': 641, 'jack': 642, 'guynn': 643, 'michael': 644, 'moskow': 645, 'parry': 646, 'mix': 647, 'disappoint': 648, 'hesitancy': 649, 'engender': 650, 'cloud': 651, 'short': 652, 'apparent': 653, 'decisionmaking': 654, 'usefully': 655, 'characterize': 656, 'rather': 657, 'refrain': 658, 'determination': 659, 'surveillance': 660, 'particularly': 661, 'read': 662, 'mostly': 663, 'conclusion': 664, 'hostility': 665, 'ebb': 666, 'tension': 667, 'debt': 668, 'improvement': 669, 'perceive': 670, 'upside': 671, 'downside': 672, 'attainment': 673, 'roughly': 674, 'equal': 675, 'contrast': 676, 'probability': 677, 'unwelcome': 678, 'minor': 679, 'achieve': 680, 'stabilize': 681, 'yet': 682, 'expansive': 683, 'add': 684, 'on': 685, 'latter': 686, 'predominate': 687, 'jamie': 688, 'stewart': 689, 'accumulate': 690, 'mute': 691, 'undesirably': 692, 'predominant': 693, 'accommodation': 694, 'briskly': 695, 'modestly': 696, 'almost': 697, 'use': 698, 'slack': 699, 'timothy': 700, 'geithner': 701, 'accessibility': 702, 'patient': 703, 'remove': 704, 'thomas': 705, 'hoenig': 706, 'cathy': 707, 'minehan': 708, 'sandra': 709, 'pianalto': 710, 'poole': 711, 'solid': 712, 'loss': 713, 'higher': 714, 'similarly': 715, 'juncture': 716, 'elevate': 717, 'portion': 718, 'due': 719, 'transitory': 720, 'respond': 721, 'fulfill': 722, 'obligation': 723, 'tomaintain': 724, 'softness': 725, 'nevertheless': 726, 'resume': 727, 'stronger': 728, 'unanimously': 729, 'after': 730, 'regain': 731, 'traction': 732, 'gradually': 733, 'addition': 734, 'expedite': 735, 'regularly': 736, 'schedule': 737, 'three': 738, 'est': 739, 'evidently': 740, 'notably': 741, 'feed': 742, 'appropriate': 743, 'apparently': 744, 'richard': 745, 'fisher': 746, 'stay': 747, 'late': 748, 'winter': 749, 'good': 750, 'toll': 751, 'hurricane': 752, 'katrina': 753, 'widespread': 754, 'devastation': 755, 'gulf': 756, 'region': 757, 'dislocation': 758, 'boost': 759, 'imply': 760, 'disruption': 761, 'refine': 762, 'infrastructure': 763, 'volatility': 764, 'unfortunate': 765, 'threat': 766, 'temporarily': 767, 'depress': 768, 'augment': 769, 'plan': 770, 'rebuild': 771, 'cumulative': 772, 'objective': 773, 'factor': 774, 'randall': 775, 'kroszner': 776, 'frederic': 777, 'mishkin': 778, 'kevin': 779, 'warsh': 780, 'janet': 781, 'yellen': 782, 'jeffrey': 783, 'lacker': 784, 'real': 785, 'gdp': 786, 'fourth': 787, 'temporary': 788, 'special': 789, 'rebound': 790, 'strongly': 791, 'commodity': 792, 'depend': 793, 'evolution': 794, 'central': 795, 'nation': 796, 'safe': 797, 'flexible': 798, 'stable': 799, 'system': 800, 'firmer': 801, 'stabilization': 802, 'overall': 803, 'fail': 804, 'half': 805, 'convincingly': 806, 'demonstrate': 807, 'volatile': 808, 'tighter': 809, 'correction': 810, 'income': 811, 'operation': 812, 'promote': 813, 'trade': 814, 'close': 815, 'always': 816, 'window': 817, 'source': 818, 'deteriorate': 819, 'prepare': 820, 'act': 821, 'mitigate': 822, 'adverse': 823, 'arise': 824, 'intensify': 825, 'intend': 826, 'forestall': 827, 'broader': 828, 'otherwise': 829, 'third': 830, 'intensification': 831, 'combine': 832, 'charles': 833, 'evans': 834, 'eric': 835, 'rosengren': 836, 'deepen': 837, 'contraction': 838, 'justify': 839, 'absent': 840, 'timely': 841, 'plosser': 842, 'coordinate': 843, 'consult': 844, 'we': 845, 'end': 846, 'canada': 847, 'england': 848, 'european': 849, 'swiss': 850, 'national': 851, 'specific': 852, 'actionsthe': 853, 'lend': 854, 'program': 855, 'under': 856, 'facility': 857, 'tslf': 858, 'billion': 859, 'treasury': 860, 'primary': 861, 'dealer': 862, 'secure': 863, 'day': 864, 'overnight': 865, 'pledge': 866, 'agency': 867, 'mb': 868, 'residential': 869, 'finance': 870, 'collateral': 871, 'thus': 872, 'case': 873, 'auction': 874, 'process': 875, 'weekly': 876, 'technical': 877, 'design': 878, 'feature': 879, 'authorize': 880, 'reciprocal': 881, 'currency': 882, 'arrangement': 883, 'swap': 884, 'line': 885, 'ecb': 886, 'snb': 887, 'dollar': 888, 'amount': 889, 'respectively': 890, 'represent': 891, 'supplement': 892, 'friday': 893, 'size': 894, 'undertake': 895, 'series': 896, 'repurchase': 897, 'transaction': 898, 'cumulate': 899, 'be': 900, 'other': 901, 'banksinformation': 902, 'website': 903, 'kb': 904, 'pdf': 905, 'banksbank': 906, 'japan': 907, 'sverige': 908, 'riksbank': 909, 'facilityterms': 910, 'conditionsfrequently': 911, 'ask': 912, 'question': 913, 'project': 914, 'it': 915, 'carefully': 916, 'aggressive': 917, 'second': 918, 'export': 919, 'elizabeth': 920, 'duke': 921, 'joint': 922, 'banksthroughout': 923, 'crisis': 924, 'engage': 925, 'continuous': 926, 'consultation': 927, 'cooperate': 928, 'unprecedented': 929, 'provision': 930, 'country': 931, 'anchor': 932, 'some': 933, 'express': 934, 'strong': 935, 'ability': 936, 'obtain': 937, 'weaker': 938, 'sweden': 939, 'industrial': 940, 'many': 941, 'extraordinary': 942, 'official': 943, 'return': 944, 'tuesday': 945, 'direct': 946, 'enterprise': 947, 'g': 948, 'fannie': 949, 'mae': 950, 'freddie': 951, 'mac': 952, 'loan': 953, 'ginnie': 954, 'spread': 955, 'gse': 956, 'mortgage': 957, 'widen': 958, 'availability': 959, 'turn': 960, 'conduct': 961, 'competitive': 962, 'asset': 963, 'manager': 964, 'select': 965, 'via': 966, 'place': 967, 'further': 968, 'operational': 969, 'detail': 970, 'participant': 971, 'stimulate': 972, 'sheet': 973, 'previously': 974, 'quantity': 975, 'benefit': 976, 'implement': 977, 'facilitate': 978, 'extension': 979, 'consider': 980, 'establish': 981, 'steeply': 982, 'furthermore': 983, 'government': 984, 'effort': 985, 'extremely': 986, 'gradual': 987, 'later': 988, 'best': 989, 'employ': 990, 'tool': 991, 'resumption': 992, 'preserve': 993, 'duration': 994, 'private': 995, 'composition': 996, 'whether': 997, 'modification': 998, 'serve': 999, 'dudley': 1000, 'dennis': 1001, 'lockhart': 1002, 'contract': 1003, 'sentiment': 1004, 'difficulty': 1005, 'lead': 1006, 'fix': 1007, 'slump': 1008, 'major': 1009, 'partner': 1010, 'recession': 1011, 'fiscal': 1012, 'stimulus': 1013, 'range': 1014, 'exceptionally': 1015, 'total': 1016, 'trillion': 1017, 'six': 1018, 'launch': 1019, 'eligible': 1020, 'constrain': 1021, 'staff': 1022, 'buy': 1023, 'autumn': 1024, 'april': 1025, 'progress': 1026, 'better': 1027, 'alignment': 1028, 'sluggish': 1029, 'complete': 1030, 'severe': 1031, 'downturn': 1032, 'wide': 1033, 'execute': 1034, 'path': 1035, 'reluctant': 1036, 'payroll': 1037, 'supportive': 1038, 'expire': 1039, 'commercial': 1040, 'paper': 1041, 'mutual': 1042, 'counterparties': 1043, 'scale': 1044, 'expiration': 1045, 'type': 1046, 'modify': 1047, 'software': 1048, 'structure': 1049, 'employer': 1050, 'wind': 1051, 'offer': 1052, 'jam': 1053, 'bullard': 1054, 'daniel': 1055, 'tarullo': 1056, 'sufficiently': 1057, 'unemployment': 1058, 'nonresidential': 1059, 'flat': 1060, 'completion': 1061, 'create': 1062, 'macroeconomic': 1063, 'one': 1064, 'flexibility': 1065, 'reemergence': 1066, 'europe': 1067, 'reestablishment': 1068, 'prevent': 1069, 'center': 1070, 'similar': 1071, 'soon': 1072, 'tender': 1073, 'local': 1074, 'allotment': 1075, 'proceed': 1076, 'constant': 1077, 'reinvesting': 1078, 'principal': 1079, 'payment': 1080, 'mature': 1081, 'adjust': 1082, 'mandate': 1083, 'reinvest': 1084, 'statutory': 1085, 'seek': 1086, 'relative': 1087, 'dual': 1088, 'disappointingly': 1089, 'per': 1090, 'outweigh': 1091, 'cause': 1092, 'destabilize': 1093, 'insufficient': 1094, 'downward': 1095, 'particular': 1096, 'foot': 1097, 'summer': 1098, 'crude': 1099, 'sharp': 1100, 'put': 1101, 'pay': 1102, 'attention': 1103, 'push': 1104, 'slowly': 1105, 'food': 1106, 'chain': 1107, 'import': 1108, 'subside': 1109, 'past': 1110, 'dissipate': 1111, 'medium': 1112, 'considerably': 1113, 'more': 1114, 'peak': 1115, 'previous': 1116, 'least': 1117, 'motor': 1118, 'vehicle': 1119, 'average': 1120, 'maturity': 1121, 'sell': 1122, 'sarah': 1123, 'bloom': 1124, 'raskin': 1125, 'narayana': 1126, 'kocherlakota': 1127, 'reversal': 1128, 'moderately': 1129, 'notwithstanding': 1130, 'highly': 1131, 'john': 1132, 'williams': 1133, 'omit': 1134, 'description': 1135, 'gasoline': 1136, 'lately': 1137, 'subsequently': 1138, 'affect': 1139, 'specifically': 1140, 'redeem': 1141, 'approximately': 1142, 'continuation': 1143, 'jerome': 1144, 'powell': 1145, 'jeremy': 1146, 'stein': 1147, 'oppose': 1148, 'decelerate': 1149, 'albeit': 1150, 'key': 1151, 'without': 1152, 'if': 1153, 'substantially': 1154, 'determine': 1155, 'efficacy': 1156, 'quickly': 1157, 'disagree': 1158, 'apart': 1159, 'variation': 1160, 'fluctuation': 1161, 'initially': 1162, 'two': 1163, 'threshold': 1164, 'guidance': 1165, 'when': 1166, 'approach': 1167, 'characterization': 1168, 'pause': 1169, 'esther': 1170, 'george': 1171, 'restrictive': 1172, 'influence': 1173, 'signal': 1174, 'willingness': 1175, 'defend': 1176, 'net': 1177, 'persistently': 1178, 'retrenchment': 1179, 'await': 1180, 'preset': 1181, 'contingent': 1182, 'assessment': 1183, 'reaffirm': 1184, 'observe': 1185, 'nearly': 1186, 'inception': 1187, 'sizable': 1188, 'broadly': 1189, 'premature': 1190, 'clearly': 1191, 'weather': 1192, 'underutilization': 1193, 'likelihood': 1194, 'chair': 1195, 'lael': 1196, 'brainard': 1197, 'stanley': 1198, 'fischer': 1199, 'loretta': 1200, 'mester': 1201, 'object': 1202, 'language': 1203, 'dependent': 1204, 'general': 1205, 'compensation': 1206, 'conclude': 1207, 'occur': 1208, 'sooner': 1209, 'conversely': 1210, 'prof': 1211, 'sluggishness': 1212, 'slide': 1213, 'commit': 1214, 'normalize': 1215, 'majority': 1216, 'envision': 1217, 'undue': 1218, 'credibility': 1219, 'importance': 1220, 'passage': 1221, 'consistency': 1222, 'international': 1223, 'unlikely': 1224, 'confident': 1225, 'initial': 1226, 'steady': 1227, 'outcome': 1228, 'prevail': 1229, 'inform': 1230, 'normalization': 1231, 'assess': 1232, 'implication': 1233, 'item': 1234, 'patrick': 1235, 'harker': 1236, 'kaplan': 1237, 'randal': 1238, 'quarles': 1239, 'neel': 1240, 'kashkari': 1241, 'lessen': 1242, 'wait': 1243, 'exclude': 1244, 'like': 1245, 'reinvestment': 1246, 'describe': 1247, 'addendum': 1248, 'principle': 1249, 'fundamental': 1250, 'underpin': 1251, 'drop': 1252, 'aftermath': 1253, 'storm': 1254, 'harvey': 1255, 'irma': 1256, 'maria': 1257, 'devastate': 1258, 'community': 1259, 'inflict': 1260, 'hardship': 1261, 'michelle': 1262, 'bowman': 1263, 'clarida': 1264, 'contemplate': 1265, 'implementation': 1266, 'intention': 1267, 'regime': 1268, 'ample': 1269, 'control': 1270, 'exercise': 1271, 'primarily': 1272, 'administer': 1273, 'active': 1274, 'management': 1275, 'notation': 1276, 'purely': 1277, 'efficient': 1278, 'desk': 1279, 'liability': 1280, 'bill': 1281, 'agreement': 1282, 'adversely': 1283, 'reverse': 1284, 'weekend': 1285, 'holiday': 1286, 'convention': 1287, 'value': 1288, 'outright': 1289, 'calendar': 1290, 'reinvested': 1291, 'match': 1292, 'deviation': 1293, 'reason': 1294, 'acceptable': 1295}\n"
     ]
    }
   ],
   "source": [
    "\n",
    "# Indexing vocabrary, starting from 1.\n",
    "vocab = {word: ii for ii, word in enumerate(counts, 1)}\n",
    "id2vocab = {v: k for k, v in vocab.items()}\n",
    "\n",
    "print('vocab: ', vocab)"
   ]
  },
  {
   "cell_type": "markdown",
   "metadata": {
    "colab_type": "text",
    "id": "HjsniJTmSVFa"
   },
   "source": [
    "### Balancing the classes"
   ]
  },
  {
   "cell_type": "code",
   "execution_count": 28,
   "metadata": {
    "colab": {
     "base_uri": "https://localhost:8080/",
     "height": 68
    },
    "colab_type": "code",
    "id": "8dZz38oPnrrM",
    "outputId": "d92ac4c2-d609-42a5-8898-e5db8830ab4b"
   },
   "outputs": [
    {
     "name": "stdout",
     "output_type": "stream",
     "text": [
      "Hold:  0.5833333333333334\n",
      "Lower: 0.203125\n",
      "Raise: 0.21354166666666666\n"
     ]
    }
   ],
   "source": [
    "\n",
    "n_hold = sum(1 for each in train_df['target'] if each == 1)\n",
    "n_lower = sum(1 for each in train_df['target'] if each == 0)\n",
    "n_raise = sum(1 for each in train_df['target'] if each == 2)\n",
    "N_examples = len(train_df)\n",
    "\n",
    "print('Hold: ', n_hold/N_examples)\n",
    "print('Lower:', n_lower/N_examples)\n",
    "print('Raise:', n_raise/N_examples)"
   ]
  },
  {
   "cell_type": "code",
   "execution_count": 29,
   "metadata": {
    "colab": {
     "base_uri": "https://localhost:8080/",
     "height": 68
    },
    "colab_type": "code",
    "id": "KOW_QMV1pBL6",
    "outputId": "07f31df5-ac22-4a31-c582-c9bad598d946"
   },
   "outputs": [
    {
     "name": "stdout",
     "output_type": "stream",
     "text": [
      "Hold:  0.3548387096774194\n",
      "Lower: 0.31451612903225806\n",
      "Raise: 0.33064516129032256\n"
     ]
    }
   ],
   "source": [
    "# Too many Hold. Better to randomly pick to even the distribution\n",
    "n_hold = sum(1 for each in train_df['target'] if each == 1)\n",
    "N_examples = len(train_df)\n",
    "balanced = {'texts': [], 'targets': []}\n",
    "\n",
    "# Keep probability\n",
    "keep_prob = (N_examples - n_hold)/2/n_hold\n",
    "#keep_prob = 1\n",
    "\n",
    "for idx, target in enumerate(train_df['target']):\n",
    "    text = tokenized[idx]\n",
    "    if len(text) == 0:\n",
    "        continue\n",
    "    elif target != 1 or random.random() < keep_prob:\n",
    "        balanced['texts'].append(text)\n",
    "        balanced['targets'].append(target)\n",
    "\n",
    "n_hold = sum(1 for each in balanced['targets'] if each == 1)\n",
    "n_lower = sum(1 for each in balanced['targets'] if each == 0)\n",
    "n_raise = sum(1 for each in balanced['targets'] if each == 2)\n",
    "N_examples = len(balanced['targets'])\n",
    "print('Hold: ', n_hold/N_examples)\n",
    "print('Lower:', n_lower/N_examples)\n",
    "print('Raise:', n_raise/N_examples)"
   ]
  },
  {
   "cell_type": "code",
   "execution_count": 30,
   "metadata": {
    "colab": {
     "base_uri": "https://localhost:8080/",
     "height": 156
    },
    "colab_type": "code",
    "id": "Jkbd2Ohg-EWu",
    "outputId": "39c79bd1-e7a9-4160-e5ce-2100a0186586"
   },
   "outputs": [
    {
     "name": "stdout",
     "output_type": "stream",
     "text": [
      "token_ids:  124\n",
      "len(token_ids[0]):  61\n",
      "token_ids[0]:  [1, 2, 3, 4, 5, 6, 7, 8, 9, 10, 11, 12, 13, 14, 15, 16, 17, 18, 19, 20, 21, 11, 22, 8, 23, 24, 17, 25, 26, 27, 28, 29, 30, 31, 32, 33, 34, 35, 36, 37, 38, 1, 3, 10, 4, 18, 39, 40, 41, 9, 42, 43, 44, 45, 46, 15, 8, 47, 9, 48, 49]\n",
      "------------------------\n",
      "targets:  124\n",
      "targets[0]:  2\n",
      "type(targets[0]):  <class 'int'>\n"
     ]
    }
   ],
   "source": [
    "# words_found, words_not_found = 0, 0\n",
    "# token_ids = []\n",
    "# for j, text in tqdm(enumerate(balanced['texts'])):\n",
    "#     num_words = len(text) + 1\n",
    "#     embedding_matrix = np.zeros((num_words, 300))\n",
    "#     embedding_vector = []\n",
    "\n",
    "#     for i, word in enumerate(text):\n",
    "#         try:\n",
    "#             embedding_vector.append(glove_dict.get(word))\n",
    "#             words_found += 1\n",
    "#         except KeyError:\n",
    "#             embedding_vector.append(np.random.normal(scale=0.6, size=(300, )))\n",
    "#             words_not_found += 1\n",
    "#         print(embedding_vector)\n",
    "#         embedding_matrix[i] = embedding_vector\n",
    "#     token_ids.append(embedding_matrix)\n",
    "\n",
    "# print(len(token_ids))\n",
    "# print('Words Found: {}, Words Not Found: {}', words_found, words_not_found)\n",
    "# token_ids = [[glove_dict.get(word) for word in text] for text in balanced['texts']]\n",
    "\n",
    "token_ids = [[vocab[word] for word in text] for text in balanced['texts']]\n",
    "targets = balanced['targets']\n",
    "\n",
    "print('token_ids: ', len(token_ids))\n",
    "print('len(token_ids[0]): ', len(token_ids[0]))\n",
    "print('token_ids[0]: ', token_ids[0])\n",
    "print(\"------------------------\")\n",
    "print('targets: ', len(targets))\n",
    "print('targets[0]: ', targets[0])\n",
    "print('type(targets[0]): ', type(targets[0]))\n",
    "\n"
   ]
  },
  {
   "cell_type": "markdown",
   "metadata": {
    "colab_type": "text",
    "id": "a8eL43Mku0Su"
   },
   "source": [
    "### Model\n",
    "#### Embed -> RNN -> Dense -> Softmax"
   ]
  },
  {
   "cell_type": "code",
   "execution_count": 0,
   "metadata": {
    "colab": {},
    "colab_type": "code",
    "id": "KNOHGl9EvApY"
   },
   "outputs": [],
   "source": [
    "class TextClassifier(nn.Module):\n",
    "    def __init__(self, vocab_size, embed_size, lstm_size, output_size, lstm_layers=1, dropout=0.1):\n",
    "        \"\"\"\n",
    "        Initialize the model\n",
    "        \"\"\"\n",
    "        super().__init__()\n",
    "        self.vocab_size = vocab_size\n",
    "        self.embed_size = embed_size\n",
    "        self.lstm_size = lstm_size\n",
    "        self.output_size = output_size\n",
    "        self.lstm_layers = lstm_layers\n",
    "        self.dropout = dropout\n",
    "\n",
    "        self.embedding = nn.Embedding(vocab_size, embed_size)\n",
    "        self.lstm = nn.LSTM(embed_size, lstm_size, lstm_layers,\n",
    "                            dropout=dropout, batch_first=False)\n",
    "        self.dropout = nn.Dropout(0.2)\n",
    "        self.fc = nn.Linear(lstm_size, output_size)\n",
    "        self.softmax = nn.LogSoftmax(dim=1)\n",
    "\n",
    "    def init_hidden(self, batch_size):\n",
    "        \"\"\"\n",
    "        Initialize the hidden state\n",
    "        \"\"\"\n",
    "\n",
    "        weight = next(self.parameters()).data\n",
    "        # print('initial weight size: ', weight.shape)\n",
    "        # print('initial weight: ', weight)\n",
    "        # print('initial weight new: ', weight.new(self.lstm_layers, batch_size, self.lstm_size))\n",
    "\n",
    "        hidden = (weight.new(self.lstm_layers, batch_size, self.lstm_size).zero_(),\n",
    "                  weight.new(self.lstm_layers, batch_size, self.lstm_size).zero_())\n",
    "        \n",
    "        return hidden\n",
    "\n",
    "    def forward(self, nn_input, hidden_state):\n",
    "        \"\"\"\n",
    "        Perform a forward pass of the model on nn_input\n",
    "        \"\"\"\n",
    "        batch_size = nn_input.size(0)\n",
    "        nn_input = nn_input.long()\n",
    "        embeds = self.embedding(nn_input)\n",
    "        lstm_out, hidden_state = self.lstm(embeds, hidden_state)\n",
    "        # Stack up LSTM outputs\n",
    "        lstm_out = lstm_out[-1,:,:]\n",
    "        out = self.dropout(lstm_out)\n",
    "        out = self.fc(out)\n",
    "        logps = self.softmax(out)\n",
    "\n",
    "        return logps, hidden_state\n"
   ]
  },
  {
   "cell_type": "markdown",
   "metadata": {
    "colab_type": "text",
    "id": "GWHaNG1Y6l8k"
   },
   "source": [
    "#### View Model"
   ]
  },
  {
   "cell_type": "code",
   "execution_count": 32,
   "metadata": {
    "colab": {
     "base_uri": "https://localhost:8080/",
     "height": 697
    },
    "colab_type": "code",
    "id": "jLWHZZ2V41Gt",
    "outputId": "88319aa6-befa-4c63-d2c0-0b481866e539"
   },
   "outputs": [
    {
     "name": "stdout",
     "output_type": "stream",
     "text": [
      "TextClassifier(\n",
      "  (embedding): Embedding(1295, 300)\n",
      "  (lstm): LSTM(300, 6, num_layers=2, dropout=0.1)\n",
      "  (dropout): Dropout(p=0.2, inplace=False)\n",
      "  (fc): Linear(in_features=6, out_features=3, bias=True)\n",
      "  (softmax): LogSoftmax()\n",
      ")\n",
      "input:  tensor([[514, 912, 670, 447],\n",
      "        [509, 663, 377, 285],\n",
      "        [620, 970, 858, 676],\n",
      "        [236, 149, 764, 710],\n",
      "        [606, 441, 868, 459]])\n",
      "init hidden:  torch.Size([2, 4, 6]) torch.Size([2, 4, 6])\n",
      "(tensor([[[0., 0., 0., 0., 0., 0.],\n",
      "         [0., 0., 0., 0., 0., 0.],\n",
      "         [0., 0., 0., 0., 0., 0.],\n",
      "         [0., 0., 0., 0., 0., 0.]],\n",
      "\n",
      "        [[0., 0., 0., 0., 0., 0.],\n",
      "         [0., 0., 0., 0., 0., 0.],\n",
      "         [0., 0., 0., 0., 0., 0.],\n",
      "         [0., 0., 0., 0., 0., 0.]]]), tensor([[[0., 0., 0., 0., 0., 0.],\n",
      "         [0., 0., 0., 0., 0., 0.],\n",
      "         [0., 0., 0., 0., 0., 0.],\n",
      "         [0., 0., 0., 0., 0., 0.]],\n",
      "\n",
      "        [[0., 0., 0., 0., 0., 0.],\n",
      "         [0., 0., 0., 0., 0., 0.],\n",
      "         [0., 0., 0., 0., 0., 0.],\n",
      "         [0., 0., 0., 0., 0., 0.]]]))\n",
      "logps after one step forward: \n",
      " tensor([[-1.2723, -1.0129, -1.0310],\n",
      "        [-1.2448, -1.0403, -1.0254],\n",
      "        [-1.3094, -1.0425, -0.9743],\n",
      "        [-1.3949, -1.0280, -0.9303]], grad_fn=<LogSoftmaxBackward>)\n",
      "torch.exp(logps): \n",
      " tensor([[0.2802, 0.3632, 0.3566],\n",
      "        [0.2880, 0.3534, 0.3586],\n",
      "        [0.2700, 0.3526, 0.3775],\n",
      "        [0.2478, 0.3577, 0.3944]], grad_fn=<ExpBackward>)\n"
     ]
    }
   ],
   "source": [
    "# Embedding to 300 dimentions, 6 hidden dimentions, output 3 dimentions\n",
    "model = TextClassifier(len(vocab), 300, 6, 3, dropout=0.1, lstm_layers=2)\n",
    "print(model)\n",
    "\n",
    "# Initialize the embedding weight with uniform distribution \n",
    "model.embedding.weight.data.uniform_(-1, 1)\n",
    "input = torch.randint(0, 1000, (5,4), dtype=torch.int64)\n",
    "print('input: ', input)\n",
    "\n",
    "hidden = model.init_hidden(4)\n",
    "print('init hidden: ', hidden[0].shape, hidden[1].shape)\n",
    "print(hidden)\n",
    "\n",
    "logps, _ = model.forward(input, hidden)\n",
    "print('logps after one step forward: \\n', logps)\n",
    "print('torch.exp(logps): \\n', torch.exp(logps))"
   ]
  },
  {
   "cell_type": "markdown",
   "metadata": {
    "colab_type": "text",
    "id": "mLuN1Xnq9oqS"
   },
   "source": [
    "### DataLoaders and Batching\n",
    "\n",
    "can use keras functions but let's do it from scratch"
   ]
  },
  {
   "cell_type": "code",
   "execution_count": 0,
   "metadata": {
    "colab": {},
    "colab_type": "code",
    "id": "gg_PPeeW9zWk"
   },
   "outputs": [],
   "source": [
    "# from keras.preprocessing.text import Tokenizer\n",
    "# from keras.preprocessing.sequence import pad_sequences\n",
    "\n",
    "# MAX_LEN = 100\n",
    "# tokenizer_obj = Tokenizer()\n",
    "# tokenizer_obj.fit_on_texts(balanced['texts'])\n",
    "# sequences = tokenizer_obj.texts_to_sequences(balanced['texts'])\n",
    "\n",
    "# text_pad = pad_sequences(sequences, maxlen=MAX_LEN, truncating='post', padding='post')\n",
    "# text_pad"
   ]
  },
  {
   "cell_type": "code",
   "execution_count": 0,
   "metadata": {
    "colab": {},
    "colab_type": "code",
    "id": "KWudHfut9rmF"
   },
   "outputs": [],
   "source": [
    "def dataloader(messages, labels, sequence_length=100, batch_size=16, shuffle=False):\n",
    "    \"\"\" \n",
    "    Build a dataloader.\n",
    "    \"\"\"\n",
    "    if shuffle:\n",
    "        indices = list(range(len(messages)))\n",
    "        random.shuffle(indices)\n",
    "        messages = [messages[idx] for idx in indices]\n",
    "        labels = [labels[idx] for idx in indices]\n",
    "\n",
    "    total_sequences = len(messages)\n",
    "\n",
    "    for ii in range(0, total_sequences, batch_size):\n",
    "        batch_messages = messages[ii: ii+batch_size]\n",
    "        \n",
    "        # First initialize a tensor of all zeros\n",
    "        batch = torch.zeros((sequence_length, len(batch_messages)), dtype=torch.int64)\n",
    "        for batch_num, tokens in enumerate(batch_messages):\n",
    "            token_tensor = torch.tensor(tokens)\n",
    "            # print(len(tokens))\n",
    "            # print(len(tokens[0]))\n",
    "            # print(token_tensor.shape)\n",
    "            # Left pad!\n",
    "            start_idx = max(sequence_length - len(token_tensor), 0)\n",
    "            # print(token_tensor[:sequence_length].shape)\n",
    "            # print(start_idx, batch_num)\n",
    "            batch[start_idx:, batch_num] = token_tensor[:sequence_length]\n",
    "        label_tensor = torch.tensor(labels[ii: ii+len(batch_messages)])\n",
    "        \n",
    "        yield batch, label_tensor"
   ]
  },
  {
   "cell_type": "markdown",
   "metadata": {
    "colab_type": "text",
    "id": "V48EeO6K-GaF"
   },
   "source": [
    "### Split Training and Validation"
   ]
  },
  {
   "cell_type": "code",
   "execution_count": 0,
   "metadata": {
    "colab": {},
    "colab_type": "code",
    "id": "kMuUDgTBWCLo"
   },
   "outputs": [],
   "source": [
    "# from sklearn import model_selection\n",
    "\n",
    "# x_train, x_valid, y_train, y_valid = model_selection.train_test_split(text_pad, df['target'].values, test_size=0.2, random_state=42)\n",
    "# print('Shape of train',x_train.shape)\n",
    "# print(\"Shape of Validation \",x_valid.shape)\n",
    "# word_index = tokenizer_obj.word_index\n",
    "# print('Number of unique words: ', len(word_index))"
   ]
  },
  {
   "cell_type": "code",
   "execution_count": 36,
   "metadata": {
    "colab": {
     "base_uri": "https://localhost:8080/",
     "height": 102
    },
    "colab_type": "code",
    "id": "dX-LHMAL-BZe",
    "outputId": "958cd06d-04d3-468c-e88e-257c26fe0fac"
   },
   "outputs": [
    {
     "name": "stdout",
     "output_type": "stream",
     "text": [
      "len(token_ids):  124\n",
      "len(train_features):  99\n",
      "len(valid_features):  25\n",
      "len(train_labels):  99\n",
      "len(valid_labels):  25\n"
     ]
    }
   ],
   "source": [
    "# Split data into training and validation datasets. Use an appropriate split size.\n",
    "\n",
    "split_frac = 0.8\n",
    "\n",
    "split_idx = int(len(token_ids)*split_frac)\n",
    "\n",
    "train_features = token_ids[:split_idx]\n",
    "valid_features = token_ids[split_idx:]\n",
    "train_labels = targets[:split_idx]\n",
    "valid_labels = targets[split_idx:]\n",
    "\n",
    "print(\"len(token_ids): \", len(token_ids))\n",
    "print(\"len(train_features): \", len(train_features))\n",
    "print(\"len(valid_features): \", len(valid_features))\n",
    "print(\"len(train_labels): \", len(train_labels))\n",
    "print(\"len(valid_labels): \", len(valid_labels))"
   ]
  },
  {
   "cell_type": "markdown",
   "metadata": {
    "colab_type": "text",
    "id": "JXsA2SMQDAWQ"
   },
   "source": [
    "### Check the model and data"
   ]
  },
  {
   "cell_type": "code",
   "execution_count": 37,
   "metadata": {
    "colab": {
     "base_uri": "https://localhost:8080/",
     "height": 343
    },
    "colab_type": "code",
    "id": "2WuzFhZ2QSLh",
    "outputId": "b2625c9a-1ad2-4c3d-fa9f-fb7e91594caa"
   },
   "outputs": [
    {
     "name": "stdout",
     "output_type": "stream",
     "text": [
      "tensor([[-1.0513, -1.2705, -0.9948],\n",
      "        [-1.0979, -1.0761, -1.1224],\n",
      "        [-1.0397, -1.1724, -1.0882],\n",
      "        [-1.1769, -1.0984, -1.0262],\n",
      "        [-1.1389, -1.0623, -1.0961],\n",
      "        [-1.1860, -1.0476, -1.0677],\n",
      "        [-1.2271, -0.9613, -1.1256],\n",
      "        [-0.8551, -1.2408, -1.2532],\n",
      "        [-1.0441, -1.0134, -1.2552],\n",
      "        [-1.2553, -0.9964, -1.0618],\n",
      "        [-0.8645, -1.2621, -1.2185],\n",
      "        [-1.1890, -0.9543, -1.1700],\n",
      "        [-1.1274, -1.1102, -1.0594],\n",
      "        [-1.1092, -0.9538, -1.2556],\n",
      "        [-1.0546, -1.2016, -1.0472],\n",
      "        [-1.0958, -1.0510, -1.1515]], grad_fn=<LogSoftmaxBackward>)\n"
     ]
    },
    {
     "name": "stderr",
     "output_type": "stream",
     "text": [
      "/usr/local/lib/python3.6/dist-packages/torch/nn/modules/rnn.py:50: UserWarning: dropout option adds dropout after all but last recurrent layer, so non-zero dropout expects num_layers greater than 1, but got dropout=0.1 and num_layers=1\n",
      "  \"num_layers={}\".format(dropout, num_layers))\n"
     ]
    }
   ],
   "source": [
    "text_batch, labels = next(iter(dataloader(train_features, train_labels)))\n",
    "model = TextClassifier(len(vocab), 512, 128, 3, dropout=0.1)\n",
    "hidden = model.init_hidden(16)\n",
    "logps, hidden = model.forward(text_batch, hidden)\n",
    "print(logps)"
   ]
  },
  {
   "cell_type": "code",
   "execution_count": 0,
   "metadata": {
    "colab": {},
    "colab_type": "code",
    "id": "2qIX3wsDdtAe"
   },
   "outputs": [],
   "source": [
    "# Define metrics\n",
    "def metric(y_true, y_pred):\n",
    "    acc = accuracy_score(y_true, y_pred)\n",
    "    f1 = f1_score(y_true, y_pred, average='macro')\n",
    "    return acc, f1"
   ]
  },
  {
   "cell_type": "markdown",
   "metadata": {
    "colab_type": "text",
    "id": "Ru_-CkKDt-Ya"
   },
   "source": [
    "### Training\n"
   ]
  },
  {
   "cell_type": "code",
   "execution_count": 39,
   "metadata": {
    "colab": {
     "base_uri": "https://localhost:8080/",
     "height": 136
    },
    "colab_type": "code",
    "id": "2oPi-tKYeuSr",
    "outputId": "5e0c0246-9149-4fa0-b705-1f46a2140aff"
   },
   "outputs": [
    {
     "data": {
      "text/plain": [
       "TextClassifier(\n",
       "  (embedding): Embedding(1296, 300)\n",
       "  (lstm): LSTM(300, 64, num_layers=2, dropout=0.2)\n",
       "  (dropout): Dropout(p=0.2, inplace=False)\n",
       "  (fc): Linear(in_features=64, out_features=3, bias=True)\n",
       "  (softmax): LogSoftmax()\n",
       ")"
      ]
     },
     "execution_count": 39,
     "metadata": {
      "tags": []
     },
     "output_type": "execute_result"
    }
   ],
   "source": [
    "device = torch.device('cuda' if torch.cuda.is_available() else 'cpu')\n",
    "#device = torch.device('cpu')\n",
    "model = TextClassifier(len(vocab)+1, 300, 64, 3, lstm_layers=2, dropout=0.2)\n",
    "model.embedding.weight.data.uniform_(-1, 1)\n",
    "model.to(device)"
   ]
  },
  {
   "cell_type": "code",
   "execution_count": 40,
   "metadata": {
    "colab": {
     "base_uri": "https://localhost:8080/",
     "height": 1000
    },
    "colab_type": "code",
    "id": "Nk22nTIpnvhO",
    "outputId": "1f96343b-a369-4195-ec5d-af4c80ecfa18"
   },
   "outputs": [
    {
     "name": "stdout",
     "output_type": "stream",
     "text": [
      "Starting epoch 1\n",
      "Epoch: 1/3... Step: 10... Loss: 1.050672... Val Loss: 1.110578 Accuracy: 0.125000 F1 Score: 0.074074\n",
      "\n",
      "Epoch: 1, Average Accuracy: 0.12500000, Average f1: 0.07407407\n",
      "\n"
     ]
    },
    {
     "data": {
      "image/png": "[encoded data removed]",
      "text/plain": [
       "<Figure size 1080x432 with 2 Axes>"
      ]
     },
     "metadata": {
      "tags": []
     },
     "output_type": "display_data"
    },
    {
     "data": {
      "image/png": "[encoded data removed]",
      "text/plain": [
       "<Figure size 1080x432 with 2 Axes>"
      ]
     },
     "metadata": {
      "tags": []
     },
     "output_type": "display_data"
    },
    {
     "name": "stdout",
     "output_type": "stream",
     "text": [
      "Starting epoch 2\n",
      "Epoch: 2/3... Step: 10... Loss: 1.051879... Val Loss: 1.110898 Accuracy: 0.125000 F1 Score: 0.074074\n",
      "\n",
      "Epoch: 2, Average Accuracy: 0.12500000, Average f1: 0.07407407\n",
      "\n"
     ]
    },
    {
     "data": {
      "image/png": "[encoded data removed]",
      "text/plain": [
       "<Figure size 1080x432 with 2 Axes>"
      ]
     },
     "metadata": {
      "tags": []
     },
     "output_type": "display_data"
    },
    {
     "data": {
      "image/png": "[encoded data removed]",
      "text/plain": [
       "<Figure size 1080x432 with 2 Axes>"
      ]
     },
     "metadata": {
      "tags": []
     },
     "output_type": "display_data"
    },
    {
     "name": "stdout",
     "output_type": "stream",
     "text": [
      "Starting epoch 3\n",
      "Epoch: 3/3... Step: 10... Loss: 1.055473... Val Loss: 1.111184 Accuracy: 0.125000 F1 Score: 0.074074\n",
      "\n",
      "Epoch: 3, Average Accuracy: 0.12500000, Average f1: 0.07407407\n",
      "\n"
     ]
    },
    {
     "data": {
      "image/png": "[encoded data removed]",
      "text/plain": [
       "<Figure size 1080x432 with 2 Axes>"
      ]
     },
     "metadata": {
      "tags": []
     },
     "output_type": "display_data"
    },
    {
     "data": {
      "image/png": "[encoded data removed]",
      "text/plain": [
       "<Figure size 1080x432 with 2 Axes>"
      ]
     },
     "metadata": {
      "tags": []
     },
     "output_type": "display_data"
    }
   ],
   "source": [
    "epochs = 3\n",
    "batch_size = 8\n",
    "learning_rate = 1e-4\n",
    "sequence_length = 200\n",
    "clip=5\n",
    "\n",
    "print_every = 10\n",
    "criterion = nn.NLLLoss()\n",
    "optimizer = optim.Adam(model.parameters(), lr=learning_rate)\n",
    "model.train()\n",
    "\n",
    "for epoch in range(epochs):\n",
    "    print('Starting epoch {}'.format(epoch + 1))\n",
    "    hidden = model.init_hidden(batch_size)\n",
    "    steps = 0\n",
    "    y_valid_epoch = []\n",
    "    predicted_valid_epoch = []\n",
    "\n",
    "    for text_batch, labels in dataloader(\n",
    "            train_features, train_labels, batch_size=batch_size, sequence_length=sequence_length, shuffle=False):\n",
    "        steps += 1\n",
    "        # Skip the last batch of which size is not equal to batch_size\n",
    "        if text_batch.size(1) != batch_size:\n",
    "            break\n",
    "\n",
    "        # Creating new variables for the hidden state to avoid backprop entire training history\n",
    "        hidden = tuple([each.data for each in hidden])\n",
    "        \n",
    "        # Set Device\n",
    "        text_batch, labels = text_batch.to(device), labels.to(device)\n",
    "        for each in hidden:\n",
    "            each.to(device)\n",
    "        \n",
    "        # optimizer.zero_grad()\n",
    "        model.zero_grad()\n",
    "        \n",
    "        # Get output and hidden state from the model\n",
    "        output, hidden = model(text_batch, hidden)\n",
    "        \n",
    "        # Calculate the loss and perform backprop\n",
    "        loss = criterion(output, labels)\n",
    "        loss.backward()\n",
    "        \n",
    "        # Clip the gradient to prevent the exploading gradient problem in RNN/LSTM\n",
    "        nn.utils.clip_grad_norm_(model.parameters(), clip)\n",
    "        \n",
    "        # Optimize\n",
    "        optimizer.step()\n",
    "        \n",
    "        if steps % print_every == 0:\n",
    "            model.eval()\n",
    "            \n",
    "            valid_losses = []\n",
    "            accuracy = []\n",
    "            predicted_valid = []\n",
    "            y_valid = []\n",
    "            valid_hidden = model.init_hidden(batch_size)\n",
    "            \n",
    "            for text_batch, labels in dataloader(\n",
    "                    valid_features, valid_labels, batch_size=batch_size, sequence_length=sequence_length, shuffle=False):\n",
    "                \n",
    "                # Skip the last batch of which size is not equal to batch_size\n",
    "                if text_batch.size(1) != batch_size:\n",
    "                    break\n",
    "\n",
    "                # Initialize within the loop to use label shape because batch_size did not work\n",
    "                # valid_hidden = model.init_hidden(labels.shape[0])\n",
    " \n",
    "                # Creating new variables for the hidden state\n",
    "                valid_hidden = tuple([each.data for each in valid_hidden])\n",
    "                \n",
    "                # Set Device\n",
    "                text_batch, labels = text_batch.to(device), labels.to(device)\n",
    "                for each in valid_hidden:\n",
    "                    each.to(device)\n",
    "                \n",
    "                # Get output and hidden state from the model\n",
    "                valid_output, valid_hidden = model(text_batch, valid_hidden)\n",
    "                \n",
    "                # Calculate the loss\n",
    "                valid_loss = criterion(valid_output.squeeze(), labels)\n",
    "                valid_losses.append(valid_loss.item())\n",
    "                \n",
    "                # Accuracy\n",
    "                ps = torch.exp(valid_output)\n",
    "                top_p, top_class = ps.topk(1, dim=1)\n",
    "                equals = top_class == labels.view(*top_class.shape)\n",
    "                accuracy.append(torch.mean(equals.type(torch.FloatTensor)).item())\n",
    "\n",
    "                predicted_valid.extend(top_class.squeeze().cpu().numpy())\n",
    "                y_valid.extend(labels.view(*top_class.shape).squeeze().cpu().numpy())\n",
    "                \n",
    "            model.train()\n",
    "            acc, f1 = metric(y_valid, predicted_valid)\n",
    "            predicted_valid_epoch.extend(predicted_valid)\n",
    "            y_valid_epoch.extend(y_valid)\n",
    "\n",
    "            print(\"Epoch: {}/{}...\".format(epoch+1, epochs),\n",
    "                  \"Step: {}...\".format(steps),\n",
    "                  \"Loss: {:.6f}...\".format(loss.item()),\n",
    "                  \"Val Loss: {:.6f}\".format(np.mean(valid_losses)),\n",
    "                  \"Accuracy: {:.6f}\".format(acc),\n",
    "                  \"F1 Score: {:.6f}\".format(f1))\n",
    "\n",
    "    class_names = ['Lower', 'Hold', 'Raise']\n",
    "    y_valid_class = [class_names[int(idx)] for idx in y_valid]\n",
    "    predicted_valid_class = [class_names[int(idx)] for idx in predicted_valid]\n",
    "    titles_options = [(\"Confusion matrix, without normalization\", None), (\"Normalized confusion matrix\", 'true')]\n",
    "    for title, normalize in titles_options:\n",
    "        disp = skplt.metrics.plot_confusion_matrix(y_valid_class, predicted_valid_class, normalize=normalize, title=title)\n",
    "    acc, f1 = metric(y_valid_class, predicted_valid_class)\n",
    "    print(\"\\nEpoch: %d, Average Accuracy: %.8f, Average f1: %.8f\\n\" % (epoch+1, acc, f1))\n",
    "    plt.show()\n"
   ]
  },
  {
   "cell_type": "markdown",
   "metadata": {
    "colab_type": "text",
    "id": "3mkckuwGISr7"
   },
   "source": [
    "## C) GloVe Word Embedding + LSTM\n",
    "\n",
    "Download GloVe embeddings. Only for the first time."
   ]
  },
  {
   "cell_type": "code",
   "execution_count": 0,
   "metadata": {
    "colab": {},
    "colab_type": "code",
    "id": "hCB6MX18IKqZ"
   },
   "outputs": [],
   "source": [
    "# !wget http://nlp.stanford.edu/data/glove.6B.zip\n",
    "# !unzip glove*.zip\n",
    "\n",
    "# embedding_dict = {}\n",
    "\n",
    "# with open(\"glove.6B.300d.txt\", 'r') as f:\n",
    "#     for line in f:\n",
    "#         values = line.split()\n",
    "#         word = values[0]\n",
    "#         vectors = np.asarray(values[1:], 'float32')\n",
    "#         embedding_dict[word] = vectors\n",
    "# f.close()\n",
    "\n",
    "# pickle.dump(embedding_dict, open('drive/My Drive/Colab Data/glove.6B.300d.pickle', 'wb'))\n",
    "\n",
    "# embedding_dict = {}\n",
    "\n",
    "# with open(\"glove.6B.100d.txt\", 'r') as f:\n",
    "#     for line in f:\n",
    "#         values = line.split()\n",
    "#         word = values[0]\n",
    "#         vectors = np.asarray(values[1:], 'float32')\n",
    "#         embedding_dict[word] = vectors\n",
    "# f.close()\n",
    "\n",
    "# pickle.dump(embedding_dict, open('drive/My Drive/Colab Data/glove.6B.100d.pickle', 'wb'))"
   ]
  },
  {
   "cell_type": "markdown",
   "metadata": {
    "colab_type": "text",
    "id": "bOpXlYZ54eau"
   },
   "source": []
  },
  {
   "cell_type": "code",
   "execution_count": 42,
   "metadata": {
    "colab": {
     "base_uri": "https://localhost:8080/",
     "height": 1000
    },
    "colab_type": "code",
    "id": "gkAUw44qNJXP",
    "outputId": "534cedb9-ed74-46a8-c8f9-6ce04fc06f19"
   },
   "outputs": [
    {
     "name": "stdout",
     "output_type": "stream",
     "text": [
      "400000\n"
     ]
    },
    {
     "data": {
      "text/plain": [
       "array([ 4.6560e-02,  2.1318e-01, -7.4364e-03, -4.5854e-01, -3.5639e-02,\n",
       "        2.3643e-01, -2.8836e-01,  2.1521e-01, -1.3486e-01, -1.6413e+00,\n",
       "       -2.6091e-01,  3.2434e-02,  5.6621e-02, -4.3296e-02, -2.1672e-02,\n",
       "        2.2476e-01, -7.5129e-02, -6.7018e-02, -1.4247e-01,  3.8825e-02,\n",
       "       -1.8951e-01,  2.9977e-01,  3.9305e-01,  1.7887e-01, -1.7343e-01,\n",
       "       -2.1178e-01,  2.3617e-01, -6.3681e-02, -4.2318e-01, -1.1661e-01,\n",
       "        9.3754e-02,  1.7296e-01, -3.3073e-01,  4.9112e-01, -6.8995e-01,\n",
       "       -9.2462e-02,  2.4742e-01, -1.7991e-01,  9.7908e-02,  8.3118e-02,\n",
       "        1.5299e-01, -2.7276e-01, -3.8934e-02,  5.4453e-01,  5.3737e-01,\n",
       "        2.9105e-01, -7.3514e-03,  4.7880e-02, -4.0760e-01, -2.6759e-02,\n",
       "        1.7919e-01,  1.0977e-02, -1.0963e-01, -2.6395e-01,  7.3990e-02,\n",
       "        2.6236e-01, -1.5080e-01,  3.4623e-01,  2.5758e-01,  1.1971e-01,\n",
       "       -3.7135e-02, -7.1593e-02,  4.3898e-01, -4.0764e-02,  1.6425e-02,\n",
       "       -4.4640e-01,  1.7197e-01,  4.6246e-02,  5.8639e-02,  4.1499e-02,\n",
       "        5.3948e-01,  5.2495e-01,  1.1361e-01, -4.8315e-02, -3.6385e-01,\n",
       "        1.8704e-01,  9.2761e-02, -1.1129e-01, -4.2085e-01,  1.3992e-01,\n",
       "       -3.9338e-01, -6.7945e-02,  1.2188e-01,  1.6707e-01,  7.5169e-02,\n",
       "       -1.5529e-02, -1.9499e-01,  1.9638e-01,  5.3194e-02,  2.5170e-01,\n",
       "       -3.4845e-01, -1.0638e-01, -3.4692e-01, -1.9024e-01, -2.0040e-01,\n",
       "        1.2154e-01, -2.9208e-01,  2.3353e-02, -1.1618e-01, -3.5768e-01,\n",
       "        6.2304e-02,  3.5884e-01,  2.9060e-02,  7.3005e-03,  4.9482e-03,\n",
       "       -1.5048e-01, -1.2313e-01,  1.9337e-01,  1.2173e-01,  4.4503e-01,\n",
       "        2.5147e-01,  1.0781e-01, -1.7716e-01,  3.8691e-02,  8.1530e-02,\n",
       "        1.4667e-01,  6.3666e-02,  6.1332e-02, -7.5569e-02, -3.7724e-01,\n",
       "        1.5850e-02, -3.0342e-01,  2.8374e-01, -4.2013e-02, -4.0715e-02,\n",
       "       -1.5269e-01,  7.4980e-02,  1.5577e-01,  1.0433e-01,  3.1393e-01,\n",
       "        1.9309e-01,  1.9429e-01,  1.5185e-01, -1.0192e-01, -1.8785e-02,\n",
       "        2.0791e-01,  1.3366e-01,  1.9038e-01, -2.5558e-01,  3.0400e-01,\n",
       "       -1.8960e-02,  2.0147e-01, -4.2110e-01, -7.5156e-03, -2.7977e-01,\n",
       "       -1.9314e-01,  4.6204e-02,  1.9971e-01, -3.0207e-01,  2.5735e-01,\n",
       "        6.8107e-01, -1.9409e-01,  2.3984e-01,  2.2493e-01,  6.5224e-01,\n",
       "       -1.3561e-01, -1.7383e-01, -4.8209e-02, -1.1860e-01,  2.1588e-03,\n",
       "       -1.9525e-02,  1.1948e-01,  1.9346e-01, -4.0820e-01, -8.2966e-02,\n",
       "        1.6626e-01, -1.0601e-01,  3.5861e-01,  1.6922e-01,  7.2590e-02,\n",
       "       -2.4803e-01, -1.0024e-01, -5.2491e-01, -1.7745e-01, -3.6647e-01,\n",
       "        2.6180e-01, -1.2077e-02,  8.3190e-02, -2.1528e-01,  4.1045e-01,\n",
       "        2.9136e-01,  3.0869e-01,  7.8864e-02,  3.2207e-01, -4.1023e-02,\n",
       "       -1.0970e-01, -9.2041e-02, -1.2339e-01, -1.6416e-01,  3.5382e-01,\n",
       "       -8.2774e-02,  3.3171e-01, -2.4738e-01, -4.8928e-02,  1.5746e-01,\n",
       "        1.8988e-01, -2.6642e-02,  6.3315e-02, -1.0673e-02,  3.4089e-01,\n",
       "        1.4106e+00,  1.3417e-01,  2.8191e-01, -2.5940e-01,  5.5267e-02,\n",
       "       -5.2425e-02, -2.5789e-01,  1.9127e-02, -2.2084e-02,  3.2113e-01,\n",
       "        6.8818e-02,  5.1207e-01,  1.6478e-01, -2.0194e-01,  2.9232e-01,\n",
       "        9.8575e-02,  1.3145e-02, -1.0652e-01,  1.3510e-01, -4.5332e-02,\n",
       "        2.0697e-01, -4.8425e-01, -4.4706e-01,  3.3305e-03,  2.9264e-03,\n",
       "       -1.0975e-01, -2.3325e-01,  2.2442e-01, -1.0503e-01,  1.2339e-01,\n",
       "        1.0978e-01,  4.8994e-02, -2.5157e-01,  4.0319e-01,  3.5318e-01,\n",
       "        1.8651e-01, -2.3622e-02, -1.2734e-01,  1.1475e-01,  2.7359e-01,\n",
       "       -2.1866e-01,  1.5794e-02,  8.1754e-01, -2.3792e-02, -8.5469e-01,\n",
       "       -1.6203e-01,  1.8076e-01,  2.8014e-02, -1.4340e-01,  1.3139e-03,\n",
       "       -9.1735e-02, -8.9704e-02,  1.1105e-01, -1.6703e-01,  6.8377e-02,\n",
       "       -8.7388e-02, -3.9789e-02,  1.4184e-02,  2.1187e-01,  2.8579e-01,\n",
       "       -2.8797e-01, -5.8996e-02, -3.2436e-02, -4.7009e-03, -1.7052e-01,\n",
       "       -3.4741e-02, -1.1489e-01,  7.5093e-02,  9.9526e-02,  4.8183e-02,\n",
       "       -7.3775e-02, -4.1817e-01,  4.1268e-03,  4.4414e-01, -1.6062e-01,\n",
       "        1.4294e-01, -2.2628e+00, -2.7347e-02,  8.1311e-01,  7.7417e-01,\n",
       "       -2.5639e-01, -1.1576e-01, -1.1982e-01, -2.1363e-01,  2.8429e-02,\n",
       "        2.7261e-01,  3.1026e-02,  9.6782e-02,  6.7769e-03,  1.4082e-01,\n",
       "       -1.3064e-02, -2.9686e-01, -7.9913e-02,  1.9500e-01,  3.1549e-02,\n",
       "        2.8506e-01, -8.7461e-02,  9.0611e-03, -2.0989e-01,  5.3913e-02],\n",
       "      dtype=float32)"
      ]
     },
     "execution_count": 42,
     "metadata": {
      "tags": []
     },
     "output_type": "execute_result"
    }
   ],
   "source": [
    "glove_dict = pickle.load(open('drive/My Drive/Colab Data/glove.6B.300d.pickle', 'rb'))\n",
    "print(len(glove_dict))\n",
    "glove_dict['the']"
   ]
  },
  {
   "cell_type": "code",
   "execution_count": 43,
   "metadata": {
    "colab": {
     "base_uri": "https://localhost:8080/",
     "height": 34
    },
    "colab_type": "code",
    "id": "aZ2lu-jkHr6P",
    "outputId": "c478978c-9863-4bac-8d67-29baddea2bc9"
   },
   "outputs": [
    {
     "data": {
      "text/plain": [
       "dict"
      ]
     },
     "execution_count": 43,
     "metadata": {
      "tags": []
     },
     "output_type": "execute_result"
    }
   ],
   "source": [
    "type(glove_dict)"
   ]
  },
  {
   "cell_type": "code",
   "execution_count": 44,
   "metadata": {
    "colab": {
     "base_uri": "https://localhost:8080/",
     "height": 34
    },
    "colab_type": "code",
    "id": "CFLdN4WMP4i2",
    "outputId": "2aabbac9-6a92-425e-e6ea-3e3e04e78c5b"
   },
   "outputs": [
    {
     "name": "stdout",
     "output_type": "stream",
     "text": [
      "words_found:  1275\n"
     ]
    }
   ],
   "source": [
    "weight_matrix = np.zeros((len(vocab), 300))\n",
    "weight_matrix.shape\n",
    "words_found = 0\n",
    "\n",
    "for i, word in enumerate(vocab):\n",
    "    try:\n",
    "        weight_matrix[i] = glove_dict[word]\n",
    "        words_found += 1\n",
    "    except KeyError:\n",
    "        weight_matrix[i] = np.random.normal(scale=0.6, size=(300,))\n",
    "\n",
    "print('words_found: ', words_found)\n",
    "\n",
    "# from keras.models import Sequential\n",
    "# from keras.layers import Embedding, LSTM, Dense, SpatialDropout1D\n",
    "# from keras.initializers import Constant\n",
    "# from sklearn.model_selection import train_test_split\n",
    "# from keras.optimizers import Adam\n",
    "\n",
    "# model = Sequential()\n",
    "\n",
    "# embedding = Embedding(num_words, 300, embeddings_initializer=Constant(embedding_matrix), input_length=MAX_LEN, trainable=False)\n",
    "# model.add(embedding)\n",
    "# model.add(SpatialDropout1D(0.2))\n",
    "# model.add(LSTM(128, dropout=0.2, recurrent_dropout=0.2, return_sequences=True))\n",
    "# model.add(LSTM(64, dropout=0.2, recurrent_dropout=0.2))\n",
    "# model.add(Dense(1, activation='sigmoid'))\n",
    "\n",
    "# optimizer = Adam(lr=1e-5)\n",
    "\n",
    "# model.compile(loss='binary_crossentropy', optimizer=optimizer, metrics=['accuracy'])\n",
    "\n",
    "# model.summary()\n",
    "\n",
    "# history = model.fit(x_train, y_train, batch_size=4, epochs=10, validation_data=(x_valid, y_valid), verbose=2)\n"
   ]
  },
  {
   "cell_type": "code",
   "execution_count": 76,
   "metadata": {
    "colab": {
     "base_uri": "https://localhost:8080/",
     "height": 34
    },
    "colab_type": "code",
    "id": "XhhmYqZTy4iQ",
    "outputId": "7324834d-32ea-49fa-96e3-daeba348fd06"
   },
   "outputs": [
    {
     "data": {
      "text/plain": [
       "(1295, 300)"
      ]
     },
     "execution_count": 76,
     "metadata": {
      "tags": []
     },
     "output_type": "execute_result"
    }
   ],
   "source": [
    "weight_matrix.shape"
   ]
  },
  {
   "cell_type": "code",
   "execution_count": 0,
   "metadata": {
    "colab": {},
    "colab_type": "code",
    "id": "ocJfFMvodlLr"
   },
   "outputs": [],
   "source": [
    "class GloveTextClassifier(nn.Module):\n",
    "    def __init__(self, weight_matrix, lstm_size, output_size, lstm_layers=1, dropout=0.1):\n",
    "        \"\"\"\n",
    "        Initialize the model\n",
    "        \"\"\"\n",
    "        super().__init__()\n",
    "        vocab_size, embed_size = weight_matrix.shape\n",
    "        self.lstm_size = lstm_size\n",
    "        self.output_size = output_size\n",
    "        self.lstm_layers = lstm_layers\n",
    "        self.dropout = dropout\n",
    "\n",
    "        self.embedding = nn.Embedding(vocab_size, embed_size)\n",
    "        self.embedding.load_state_dict({'weight': torch.tensor(weight_matrix)})\n",
    "        self.embedding.weight.requires_grad = False\n",
    "        self.lstm = nn.LSTM(embed_size, lstm_size, lstm_layers,\n",
    "                            dropout=dropout, batch_first=False)\n",
    "        self.dropout = nn.Dropout(0.2)\n",
    "        self.fc = nn.Linear(lstm_size, output_size)\n",
    "        self.softmax = nn.LogSoftmax(dim=1)\n",
    "\n",
    "    def init_hidden(self, batch_size):\n",
    "        \"\"\"\n",
    "        Initialize the hidden state\n",
    "        \"\"\"\n",
    "        weight = next(self.parameters()).data\n",
    "        hidden = (weight.new(self.lstm_layers, batch_size, self.lstm_size).zero_(),\n",
    "                  weight.new(self.lstm_layers, batch_size, self.lstm_size).zero_())\n",
    "        \n",
    "        return hidden\n",
    "\n",
    "    def forward(self, nn_input, hidden_state):\n",
    "        \"\"\"\n",
    "        Perform a forward pass of the model on nn_input\n",
    "        \"\"\"\n",
    "        batch_size = nn_input.size(0)\n",
    "        nn_input = nn_input.long()\n",
    "        embeds = self.embedding(nn_input)\n",
    "        lstm_out, hidden_state = self.lstm(embeds, hidden_state)\n",
    "        # Stack up LSTM outputs\n",
    "        lstm_out = lstm_out[-1,:,:]\n",
    "        out = self.dropout(lstm_out)\n",
    "        out = self.fc(out)\n",
    "        logps = self.softmax(out)\n",
    "\n",
    "        return logps, hidden_state\n",
    "\n"
   ]
  },
  {
   "cell_type": "markdown",
   "metadata": {
    "colab_type": "text",
    "id": "vpGkAMn81crm"
   },
   "source": [
    "### Training"
   ]
  },
  {
   "cell_type": "code",
   "execution_count": 87,
   "metadata": {
    "colab": {
     "base_uri": "https://localhost:8080/",
     "height": 136
    },
    "colab_type": "code",
    "id": "BqqEKOUReFuR",
    "outputId": "845e63d5-4980-4535-bc51-6974546233a0"
   },
   "outputs": [
    {
     "data": {
      "text/plain": [
       "GloveTextClassifier(\n",
       "  (embedding): Embedding(1295, 300)\n",
       "  (lstm): LSTM(300, 64, num_layers=2, dropout=0.2)\n",
       "  (dropout): Dropout(p=0.2, inplace=False)\n",
       "  (fc): Linear(in_features=64, out_features=3, bias=True)\n",
       "  (softmax): LogSoftmax()\n",
       ")"
      ]
     },
     "execution_count": 87,
     "metadata": {
      "tags": []
     },
     "output_type": "execute_result"
    }
   ],
   "source": [
    "device = torch.device('cuda' if torch.cuda.is_available() else 'cpu')\n",
    "model = GloveTextClassifier(weight_matrix, 64, 3, lstm_layers=2, dropout=0.2)\n",
    "model.to(device)"
   ]
  },
  {
   "cell_type": "code",
   "execution_count": 88,
   "metadata": {
    "colab": {
     "base_uri": "https://localhost:8080/",
     "height": 1000
    },
    "colab_type": "code",
    "id": "7FidXnIS5OQ9",
    "outputId": "7955cc5f-0eb0-4529-8d3e-3bb9800faf6a"
   },
   "outputs": [
    {
     "name": "stdout",
     "output_type": "stream",
     "text": [
      "Starting epoch 1\n",
      "Epoch: 1/3... Step: 10... Loss: 1.118890... Val Loss: 1.126027 Accuracy: 0.375000 F1 Score: 0.187500\n",
      "\n",
      "Epoch: 1, Average Accuracy: 0.37500000, Average f1: 0.18750000\n",
      "\n"
     ]
    },
    {
     "data": {
      "image/png": "[encoded data removed]",
      "text/plain": [
       "<Figure size 1080x432 with 2 Axes>"
      ]
     },
     "metadata": {
      "tags": []
     },
     "output_type": "display_data"
    },
    {
     "data": {
      "image/png": "[encoded data removed]",
      "text/plain": [
       "<Figure size 1080x432 with 2 Axes>"
      ]
     },
     "metadata": {
      "tags": []
     },
     "output_type": "display_data"
    },
    {
     "name": "stdout",
     "output_type": "stream",
     "text": [
      "Starting epoch 2\n",
      "Epoch: 2/3... Step: 10... Loss: 1.121853... Val Loss: 1.126769 Accuracy: 0.375000 F1 Score: 0.187500\n",
      "\n",
      "Epoch: 2, Average Accuracy: 0.37500000, Average f1: 0.18750000\n",
      "\n"
     ]
    },
    {
     "data": {
      "image/png": "[encoded data removed]",
      "text/plain": [
       "<Figure size 1080x432 with 2 Axes>"
      ]
     },
     "metadata": {
      "tags": []
     },
     "output_type": "display_data"
    },
    {
     "data": {
      "image/png": "[encoded data removed]",
      "text/plain": [
       "<Figure size 1080x432 with 2 Axes>"
      ]
     },
     "metadata": {
      "tags": []
     },
     "output_type": "display_data"
    },
    {
     "name": "stdout",
     "output_type": "stream",
     "text": [
      "Starting epoch 3\n",
      "Epoch: 3/3... Step: 10... Loss: 1.114906... Val Loss: 1.127368 Accuracy: 0.333333 F1 Score: 0.177778\n",
      "\n",
      "Epoch: 3, Average Accuracy: 0.33333333, Average f1: 0.17777778\n",
      "\n"
     ]
    },
    {
     "data": {
      "image/png": "[encoded data removed]",
      "text/plain": [
       "<Figure size 1080x432 with 2 Axes>"
      ]
     },
     "metadata": {
      "tags": []
     },
     "output_type": "display_data"
    },
    {
     "data": {
      "image/png": "[encoded data removed]",
      "text/plain": [
       "<Figure size 1080x432 with 2 Axes>"
      ]
     },
     "metadata": {
      "tags": []
     },
     "output_type": "display_data"
    }
   ],
   "source": [
    "epochs = 3\n",
    "batch_size = 8\n",
    "learning_rate = 1e-4\n",
    "sequence_length = 200\n",
    "clip=5\n",
    "\n",
    "print_every = 10\n",
    "criterion = nn.NLLLoss()\n",
    "optimizer = optim.Adam(model.parameters(), lr=learning_rate)\n",
    "model.train()\n",
    "\n",
    "for epoch in range(epochs):\n",
    "    print('Starting epoch {}'.format(epoch + 1))\n",
    "    hidden = model.init_hidden(batch_size)\n",
    "    steps = 0\n",
    "    y_valid_epoch = []\n",
    "    predicted_valid_epoch = []\n",
    "\n",
    "    for text_batch, labels in dataloader(\n",
    "            train_features, train_labels, batch_size=batch_size, sequence_length=sequence_length, shuffle=False):\n",
    "        steps += 1\n",
    "        # Skip the last batch of which size is not equal to batch_size\n",
    "        if text_batch.size(1) != batch_size:\n",
    "            break\n",
    "\n",
    "        # Creating new variables for the hidden state to avoid backprop entire training history\n",
    "        hidden = tuple([each.data for each in hidden])\n",
    "        \n",
    "        # Set Device\n",
    "        text_batch, labels = text_batch.to(device), labels.to(device)\n",
    "        for each in hidden:\n",
    "            each.to(device)\n",
    "        \n",
    "        # optimizer.zero_grad()\n",
    "        model.zero_grad()\n",
    "        \n",
    "        # Get output and hidden state from the model\n",
    "        output, hidden = model(text_batch, hidden)\n",
    "        \n",
    "        # Calculate the loss and perform backprop\n",
    "        loss = criterion(output, labels)\n",
    "        loss.backward()\n",
    "        \n",
    "        # Clip the gradient to prevent the exploading gradient problem in RNN/LSTM\n",
    "        nn.utils.clip_grad_norm_(model.parameters(), clip)\n",
    "        \n",
    "        # Optimize\n",
    "        optimizer.step()\n",
    "        \n",
    "        if steps % print_every == 0:\n",
    "            model.eval()\n",
    "            \n",
    "            valid_losses = []\n",
    "            accuracy = []\n",
    "            predicted_valid = []\n",
    "            y_valid = []\n",
    "            valid_hidden = model.init_hidden(batch_size)\n",
    "            \n",
    "            for text_batch, labels in dataloader(\n",
    "                    valid_features, valid_labels, batch_size=batch_size, sequence_length=sequence_length, shuffle=False):\n",
    "                \n",
    "                # Skip the last batch of which size is not equal to batch_size\n",
    "                if text_batch.size(1) != batch_size:\n",
    "                    break\n",
    "\n",
    "                # Initialize within the loop to use label shape because batch_size did not work\n",
    "                # valid_hidden = model.init_hidden(labels.shape[0])\n",
    " \n",
    "                # Creating new variables for the hidden state\n",
    "                valid_hidden = tuple([each.data for each in valid_hidden])\n",
    "                \n",
    "                # Set Device\n",
    "                text_batch, labels = text_batch.to(device), labels.to(device)\n",
    "                for each in valid_hidden:\n",
    "                    each.to(device)\n",
    "                \n",
    "                # Get output and hidden state from the model\n",
    "                valid_output, valid_hidden = model(text_batch, valid_hidden)\n",
    "                \n",
    "                # Calculate the loss\n",
    "                valid_loss = criterion(valid_output.squeeze(), labels)\n",
    "                valid_losses.append(valid_loss.item())\n",
    "                \n",
    "                # Accuracy\n",
    "                ps = torch.exp(valid_output)\n",
    "                top_p, top_class = ps.topk(1, dim=1)\n",
    "                equals = top_class == labels.view(*top_class.shape)\n",
    "                accuracy.append(torch.mean(equals.type(torch.FloatTensor)).item())\n",
    "\n",
    "                predicted_valid.extend(top_class.squeeze().cpu().numpy())\n",
    "                y_valid.extend(labels.view(*top_class.shape).squeeze().cpu().numpy())\n",
    "                \n",
    "            model.train()\n",
    "            acc, f1 = metric(y_valid, predicted_valid)\n",
    "            predicted_valid_epoch.extend(predicted_valid)\n",
    "            y_valid_epoch.extend(y_valid)\n",
    "\n",
    "            print(\"Epoch: {}/{}...\".format(epoch+1, epochs),\n",
    "                  \"Step: {}...\".format(steps),\n",
    "                  \"Loss: {:.6f}...\".format(loss.item()),\n",
    "                  \"Val Loss: {:.6f}\".format(np.mean(valid_losses)),\n",
    "                  \"Accuracy: {:.6f}\".format(acc),\n",
    "                  \"F1 Score: {:.6f}\".format(f1))\n",
    "\n",
    "    class_names = ['Lower', 'Hold', 'Raise']\n",
    "    y_valid_class = [class_names[int(idx)] for idx in y_valid]\n",
    "    predicted_valid_class = [class_names[int(idx)] for idx in predicted_valid]\n",
    "    titles_options = [(\"Confusion matrix, without normalization\", None), (\"Normalized confusion matrix\", 'true')]\n",
    "    for title, normalize in titles_options:\n",
    "        disp = skplt.metrics.plot_confusion_matrix(y_valid_class, predicted_valid_class, normalize=normalize, title=title)\n",
    "    acc, f1 = metric(y_valid_class, predicted_valid_class)\n",
    "    print(\"\\nEpoch: %d, Average Accuracy: %.8f, Average f1: %.8f\\n\" % (epoch+1, acc, f1))\n",
    "    plt.show()\n"
   ]
  },
  {
   "cell_type": "code",
   "execution_count": 0,
   "metadata": {
    "colab": {},
    "colab_type": "code",
    "id": "Id_rhmsNC_6o"
   },
   "outputs": [],
   "source": [
    "# # Save results to Drive\n",
    "# file = open('drive/My Drive/Colab Data/statement_trained_df.pickle', 'wb')\n",
    "# pickle.dump(train_df, file)\n",
    "# file.close()\n",
    "\n",
    "# train_df.to_csv('drive/My Drive/Colab Data/statement_trained_df.csv', index=False)"
   ]
  },
  {
   "cell_type": "code",
   "execution_count": 0,
   "metadata": {
    "colab": {},
    "colab_type": "code",
    "id": "x1IDpp-RUIJY"
   },
   "outputs": [],
   "source": []
  }
 ],
 "metadata": {
  "accelerator": "GPU",
  "colab": {
   "collapsed_sections": [],
   "name": "FOMC_Analysis_BaselineModels.ipynb",
   "provenance": [],
   "toc_visible": true
  },
  "kernelspec": {
   "display_name": "Python 3",
   "language": "python",
   "name": "python3"
  },
  "language_info": {
   "codemirror_mode": {
    "name": "ipython",
    "version": 3
   },
   "file_extension": ".py",
   "mimetype": "text/x-python",
   "name": "python",
   "nbconvert_exporter": "python",
   "pygments_lexer": "ipython3",
   "version": "3.7.4"
  },
  "widgets": {
   "application/vnd.jupyter.widget-state+json": {
    "24653349f70041d1935b5a0652271680": {
     "model_module": "@jupyter-widgets/controls",
     "model_name": "ProgressStyleModel",
     "state": {
      "_model_module": "@jupyter-widgets/controls",
      "_model_module_version": "1.5.0",
      "_model_name": "ProgressStyleModel",
      "_view_count": null,
      "_view_module": "@jupyter-widgets/base",
      "_view_module_version": "1.2.0",
      "_view_name": "StyleView",
      "bar_color": null,
      "description_width": "initial"
     }
    },
    "72f9bca9b45f4c5a91039719cb4d2d90": {
     "model_module": "@jupyter-widgets/controls",
     "model_name": "FloatProgressModel",
     "state": {
      "_dom_classes": [],
      "_model_module": "@jupyter-widgets/controls",
      "_model_module_version": "1.5.0",
      "_model_name": "FloatProgressModel",
      "_view_count": null,
      "_view_module": "@jupyter-widgets/controls",
      "_view_module_version": "1.5.0",
      "_view_name": "ProgressView",
      "bar_style": "success",
      "description": "100%",
      "description_tooltip": null,
      "layout": "IPY_MODEL_ec205d4e972847fc8a9eab489180b2fe",
      "max": 192,
      "min": 0,
      "orientation": "horizontal",
      "style": "IPY_MODEL_24653349f70041d1935b5a0652271680",
      "value": 192
     }
    },
    "7dbb928b5f6c4621b46e1ca9a3b5b846": {
     "model_module": "@jupyter-widgets/base",
     "model_name": "LayoutModel",
     "state": {
      "_model_module": "@jupyter-widgets/base",
      "_model_module_version": "1.2.0",
      "_model_name": "LayoutModel",
      "_view_count": null,
      "_view_module": "@jupyter-widgets/base",
      "_view_module_version": "1.2.0",
      "_view_name": "LayoutView",
      "align_content": null,
      "align_items": null,
      "align_self": null,
      "border": null,
      "bottom": null,
      "display": null,
      "flex": null,
      "flex_flow": null,
      "grid_area": null,
      "grid_auto_columns": null,
      "grid_auto_flow": null,
      "grid_auto_rows": null,
      "grid_column": null,
      "grid_gap": null,
      "grid_row": null,
      "grid_template_areas": null,
      "grid_template_columns": null,
      "grid_template_rows": null,
      "height": null,
      "justify_content": null,
      "justify_items": null,
      "left": null,
      "margin": null,
      "max_height": null,
      "max_width": null,
      "min_height": null,
      "min_width": null,
      "object_fit": null,
      "object_position": null,
      "order": null,
      "overflow": null,
      "overflow_x": null,
      "overflow_y": null,
      "padding": null,
      "right": null,
      "top": null,
      "visibility": null,
      "width": null
     }
    },
    "9c942dab3c154ee38c38449a1cef9116": {
     "model_module": "@jupyter-widgets/controls",
     "model_name": "HBoxModel",
     "state": {
      "_dom_classes": [],
      "_model_module": "@jupyter-widgets/controls",
      "_model_module_version": "1.5.0",
      "_model_name": "HBoxModel",
      "_view_count": null,
      "_view_module": "@jupyter-widgets/controls",
      "_view_module_version": "1.5.0",
      "_view_name": "HBoxView",
      "box_style": "",
      "children": [
       "IPY_MODEL_72f9bca9b45f4c5a91039719cb4d2d90",
       "IPY_MODEL_c6852d04b6d140a49b09a47402fbb273"
      ],
      "layout": "IPY_MODEL_7dbb928b5f6c4621b46e1ca9a3b5b846"
     }
    },
    "b13309c60ef8446488a8d27ceac40696": {
     "model_module": "@jupyter-widgets/base",
     "model_name": "LayoutModel",
     "state": {
      "_model_module": "@jupyter-widgets/base",
      "_model_module_version": "1.2.0",
      "_model_name": "LayoutModel",
      "_view_count": null,
      "_view_module": "@jupyter-widgets/base",
      "_view_module_version": "1.2.0",
      "_view_name": "LayoutView",
      "align_content": null,
      "align_items": null,
      "align_self": null,
      "border": null,
      "bottom": null,
      "display": null,
      "flex": null,
      "flex_flow": null,
      "grid_area": null,
      "grid_auto_columns": null,
      "grid_auto_flow": null,
      "grid_auto_rows": null,
      "grid_column": null,
      "grid_gap": null,
      "grid_row": null,
      "grid_template_areas": null,
      "grid_template_columns": null,
      "grid_template_rows": null,
      "height": null,
      "justify_content": null,
      "justify_items": null,
      "left": null,
      "margin": null,
      "max_height": null,
      "max_width": null,
      "min_height": null,
      "min_width": null,
      "object_fit": null,
      "object_position": null,
      "order": null,
      "overflow": null,
      "overflow_x": null,
      "overflow_y": null,
      "padding": null,
      "right": null,
      "top": null,
      "visibility": null,
      "width": null
     }
    },
    "c6852d04b6d140a49b09a47402fbb273": {
     "model_module": "@jupyter-widgets/controls",
     "model_name": "HTMLModel",
     "state": {
      "_dom_classes": [],
      "_model_module": "@jupyter-widgets/controls",
      "_model_module_version": "1.5.0",
      "_model_name": "HTMLModel",
      "_view_count": null,
      "_view_module": "@jupyter-widgets/controls",
      "_view_module_version": "1.5.0",
      "_view_name": "HTMLView",
      "description": "",
      "description_tooltip": null,
      "layout": "IPY_MODEL_b13309c60ef8446488a8d27ceac40696",
      "placeholder": "​",
      "style": "IPY_MODEL_cc839a3d2a5c41f09dd3c08dffeff5bf",
      "value": " 192/192 [1:19:30&lt;00:00, 24.85s/it]"
     }
    },
    "cc839a3d2a5c41f09dd3c08dffeff5bf": {
     "model_module": "@jupyter-widgets/controls",
     "model_name": "DescriptionStyleModel",
     "state": {
      "_model_module": "@jupyter-widgets/controls",
      "_model_module_version": "1.5.0",
      "_model_name": "DescriptionStyleModel",
      "_view_count": null,
      "_view_module": "@jupyter-widgets/base",
      "_view_module_version": "1.2.0",
      "_view_name": "StyleView",
      "description_width": ""
     }
    },
    "ec205d4e972847fc8a9eab489180b2fe": {
     "model_module": "@jupyter-widgets/base",
     "model_name": "LayoutModel",
     "state": {
      "_model_module": "@jupyter-widgets/base",
      "_model_module_version": "1.2.0",
      "_model_name": "LayoutModel",
      "_view_count": null,
      "_view_module": "@jupyter-widgets/base",
      "_view_module_version": "1.2.0",
      "_view_name": "LayoutView",
      "align_content": null,
      "align_items": null,
      "align_self": null,
      "border": null,
      "bottom": null,
      "display": null,
      "flex": null,
      "flex_flow": null,
      "grid_area": null,
      "grid_auto_columns": null,
      "grid_auto_flow": null,
      "grid_auto_rows": null,
      "grid_column": null,
      "grid_gap": null,
      "grid_row": null,
      "grid_template_areas": null,
      "grid_template_columns": null,
      "grid_template_rows": null,
      "height": null,
      "justify_content": null,
      "justify_items": null,
      "left": null,
      "margin": null,
      "max_height": null,
      "max_width": null,
      "min_height": null,
      "min_width": null,
      "object_fit": null,
      "object_position": null,
      "order": null,
      "overflow": null,
      "overflow_x": null,
      "overflow_y": null,
      "padding": null,
      "right": null,
      "top": null,
      "visibility": null,
      "width": null
     }
    }
   }
  }
 },
 "nbformat": 4,
 "nbformat_minor": 1
}
